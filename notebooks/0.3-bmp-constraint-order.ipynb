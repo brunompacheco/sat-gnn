{
 "cells": [
  {
   "cell_type": "code",
   "execution_count": 1,
   "metadata": {},
   "outputs": [],
   "source": [
    "%load_ext autoreload\n",
    "%autoreload 2\n",
    "\n",
    "import sys\n",
    "sys.path.append('..')  # enable import from src/"
   ]
  },
  {
   "cell_type": "code",
   "execution_count": 2,
   "metadata": {},
   "outputs": [],
   "source": [
    "import gurobipy\n",
    "import numpy as np"
   ]
  },
  {
   "cell_type": "code",
   "execution_count": 17,
   "metadata": {},
   "outputs": [
    {
     "data": {
      "text/plain": [
       "array([[ 1.,  0.],\n",
       "       [ 0.,  1.],\n",
       "       [-1.,  1.]])"
      ]
     },
     "execution_count": 17,
     "metadata": {},
     "output_type": "execute_result"
    }
   ],
   "source": [
    "model = gurobipy.Model()\n",
    "\n",
    "x1 = model.addVar(name='x1', vtype=gurobipy.GRB.BINARY)\n",
    "x2 = model.addVar(name='x2', vtype=gurobipy.GRB.BINARY)\n",
    "\n",
    "model.setObjective(1*x2 + 2*x1, gurobipy.GRB.MAXIMIZE)\n",
    "\n",
    "model.addConstr(x1 >= 3)\n",
    "model.addConstr(x2 <= 5)\n",
    "model.addConstr(x2 - x1 == 1)\n",
    "\n",
    "model.update()\n",
    "\n",
    "model.getA().toarray()"
   ]
  },
  {
   "cell_type": "code",
   "execution_count": 20,
   "metadata": {},
   "outputs": [
    {
     "data": {
      "text/plain": [
       "['>', '<', '=']"
      ]
     },
     "execution_count": 20,
     "metadata": {},
     "output_type": "execute_result"
    }
   ],
   "source": [
    "[c.sense for c in model.getConstrs()]"
   ]
  },
  {
   "cell_type": "code",
   "execution_count": 18,
   "metadata": {},
   "outputs": [
    {
     "data": {
      "text/plain": [
       "[3.0, 5.0, 1.0]"
      ]
     },
     "execution_count": 18,
     "metadata": {},
     "output_type": "execute_result"
    }
   ],
   "source": [
    "model.getAttr('rhs')"
   ]
  },
  {
   "cell_type": "code",
   "execution_count": 19,
   "metadata": {},
   "outputs": [
    {
     "data": {
      "text/plain": [
       "[2.0, 1.0]"
      ]
     },
     "execution_count": 19,
     "metadata": {},
     "output_type": "execute_result"
    }
   ],
   "source": [
    "model.getAttr('obj')"
   ]
  },
  {
   "cell_type": "code",
   "execution_count": 36,
   "metadata": {},
   "outputs": [
    {
     "data": {
      "text/plain": [
       "((5067, 1746), (5067,), (1746,))"
      ]
     },
     "execution_count": 36,
     "metadata": {},
     "output_type": "execute_result"
    }
   ],
   "source": [
    "from src.data import oracle, load_instance\n",
    "\n",
    "instance = load_instance('../data/raw/97_9.jl')\n",
    "T = instance['tamanho'][0]\n",
    "J = instance['jobs'][0]\n",
    "\n",
    "model = oracle(list(range(J)), instance)\n",
    "\n",
    "A = model.getA().toarray()\n",
    "b = np.array(model.getAttr('rhs'))\n",
    "c = np.array(model.getAttr('obj'))\n",
    "\n",
    "A.shape, b.shape, c.shape"
   ]
  },
  {
   "cell_type": "code",
   "execution_count": 46,
   "metadata": {},
   "outputs": [
    {
     "data": {
      "text/plain": [
       "((5067, 1746), (5067,))"
      ]
     },
     "execution_count": 46,
     "metadata": {},
     "output_type": "execute_result"
    }
   ],
   "source": [
    "constraints_sense = np.array([c.sense for c in model.getConstrs()])\n",
    "\n",
    "A[constraints_sense == '<'] *= -1\n",
    "b[constraints_sense == '<'] *= -1\n",
    "\n",
    "A_ineq = A[constraints_sense != '=']\n",
    "b_ineq = b[constraints_sense != '=']\n",
    "A_eq = A[constraints_sense == '=']\n",
    "b_eq = b[constraints_sense == '=']\n",
    "\n",
    "A = np.concatenate((A_ineq, A_eq), axis=0)\n",
    "b = np.concatenate((b_ineq, b_eq), axis=0)"
   ]
  }
 ],
 "metadata": {
  "kernelspec": {
   "display_name": "gnns",
   "language": "python",
   "name": "python3"
  },
  "language_info": {
   "codemirror_mode": {
    "name": "ipython",
    "version": 3
   },
   "file_extension": ".py",
   "mimetype": "text/x-python",
   "name": "python",
   "nbconvert_exporter": "python",
   "pygments_lexer": "ipython3",
   "version": "3.10.9"
  },
  "orig_nbformat": 4,
  "vscode": {
   "interpreter": {
    "hash": "2b5834c5769e5fff224335f9b3e429823ee0ced96648f4497a08815e8d6b510a"
   }
  }
 },
 "nbformat": 4,
 "nbformat_minor": 2
}
