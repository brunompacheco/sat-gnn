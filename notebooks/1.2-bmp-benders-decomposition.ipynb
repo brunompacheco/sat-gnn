{
 "cells": [
  {
   "cell_type": "code",
   "execution_count": 1,
   "metadata": {},
   "outputs": [],
   "source": [
    "%load_ext autoreload\n",
    "%autoreload 2\n",
    "\n",
    "import sys\n",
    "sys.path.append('..')  # enable import from src/"
   ]
  },
  {
   "cell_type": "code",
   "execution_count": 16,
   "metadata": {},
   "outputs": [],
   "source": [
    "import re\n",
    "import pickle\n",
    "from pathlib import Path\n",
    "\n",
    "import gurobipy\n",
    "from gurobipy import GRB\n",
    "import dgl\n",
    "import numpy as np\n",
    "import torch\n",
    "\n",
    "from src.problem import get_model, get_benders_cut, load_instance, get_feasible"
   ]
  },
  {
   "cell_type": "code",
   "execution_count": 6,
   "metadata": {},
   "outputs": [
    {
     "name": "stdout",
     "output_type": "stream",
     "text": [
      "../data/raw/97_9_1.jl\n"
     ]
    },
    {
     "data": {
      "text/plain": [
       "(1746,)"
      ]
     },
     "execution_count": 6,
     "metadata": {},
     "output_type": "execute_result"
    }
   ],
   "source": [
    "instances = sorted(list(Path('../data/raw').glob('97_9*.jl')))\n",
    "\n",
    "i = 1\n",
    "print(instances[i])\n",
    "instance = load_instance(instances[i])\n",
    "\n",
    "J = instance['jobs'][0]\n",
    "T = instance['tamanho'][0]\n",
    "uso_p = instance['uso_p']\n",
    "recurso_p = instance['recurso_p']\n",
    "\n",
    "jobs = list(range(J))\n",
    "model = get_model(jobs, instance, coupling=True)\n",
    "\n",
    "with open('../97_9_opts.pkl', 'rb') as f:\n",
    "    opts = pickle.load(f)\n",
    "\n",
    "x_opt = opts[instances[i].name]['sol']\n",
    "x_opt.shape"
   ]
  },
  {
   "cell_type": "code",
   "execution_count": 7,
   "metadata": {},
   "outputs": [],
   "source": [
    "model_vars = np.core.defchararray.array([v.getAttr(GRB.Attr.VarName) for v in model.getVars()])\n",
    "model_vars = model_vars[(model_vars.find('x') >= 0) | (model_vars.find('phi') >= 0)]  # drop soc vars\n",
    "sol = x_opt[model_vars.find('x') == -1]\n",
    "sol_vars = model_vars[model_vars.find('phi') == -1]\n",
    "\n",
    "sol_idx = [re.fullmatch(r\"x\\((\\d+),(\\d+)\\)\", s_v).groups() for s_v in sol_vars]\n",
    "sol_idx = np.array(list(map(lambda jt: list(map(int, jt)), sol_idx)))"
   ]
  },
  {
   "cell_type": "code",
   "execution_count": 10,
   "metadata": {},
   "outputs": [
    {
     "name": "stdout",
     "output_type": "stream",
     "text": [
      "Set parameter InfUnbdInfo to value 1\n"
     ]
    }
   ],
   "source": [
    "x_cand_opt = np.zeros_like(sol).reshape((J, T))\n",
    "for sol_jt, (j, t) in zip(sol, sol_idx):\n",
    "    x_cand_opt[j,t] = sol_jt\n",
    "\n",
    "assert get_benders_cut(instance, x_cand_opt) is None, \"Optimal is not BSP feasible!\""
   ]
  },
  {
   "cell_type": "code",
   "execution_count": 11,
   "metadata": {},
   "outputs": [
    {
     "name": "stdout",
     "output_type": "stream",
     "text": [
      "Set parameter InfUnbdInfo to value 1\n",
      "False\n",
      "True\n"
     ]
    }
   ],
   "source": [
    "x_cand_dummy = np.ones_like(x_cand_opt)\n",
    "\n",
    "cut_w, cut_b = get_benders_cut(instance, x_cand_dummy)\n",
    "\n",
    "print((cut_w * x_cand_dummy).sum() + cut_b >= 0)\n",
    "print((cut_w * x_cand_opt).sum() + cut_b >= 0)"
   ]
  },
  {
   "attachments": {},
   "cell_type": "markdown",
   "metadata": {},
   "source": [
    "Applying Benders by solving the master with Gurobi:"
   ]
  },
  {
   "cell_type": "code",
   "execution_count": 12,
   "metadata": {},
   "outputs": [
    {
     "name": "stdout",
     "output_type": "stream",
     "text": [
      "../data/raw/97_9.jl\n"
     ]
    },
    {
     "data": {
      "text/plain": [
       "2"
      ]
     },
     "execution_count": 12,
     "metadata": {},
     "output_type": "execute_result"
    }
   ],
   "source": [
    "instances = sorted(list(Path('../data/raw').glob('97_9*.jl')))\n",
    "\n",
    "i = 0\n",
    "print(instances[i])\n",
    "instance = load_instance(instances[i])\n",
    "\n",
    "J = instance['jobs'][0]\n",
    "T = instance['tamanho'][0]\n",
    "uso_p = instance['uso_p']\n",
    "recurso_p = instance['recurso_p']\n",
    "\n",
    "with open('../97_9_opts.pkl', 'rb') as f:\n",
    "    opts = pickle.load(f)\n",
    "\n",
    "x_opt = opts[instances[i].name]['sol']\n",
    "\n",
    "# solve problem without coupling constraints\n",
    "model = get_model(jobs, instance, coupling=False, new_ineq=True)\n",
    "model.setParam('TimeLimit', 960)\n",
    "model.optimize()\n",
    "model.status"
   ]
  },
  {
   "cell_type": "code",
   "execution_count": 13,
   "metadata": {},
   "outputs": [
    {
     "name": "stdout",
     "output_type": "stream",
     "text": [
      "Set parameter InfUnbdInfo to value 1\n",
      "False\n",
      "True\n"
     ]
    }
   ],
   "source": [
    "x_cand = np.zeros((J,T))\n",
    "for var in model.getVars():\n",
    "    var_name = var.getAttr(GRB.Attr.VarName)\n",
    "    try:\n",
    "        j, t = re.match(r\"x\\((\\d+),(\\d+)\\)\",var_name).groups()\n",
    "        j = int(j)\n",
    "        t = int(t)\n",
    "        x_cand[j,t] = var.X\n",
    "    except AttributeError:\n",
    "        continue\n",
    "cut_w, cut_b = get_benders_cut(instance, x_cand)\n",
    "\n",
    "print((cut_w * x_cand).sum() + cut_b >= 0)\n",
    "print((cut_w * x_cand_opt).sum() + cut_b >= 0)"
   ]
  },
  {
   "cell_type": "code",
   "execution_count": 14,
   "metadata": {},
   "outputs": [
    {
     "data": {
      "text/plain": [
       "2"
      ]
     },
     "execution_count": 14,
     "metadata": {},
     "output_type": "execute_result"
    }
   ],
   "source": [
    "model.addConstr(\n",
    "    sum(cut_w[j,t] * model.getVarByName(f\"x({j},{t})\")\n",
    "        for j in range(J) for t in range(T))\n",
    "    + cut_b >= 0\n",
    ")\n",
    "model.update()\n",
    "# model.setParam('TimeLimit', 960)\n",
    "model.optimize()\n",
    "model.status"
   ]
  },
  {
   "cell_type": "code",
   "execution_count": 15,
   "metadata": {},
   "outputs": [
    {
     "name": "stdout",
     "output_type": "stream",
     "text": [
      "Set parameter InfUnbdInfo to value 1\n"
     ]
    }
   ],
   "source": [
    "new_x_cand = np.zeros((J,T))\n",
    "for var in model.getVars():\n",
    "    var_name = var.getAttr(GRB.Attr.VarName)\n",
    "    try:\n",
    "        j, t = re.match(r\"x\\((\\d+),(\\d+)\\)\",var_name).groups()\n",
    "        j = int(j)\n",
    "        t = int(t)\n",
    "        new_x_cand[j,t] = var.X\n",
    "    except AttributeError:\n",
    "        continue\n",
    "get_benders_cut(instance, new_x_cand)"
   ]
  },
  {
   "attachments": {},
   "cell_type": "markdown",
   "metadata": {},
   "source": [
    "Benders with feasibility recovery:"
   ]
  },
  {
   "cell_type": "code",
   "execution_count": 36,
   "metadata": {},
   "outputs": [
    {
     "name": "stdout",
     "output_type": "stream",
     "text": [
      "../data/raw/97_9.jl\n"
     ]
    },
    {
     "data": {
      "text/plain": [
       "617"
      ]
     },
     "execution_count": 36,
     "metadata": {},
     "output_type": "execute_result"
    }
   ],
   "source": [
    "instances = sorted(list(Path('../data/raw').glob('97_9*.jl')))\n",
    "\n",
    "i = 0\n",
    "print(instances[i])\n",
    "instance = load_instance(instances[i])\n",
    "\n",
    "J = instance['jobs'][0]\n",
    "T = instance['tamanho'][0]\n",
    "\n",
    "with open('../97_9_opts.pkl', 'rb') as f:\n",
    "    opts = pickle.load(f)\n",
    "\n",
    "x_opt = opts[instances[i].name]['sol']\n",
    "\n",
    "x_cand_dummy = np.ones_like(x_cand_opt, dtype=int)\n",
    "\n",
    "# solve problem without coupling constraints\n",
    "model = get_model(jobs, instance, coupling=False, new_ineq=False)\n",
    "\n",
    "x_cand_feasible = get_feasible(model, x_cand_dummy, instance)\n",
    "x_cand_feasible.sum()"
   ]
  },
  {
   "cell_type": "code",
   "execution_count": 37,
   "metadata": {},
   "outputs": [
    {
     "name": "stdout",
     "output_type": "stream",
     "text": [
      "Set parameter InfUnbdInfo to value 1\n",
      "True\n",
      "False\n",
      "True\n"
     ]
    },
    {
     "data": {
      "text/plain": [
       "603"
      ]
     },
     "execution_count": 37,
     "metadata": {},
     "output_type": "execute_result"
    }
   ],
   "source": [
    "cut_w, cut_b = get_benders_cut(instance, x_cand_feasible)\n",
    "\n",
    "print((cut_w * x_cand_opt).sum() + cut_b >= 0)\n",
    "print((cut_w * x_cand_feasible).sum() + cut_b >= 0)\n",
    "\n",
    "model.addConstr(\n",
    "    sum(cut_w[j,t] * model.getVarByName(f\"x({j},{t})\")\n",
    "        for j in range(J) for t in range(T))\n",
    "    + cut_b >= 0\n",
    ")\n",
    "model.update()\n",
    "new_x_cand_feasible = get_feasible(model, x_cand_feasible, instance)\n",
    "\n",
    "print((cut_w * new_x_cand_feasible).sum() + cut_b >= 0)\n",
    "\n",
    "new_x_cand_feasible.sum()"
   ]
  },
  {
   "cell_type": "code",
   "execution_count": 38,
   "metadata": {},
   "outputs": [
    {
     "name": "stdout",
     "output_type": "stream",
     "text": [
      "Set parameter InfUnbdInfo to value 1\n",
      "True\n",
      "False\n",
      "False\n",
      "True\n"
     ]
    },
    {
     "data": {
      "text/plain": [
       "594"
      ]
     },
     "execution_count": 38,
     "metadata": {},
     "output_type": "execute_result"
    }
   ],
   "source": [
    "cut_w, cut_b = get_benders_cut(instance, new_x_cand_feasible)\n",
    "\n",
    "print((cut_w * x_cand_opt).sum() + cut_b >= 0)\n",
    "print((cut_w * x_cand_feasible).sum() + cut_b >= 0)\n",
    "print((cut_w * new_x_cand_feasible).sum() + cut_b >= 0)\n",
    "\n",
    "model.addConstr(\n",
    "    sum(cut_w[j,t] * model.getVarByName(f\"x({j},{t})\")\n",
    "        for j in range(J) for t in range(T))\n",
    "    + cut_b >= 0\n",
    ")\n",
    "model.update()\n",
    "new_new_x_cand_feasible = get_feasible(model, new_x_cand_feasible, instance)\n",
    "\n",
    "print((cut_w * new_new_x_cand_feasible).sum() + cut_b >= 0)\n",
    "\n",
    "new_new_x_cand_feasible.sum()"
   ]
  },
  {
   "cell_type": "code",
   "execution_count": 39,
   "metadata": {},
   "outputs": [
    {
     "name": "stdout",
     "output_type": "stream",
     "text": [
      "Set parameter InfUnbdInfo to value 1\n"
     ]
    },
    {
     "ename": "TypeError",
     "evalue": "cannot unpack non-iterable NoneType object",
     "output_type": "error",
     "traceback": [
      "\u001b[0;31m---------------------------------------------------------------------------\u001b[0m",
      "\u001b[0;31mTypeError\u001b[0m                                 Traceback (most recent call last)",
      "Cell \u001b[0;32mIn[39], line 1\u001b[0m\n\u001b[0;32m----> 1\u001b[0m cut_w, cut_b \u001b[39m=\u001b[39m get_benders_cut(instance, new_new_x_cand_feasible)\n\u001b[1;32m      3\u001b[0m \u001b[39mprint\u001b[39m((cut_w \u001b[39m*\u001b[39m x_cand_opt)\u001b[39m.\u001b[39msum() \u001b[39m+\u001b[39m cut_b \u001b[39m>\u001b[39m\u001b[39m=\u001b[39m \u001b[39m0\u001b[39m)\n\u001b[1;32m      4\u001b[0m \u001b[39mprint\u001b[39m((cut_w \u001b[39m*\u001b[39m x_cand_feasible)\u001b[39m.\u001b[39msum() \u001b[39m+\u001b[39m cut_b \u001b[39m>\u001b[39m\u001b[39m=\u001b[39m \u001b[39m0\u001b[39m)\n",
      "\u001b[0;31mTypeError\u001b[0m: cannot unpack non-iterable NoneType object"
     ]
    }
   ],
   "source": [
    "cut_w, cut_b = get_benders_cut(instance, new_new_x_cand_feasible)\n",
    "\n",
    "print((cut_w * x_cand_opt).sum() + cut_b >= 0)\n",
    "print((cut_w * x_cand_feasible).sum() + cut_b >= 0)\n",
    "print((cut_w * new_x_cand_feasible).sum() + cut_b >= 0)\n",
    "print((cut_w * new_new_x_cand_feasible).sum() + cut_b >= 0)\n",
    "\n",
    "model.addConstr(\n",
    "    sum(cut_w[j,t] * model.getVarByName(f\"x({j},{t})\")\n",
    "        for j in range(J) for t in range(T))\n",
    "    + cut_b >= 0\n",
    ")\n",
    "model.update()\n",
    "new_new_new_x_cand_feasible = get_feasible(model, new_new_x_cand_feasible, instance)\n",
    "\n",
    "print((cut_w * new_new_new_x_cand_feasible).sum() + cut_b >= 0)\n",
    "\n",
    "new_new_new_x_cand_feasible.sum()"
   ]
  },
  {
   "cell_type": "code",
   "execution_count": 42,
   "metadata": {},
   "outputs": [
    {
     "data": {
      "text/plain": [
       "587"
      ]
     },
     "execution_count": 42,
     "metadata": {},
     "output_type": "execute_result"
    }
   ],
   "source": [
    "(new_new_x_cand_feasible != x_cand_opt).sum()"
   ]
  }
 ],
 "metadata": {
  "kernelspec": {
   "display_name": "gnns",
   "language": "python",
   "name": "python3"
  },
  "language_info": {
   "codemirror_mode": {
    "name": "ipython",
    "version": 3
   },
   "file_extension": ".py",
   "mimetype": "text/x-python",
   "name": "python",
   "nbconvert_exporter": "python",
   "pygments_lexer": "ipython3",
   "version": "3.10.9"
  },
  "orig_nbformat": 4,
  "vscode": {
   "interpreter": {
    "hash": "2b5834c5769e5fff224335f9b3e429823ee0ced96648f4497a08815e8d6b510a"
   }
  }
 },
 "nbformat": 4,
 "nbformat_minor": 2
}
