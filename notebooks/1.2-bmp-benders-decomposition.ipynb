{
 "cells": [
  {
   "cell_type": "code",
   "execution_count": 1,
   "metadata": {},
   "outputs": [],
   "source": [
    "%load_ext autoreload\n",
    "%autoreload 2\n",
    "\n",
    "import sys\n",
    "sys.path.append('..')  # enable import from src/"
   ]
  },
  {
   "cell_type": "code",
   "execution_count": 43,
   "metadata": {},
   "outputs": [],
   "source": [
    "import re\n",
    "import pickle\n",
    "from pathlib import Path\n",
    "\n",
    "import gurobipy\n",
    "from gurobipy import GRB\n",
    "import dgl\n",
    "import numpy as np\n",
    "import torch\n",
    "\n",
    "from src.data import get_model, get_soc, load_instance"
   ]
  },
  {
   "cell_type": "code",
   "execution_count": 54,
   "metadata": {},
   "outputs": [
    {
     "data": {
      "text/plain": [
       "(1746,)"
      ]
     },
     "execution_count": 54,
     "metadata": {},
     "output_type": "execute_result"
    }
   ],
   "source": [
    "instances = sorted(list(Path('../data/raw').glob('97_9*.jl')))\n",
    "\n",
    "instance = load_instance(instances[0])\n",
    "\n",
    "J = instance['jobs'][0]\n",
    "T = instance['tamanho'][0]\n",
    "uso_p = instance['uso_p']\n",
    "recurso_p = instance['recurso_p']\n",
    "\n",
    "jobs = list(range(J))\n",
    "model = get_model(jobs, instance, coupling=True)\n",
    "\n",
    "with open('../97_9_opts.pkl', 'rb') as f:\n",
    "    opts = pickle.load(f)\n",
    "\n",
    "x_opt = opts[instances[0].name]['sol']\n",
    "x_opt.shape"
   ]
  },
  {
   "cell_type": "code",
   "execution_count": 69,
   "metadata": {},
   "outputs": [],
   "source": [
    "model_vars = np.core.defchararray.array([v.getAttr(GRB.Attr.VarName) for v in model.getVars()])\n",
    "model_vars = model_vars[model_vars.find('soc') == -1]  # drop soc vars\n",
    "sol = x_opt[model_vars.find('phi') == -1]\n",
    "sol_vars = model_vars[model_vars.find('phi') == -1]\n",
    "\n",
    "sol_idx = [re.fullmatch(r\"x\\((\\d+),(\\d+)\\)\", s_v).groups() for s_v in sol_vars]\n",
    "sol_idx = np.array(list(map(lambda jt: list(map(int, jt)), sol_idx)))\n",
    "\n",
    "solucao = np.zeros_like(sol).reshape((J, T))\n",
    "for sol_jt, (j, t) in zip(sol, sol_idx):\n",
    "    solucao[j,t] = sol_jt"
   ]
  },
  {
   "cell_type": "code",
   "execution_count": 81,
   "metadata": {},
   "outputs": [
    {
     "name": "stdout",
     "output_type": "stream",
     "text": [
      "Set parameter InfUnbdInfo to value 1\n"
     ]
    },
    {
     "data": {
      "text/plain": [
       "5"
      ]
     },
     "execution_count": 81,
     "metadata": {},
     "output_type": "execute_result"
    }
   ],
   "source": [
    "def benders_subproblem(instance, solucao, solve=True, verbose=True):\n",
    "    subproblem = gurobipy.Model()\n",
    "    if verbose:\n",
    "        subproblem.Params.LogToConsole = 1\n",
    "\n",
    "    lmbd0 = {}\n",
    "    lmbd1 = {}\n",
    "    lmbd2 = {}\n",
    "    lmbd3 = {}\n",
    "    lmbd4 = {}\n",
    "    lmbd5 = {}\n",
    "    lmbd6 = {}\n",
    "    lmbd7 = {}\n",
    "\n",
    "    J = instance['jobs'][0]\n",
    "    T = instance['tamanho'][0]\n",
    "    uso_p = instance['uso_p']\n",
    "    recurso_p = instance['recurso_p']\n",
    "\n",
    "    soc_inicial = 0.7\n",
    "    limite_inferior = 0.0\n",
    "    ef = 0.9\n",
    "    v_bat = 3.6\n",
    "    q = 5\n",
    "    bat_usage = 5\n",
    "\n",
    "    for t in range(T):\n",
    "        lmbd1[t] = subproblem.addVar(name=\"lmbd1(%s)\" % t, lb=0, vtype=GRB.CONTINUOUS) # alpha 1 \n",
    "        lmbd2[t] = subproblem.addVar(name=\"lmbd2(%s)\" % t, lb=-GRB.INFINITY, ub=GRB.INFINITY, vtype=GRB.CONTINUOUS) # b 2 \n",
    "        lmbd3[t] = subproblem.addVar(name=\"lmbd3(%s)\" % t, lb=0, ub=GRB.INFINITY, vtype=GRB.CONTINUOUS) # b 3\n",
    "        lmbd4[t] = subproblem.addVar(name=\"lmbd4(%s)\" % t, lb=-GRB.INFINITY, ub=GRB.INFINITY, vtype=GRB.CONTINUOUS) # soc - i 4\n",
    "        lmbd5[t] = subproblem.addVar(name=\"lmbd5(%s)\" % t, lb=0, ub=GRB.INFINITY, vtype=GRB.CONTINUOUS) # soc - i 5\n",
    "        lmbd6[t] = subproblem.addVar(name=\"lmbd6(%s)\" % t, lb=0, ub=GRB.INFINITY, vtype=GRB.CONTINUOUS) # limite inferior 6\n",
    "        lmbd7[t] = subproblem.addVar(name=\"lmbd7(%s)\" % t, lb=0, ub=GRB.INFINITY, vtype=GRB.CONTINUOUS) # limite inferior 6\n",
    "\n",
    "    for t in range(T):\n",
    "        subproblem.addConstr((bat_usage * v_bat)*lmbd1[t] + lmbd7[t] >= 0)\n",
    "        subproblem.addConstr(lmbd2[t] - lmbd3[t]/v_bat == 0)\n",
    "        subproblem.addConstr(lmbd3[t] -  (ef / q)*(1/60) * lmbd4[t] == 0)\n",
    "\n",
    "    for t in range(T-1):\n",
    "            subproblem.addConstr(lmbd4[t] - lmbd4[t+1] + (-lmbd5[t] + lmbd6[t]) == 0)\n",
    "\n",
    "    subproblem.addConstr(lmbd4[T-1] + (-lmbd5[T-1] + lmbd6[T-1]) == 0)\n",
    "    subproblem.setParam('InfUnbdInfo', 1)\n",
    "    subproblem.Params.LogToConsole = 0\n",
    "    subproblem.update()\n",
    "\n",
    "    obj = 0\n",
    "\n",
    "    for t in range(T):\n",
    "        lhs = float(sum(uso_p[j] * solucao[j][t] for j in range(J)))\n",
    "        obj += lmbd1[t] * ((recurso_p[t] + bat_usage * v_bat) - lhs) + lmbd2[t] * (recurso_p[t] - lhs) - 0.0*lmbd5[t] + lmbd6[t] + lmbd7[t]\n",
    "    obj += lmbd4[0] * 0.7\n",
    "    subproblem.setObjective(obj, GRB.MINIMIZE)\n",
    "    subproblem.update()\n",
    "\n",
    "    if solve:\n",
    "        subproblem.optimize()\n",
    "\n",
    "    return subproblem\n",
    "\n",
    "benders_subproblem(instance, solucao).status"
   ]
  },
  {
   "cell_type": "code",
   "execution_count": 73,
   "metadata": {},
   "outputs": [
    {
     "data": {
      "text/plain": [
       "5"
      ]
     },
     "execution_count": 73,
     "metadata": {},
     "output_type": "execute_result"
    }
   ],
   "source": [
    "subproblem.status"
   ]
  },
  {
   "attachments": {},
   "cell_type": "markdown",
   "metadata": {},
   "source": [
    "Let's try with the original implementation of the problem."
   ]
  },
  {
   "cell_type": "code",
   "execution_count": 77,
   "metadata": {},
   "outputs": [
    {
     "name": "stdout",
     "output_type": "stream",
     "text": [
      "Gurobi Optimizer version 10.0.1 build v10.0.1rc0 (linux64)\n",
      "\n",
      "CPU model: 12th Gen Intel(R) Core(TM) i7-12700, instruction set [SSE2|AVX|AVX2]\n",
      "Thread count: 20 physical cores, 20 logical processors, using up to 20 threads\n",
      "\n",
      "Optimize a model with 5649 rows, 2134 columns and 62539 nonzeros\n",
      "Model fingerprint: 0x98c669cc\n",
      "Variable types: 1164 continuous, 970 integer (970 binary)\n",
      "Coefficient statistics:\n",
      "  Matrix range     [3e-03, 1e+01]\n",
      "  Objective range  [1e+00, 5e+00]\n",
      "  Bounds range     [1e+00, 1e+00]\n",
      "  RHS range        [7e-01, 3e+01]\n",
      "Presolve removed 1469 rows and 506 columns\n",
      "Presolve time: 0.07s\n",
      "Presolved: 4180 rows, 1628 columns, 44605 nonzeros\n",
      "Variable types: 848 continuous, 780 integer (780 binary)\n",
      "Found heuristic solution: objective 503.0000000\n",
      "\n",
      "Root relaxation: objective 1.247879e+03, 1902 iterations, 0.05 seconds (0.10 work units)\n",
      "\n",
      "    Nodes    |    Current Node    |     Objective Bounds      |     Work\n",
      " Expl Unexpl |  Obj  Depth IntInf | Incumbent    BestBd   Gap | It/Node Time\n",
      "\n",
      "     0     0 1247.87879    0  231  503.00000 1247.87879   148%     -    0s\n",
      "H    0     0                     693.0000000 1247.87879  80.1%     -    0s\n",
      "H    0     0                     699.0000000 1247.87879  78.5%     -    0s\n",
      "H    0     0                     800.0000000 1247.87879  56.0%     -    0s\n",
      "H    0     0                     837.0000000 1245.42424  48.8%     -    0s\n",
      "H    0     0                     842.0000000 1245.42424  47.9%     -    0s\n",
      "     0     0 1240.33294    0  294  842.00000 1240.33294  47.3%     -    0s\n",
      "     0     0 1240.28685    0  282  842.00000 1240.28685  47.3%     -    0s\n",
      "     0     0 1240.28685    0  263  842.00000 1240.28685  47.3%     -    0s\n",
      "     0     0 1192.42424    0  275  842.00000 1192.42424  41.6%     -    0s\n",
      "     0     0 1187.69697    0  196  842.00000 1187.69697  41.1%     -    0s\n",
      "     0     0 1187.62424    0  199  842.00000 1187.62424  41.0%     -    0s\n",
      "     0     0 1186.42424    0  198  842.00000 1186.42424  40.9%     -    0s\n",
      "H    0     0                     843.0000000 1182.42424  40.3%     -    0s\n",
      "     0     0 1182.42424    0  213  843.00000 1182.42424  40.3%     -    0s\n",
      "     0     0 1180.82424    0  212  843.00000 1180.82424  40.1%     -    0s\n",
      "     0     0 1180.42424    0  210  843.00000 1180.42424  40.0%     -    0s\n",
      "H    0     0                     863.0000000 1178.42424  36.5%     -    0s\n",
      "     0     0 1178.42424    0  210  863.00000 1178.42424  36.5%     -    0s\n",
      "H    0     0                     866.0000000 1178.42424  36.1%     -    0s\n",
      "     0     0 1178.42424    0  208  866.00000 1178.42424  36.1%     -    0s\n",
      "H    0     0                     875.0000000 1178.42424  34.7%     -    0s\n",
      "     0     0 1178.42424    0  221  875.00000 1178.42424  34.7%     -    0s\n",
      "     0     0 1178.42424    0  235  875.00000 1178.42424  34.7%     -    0s\n",
      "     0     0 1178.42424    0  220  875.00000 1178.42424  34.7%     -    0s\n",
      "     0     0 1178.42424    0  233  875.00000 1178.42424  34.7%     -    0s\n",
      "     0     0 1178.42424    0  233  875.00000 1178.42424  34.7%     -    0s\n",
      "H    0     0                     996.0000000 1178.42424  18.3%     -    0s\n",
      "     0     2 1178.42424    0  199  996.00000 1178.42424  18.3%     -    0s\n",
      "H   31    45                    1011.0000000 1178.42424  16.6%   139    0s\n",
      "H   37    45                    1060.0000000 1178.42424  11.2%   129    0s\n",
      "H   46    45                    1063.0000000 1178.42424  10.9%   119    0s\n",
      "H   91    98                    1069.0000000 1178.42424  10.2%  87.1    0s\n",
      "H   92    98                    1072.0000000 1178.42424  9.93%  86.3    0s\n",
      "H   95    98                    1073.0000000 1178.42424  9.83%  93.3    0s\n",
      "H   97    98                    1077.0000000 1178.42424  9.42%  92.0    0s\n",
      "H  101    98                    1078.0000000 1178.42424  9.32%  91.2    0s\n",
      "H  109    98                    1088.0000000 1178.42424  8.31%  85.3    0s\n",
      "H  111   118                    1092.0000000 1178.42424  7.91%  83.8    1s\n",
      "H  113   118                    1096.0000000 1178.42424  7.52%  82.4    1s\n",
      "H  122   118                    1099.0000000 1178.42424  7.23%  77.6    1s\n",
      "H  124   118                    1100.0000000 1178.42424  7.13%  76.4    1s\n",
      "H  125   118                    1101.0000000 1178.42424  7.03%  75.9    1s\n",
      "H 1128   947                    1102.0000000 1178.42424  6.94%  36.3    1s\n",
      "* 2036  1723             152    1103.0000000 1178.42424  6.84%  37.2    2s\n",
      "H 2305  1470                    1123.0000000 1178.42424  4.94%  38.1    2s\n",
      "H 2309  1152                    1129.0000000 1178.42424  4.38%  38.1    2s\n",
      "H 2600  1140                    1130.0000000 1178.42424  4.29%  38.8    2s\n",
      "H 2613  1084                    1131.0000000 1178.42424  4.19%  38.6    4s\n",
      "H 2703  1098                    1133.0000000 1173.64532  3.59%  45.2    5s\n",
      "H 3777  1313                    1134.0000000 1172.49002  3.39%  47.6    6s\n",
      "H 3782  1262                    1136.0000000 1172.49002  3.21%  47.7    6s\n",
      "H 4156  1300                    1137.0000000 1170.92515  2.98%  48.4    6s\n",
      "H 4179  1248                    1139.0000000 1170.92515  2.80%  48.4    6s\n",
      "* 4728  1271             112    1140.0000000 1168.49857  2.50%  48.3    6s\n",
      "H 5407  1118                    1143.0000000 1165.71934  1.99%  49.3    6s\n",
      " 12448   728 1144.67487   31  116 1143.00000 1146.47455  0.30%  58.3   10s\n",
      "\n",
      "Cutting planes:\n",
      "  Gomory: 64\n",
      "  Cover: 8\n",
      "  Implied bound: 3\n",
      "  MIR: 19\n",
      "  Flow cover: 36\n",
      "  Inf proof: 29\n",
      "  Zero half: 10\n",
      "  Network: 1\n",
      "  RLT: 73\n",
      "  Relax-and-lift: 1\n",
      "\n",
      "Explored 14228 nodes (842084 simplex iterations) in 10.90 seconds (16.22 work units)\n",
      "Thread count was 20 (of 20 available processors)\n",
      "\n",
      "Solution count 10: 1143 1140 1139 ... 1129\n",
      "\n",
      "Optimal solution found (tolerance 1.00e-04)\n",
      "Best objective 1.143000000000e+03, best bound 1.143000000000e+03, gap 0.0000%\n"
     ]
    },
    {
     "data": {
      "text/plain": [
       "2"
      ]
     },
     "execution_count": 77,
     "metadata": {},
     "output_type": "execute_result"
    }
   ],
   "source": [
    "J = instance['jobs'][0]\n",
    "T = instance['tamanho'][0]\n",
    "uso_p = instance['uso_p']\n",
    "recurso_p = instance['recurso_p']\n",
    "\n",
    "priority = instance['priority'] # prioridade de cada tarefa\n",
    "uso_p = instance['uso_p'] # recurso utilizado por cada tarefa\n",
    "min_statup = instance['min_statup'] # tempo mínimo de vezes que uma tarefa pode iniciar\n",
    "max_statup = instance['max_statup'] # tempo máximo de vezes que uma tarefa pode iniciar\n",
    "min_cpu_time = instance['min_cpu_time'] # tempo mínimo de unidades de tempo que uma tarefa pode consumir em sequência\n",
    "max_cpu_time = instance['max_cpu_time'] # tempo máximo de unidades de tempo que uma tarefa pode consumir em sequência\n",
    "min_periodo_job = instance['min_periodo_job'] # tempo mínimo que uma tarefa deve esperar para se repetir\n",
    "max_periodo_job = instance['max_periodo_job'] # tempo máximo que uma tarefa pode esperar para se repetir\n",
    "win_min = instance['win_min']\n",
    "win_max = instance['win_max']\n",
    "\n",
    "model = gurobipy.Model()\n",
    "model.Params.LogToConsole = 1\n",
    "\n",
    "x = {}\n",
    "alpha = {}\n",
    "soc = {}\n",
    "i = {}\n",
    "b = {}\n",
    "phi = {}\n",
    "for j in range(J):\n",
    "    for t in range(T):\n",
    "        x[j,t] = model.addVar(name=\"x(%s,%s)\" % (j, t), lb=0, ub=1, vtype=gurobipy.GRB.BINARY)\n",
    "        phi[j,t] = model.addVar(vtype=gurobipy.GRB.CONTINUOUS, name=\"phi(%s,%s)\" % (j, t),)\n",
    "\n",
    "\n",
    "for t in range(T):\n",
    "    alpha[t] = model.addVar(lb=0, ub=1, vtype=GRB.BINARY, name=\"alpha(%s)\" % t)\n",
    "    soc[t] = model.addVar(vtype=GRB.CONTINUOUS, name=\"soc(%s)\" % t)\n",
    "    i[t] = model.addVar(lb=-GRB.INFINITY, vtype=GRB.CONTINUOUS, name=\"i(%s)\" % t)\n",
    "    b[t] = model.addVar(lb=-GRB.INFINITY, vtype=GRB.CONTINUOUS, name=\"b(%s)\" % t)\n",
    "\n",
    "soc_inicial = 0.7\n",
    "limite_inferior = 0.0\n",
    "ef = 0.9 \n",
    "v_bat = 3.6 \n",
    "q = 5\n",
    "bat_usage = 5\n",
    "\n",
    "# set objective\n",
    "model.setObjective(sum(priority[j] * x[j,t] for j in range(J) for t in range(T)), gurobipy.GRB.MAXIMIZE)\n",
    "\n",
    "# phi defines startups of jobs\n",
    "for t in range(T):\n",
    "  for j in range(J):\n",
    "    if t == 0:\n",
    "        model.addConstr(phi[j,t] >= x[j,t] - 0)\n",
    "    else:\n",
    "        model.addConstr(phi[j,t] >= x[j,t] - x[j,t - 1])\n",
    "\n",
    "    model.addConstr(phi[j,t] <= x[j,t])\n",
    "\n",
    "    if t == 0:\n",
    "        model.addConstr(phi[j,t] <= 2 - x[j,t] - 0)\n",
    "    else:\n",
    "        model.addConstr(phi[j,t] <= 2 - x[j,t] - x[j,t - 1])\n",
    "\n",
    "# minimum and maximum number of startups of a job\n",
    "for j in range(J):\n",
    "  model.addConstr(sum(phi[j,t] for t in range(T)) >= min_statup[j])\n",
    "  model.addConstr(sum(phi[j,t] for t in range(T)) <= max_statup[j])\n",
    "\n",
    "  ###############################\n",
    "  # precisa ajustar\n",
    "\n",
    "  # execution window\n",
    "  model.addConstr(sum(x[j,t] for t in range(win_min[j])) == 0)\n",
    "  model.addConstr(sum(x[j,t] for t in range(win_max[j], T)) == 0)\n",
    "\n",
    "for j in range(J):\n",
    "  # minimum period between jobs\n",
    "  for t in range(0, T - min_periodo_job[j] + 1):\n",
    "    model.addConstr(sum(phi[j,t_] for t_ in range(t, t + min_periodo_job[j])) <= 1)\n",
    "\n",
    "  # periodo máximo entre jobs\n",
    "  for t in range(0, T - max_periodo_job[j] + 1):\n",
    "    model.addConstr(sum(phi[j,t_] for t_ in range(t, t + max_periodo_job[j])) >= 1)\n",
    "\n",
    "  # min_cpu_time das jobs\n",
    "  for t in range(0, T - min_cpu_time[j] + 1):\n",
    "    model.addConstr(sum(x[j,t_] for t_ in range(t, t + min_cpu_time[j])) >= min_cpu_time[j] * phi[j,t])\n",
    "\n",
    "  # max_cpu_time das jobs\n",
    "  for t in range(0, T - max_cpu_time[j]):\n",
    "      model.addConstr(sum(x[j,t_] for t_ in range(t, t + max_cpu_time[j] + 1)) <= max_cpu_time[j])\n",
    "\n",
    "  # min_cpu_time no final do periodo\n",
    "  for t in range(T - min_cpu_time[j] + 1, T):\n",
    "      model.addConstr(sum(x[j,t_] for t_ in range(t, T)) >= (T - t) * phi[j,t])\n",
    "\n",
    "################################\n",
    "# Add power constraints\n",
    "for t in range(T):\n",
    "  model.addConstr(sum(uso_p[j] * x[j,t] for j in range(J)) <= recurso_p[t] + bat_usage * v_bat)# * (1 - alpha[t]))\n",
    "  \n",
    "################################\n",
    "# Bateria\n",
    "################################\n",
    "\n",
    "for t in range(T):\n",
    "      model.addConstr(sum(uso_p[j] * x[j,t] for j in range(J)) + b[t] == recurso_p[t])\n",
    "\n",
    "\n",
    "# Define the i_t, SoC_t constraints in Gurobi\n",
    "for t in range(T):\n",
    "    # P = V * I \n",
    "    model.addConstr(b[t] / v_bat >= i[t])\n",
    "\n",
    "    if t == 0:\n",
    "        # SoC(1) = SoC(0) + p_carga[1]/60\n",
    "        model.addConstr(soc[t] == soc_inicial + (ef / q) * (i[t] / 60))\n",
    "    else:\n",
    "        # SoC(t) = SoC(t-1) + (ef / Q) * I(t)\n",
    "        model.addConstr(soc[t] == soc[t - 1] + (ef / q) * (i[t] / 60))\n",
    "\n",
    "    # Set the lower and upper limits on SoC\n",
    "    model.addConstr(limite_inferior <= soc[t])\n",
    "    model.addConstr(soc[t] <= 1)\n",
    "\n",
    "model.update()\n",
    "\n",
    "model.optimize()\n",
    "\n",
    "model.status"
   ]
  },
  {
   "cell_type": "code",
   "execution_count": 87,
   "metadata": {},
   "outputs": [
    {
     "data": {
      "text/plain": [
       "2134"
      ]
     },
     "execution_count": 87,
     "metadata": {},
     "output_type": "execute_result"
    }
   ],
   "source": [
    "model.NumVars"
   ]
  },
  {
   "cell_type": "code",
   "execution_count": 88,
   "metadata": {},
   "outputs": [
    {
     "data": {
      "text/plain": [
       "(5649, 2134)"
      ]
     },
     "execution_count": 88,
     "metadata": {},
     "output_type": "execute_result"
    }
   ],
   "source": [
    "model.getA().shape"
   ]
  },
  {
   "cell_type": "code",
   "execution_count": 86,
   "metadata": {},
   "outputs": [
    {
     "name": "stdout",
     "output_type": "stream",
     "text": [
      "Set parameter InfUnbdInfo to value 1\n"
     ]
    },
    {
     "data": {
      "text/plain": [
       "2"
      ]
     },
     "execution_count": 86,
     "metadata": {},
     "output_type": "execute_result"
    }
   ],
   "source": [
    "solucao = np.zeros((J,T))\n",
    "for j in range(J):\n",
    "    for t in range(T):\n",
    "        solucao[j,t] = x[j,t].X\n",
    "\n",
    "benders_subproblem(instance, solucao).status"
   ]
  }
 ],
 "metadata": {
  "kernelspec": {
   "display_name": "gnns",
   "language": "python",
   "name": "python3"
  },
  "language_info": {
   "codemirror_mode": {
    "name": "ipython",
    "version": 3
   },
   "file_extension": ".py",
   "mimetype": "text/x-python",
   "name": "python",
   "nbconvert_exporter": "python",
   "pygments_lexer": "ipython3",
   "version": "3.10.9"
  },
  "orig_nbformat": 4,
  "vscode": {
   "interpreter": {
    "hash": "2b5834c5769e5fff224335f9b3e429823ee0ced96648f4497a08815e8d6b510a"
   }
  }
 },
 "nbformat": 4,
 "nbformat_minor": 2
}
