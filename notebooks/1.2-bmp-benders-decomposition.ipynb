{
 "cells": [
  {
   "cell_type": "code",
   "execution_count": 1,
   "metadata": {},
   "outputs": [],
   "source": [
    "%load_ext autoreload\n",
    "%autoreload 2\n",
    "\n",
    "import sys\n",
    "sys.path.append('..')  # enable import from src/"
   ]
  },
  {
   "cell_type": "code",
   "execution_count": 2,
   "metadata": {},
   "outputs": [],
   "source": [
    "import re\n",
    "import pickle\n",
    "from pathlib import Path\n",
    "\n",
    "import gurobipy\n",
    "from gurobipy import GRB\n",
    "import dgl\n",
    "import numpy as np\n",
    "import torch\n",
    "\n",
    "from src.data import get_model, get_soc, load_instance"
   ]
  },
  {
   "cell_type": "code",
   "execution_count": 3,
   "metadata": {},
   "outputs": [
    {
     "name": "stdout",
     "output_type": "stream",
     "text": [
      "Set parameter Username\n",
      "Academic license - for non-commercial use only - expires 2024-02-10\n"
     ]
    },
    {
     "data": {
      "text/plain": [
       "(1746,)"
      ]
     },
     "execution_count": 3,
     "metadata": {},
     "output_type": "execute_result"
    }
   ],
   "source": [
    "instances = sorted(list(Path('../data/raw').glob('97_9*.jl')))\n",
    "\n",
    "instance = load_instance(instances[0])\n",
    "\n",
    "J = instance['jobs'][0]\n",
    "T = instance['tamanho'][0]\n",
    "uso_p = instance['uso_p']\n",
    "recurso_p = instance['recurso_p']\n",
    "\n",
    "jobs = list(range(J))\n",
    "model = get_model(jobs, instance, coupling=True)\n",
    "\n",
    "with open('../97_9_opts.pkl', 'rb') as f:\n",
    "    opts = pickle.load(f)\n",
    "\n",
    "x_opt = opts[instances[0].name]['sol']\n",
    "x_opt.shape"
   ]
  },
  {
   "cell_type": "code",
   "execution_count": 6,
   "metadata": {},
   "outputs": [],
   "source": [
    "model_vars = np.core.defchararray.array([v.getAttr(GRB.Attr.VarName) for v in model.getVars()])\n",
    "model_vars = model_vars[(model_vars.find('x') >= 0) | (model_vars.find('phi') >= 0)]  # drop soc vars\n",
    "sol = x_opt[model_vars.find('x') == -1]\n",
    "sol_vars = model_vars[model_vars.find('phi') == -1]\n",
    "\n",
    "sol_idx = [re.fullmatch(r\"x\\((\\d+),(\\d+)\\)\", s_v).groups() for s_v in sol_vars]\n",
    "sol_idx = np.array(list(map(lambda jt: list(map(int, jt)), sol_idx)))\n"
   ]
  },
  {
   "cell_type": "code",
   "execution_count": 39,
   "metadata": {},
   "outputs": [
    {
     "name": "stdout",
     "output_type": "stream",
     "text": [
      "Set parameter InfUnbdInfo to value 1\n"
     ]
    },
    {
     "data": {
      "text/plain": [
       "2"
      ]
     },
     "execution_count": 39,
     "metadata": {},
     "output_type": "execute_result"
    }
   ],
   "source": [
    "def benders_subproblem(instance, solucao, solve=True, verbose=True, get_cut_if_infeasible=True):\n",
    "    subproblem = gurobipy.Model()\n",
    "    if verbose:\n",
    "        subproblem.Params.LogToConsole = 1\n",
    "\n",
    "    lmbd0 = {}\n",
    "    lmbd1 = {}\n",
    "    lmbd2 = {}\n",
    "    lmbd3 = {}\n",
    "    lmbd4 = {}\n",
    "    lmbd5 = {}\n",
    "    lmbd6 = {}\n",
    "    lmbd7 = {}\n",
    "\n",
    "    J = instance['jobs'][0]\n",
    "    T = instance['tamanho'][0]\n",
    "    uso_p = instance['uso_p']\n",
    "    recurso_p = instance['recurso_p']\n",
    "\n",
    "    soc_inicial = 0.7\n",
    "    limite_inferior = 0.0\n",
    "    ef = 0.9\n",
    "    v_bat = 3.6\n",
    "    q = 5\n",
    "    bat_usage = 5\n",
    "\n",
    "    for t in range(T):\n",
    "        lmbd1[t] = subproblem.addVar(name=\"lmbd1(%s)\" % t, lb=0, vtype=GRB.CONTINUOUS) # alpha 1 \n",
    "        lmbd2[t] = subproblem.addVar(name=\"lmbd2(%s)\" % t, lb=-GRB.INFINITY, ub=GRB.INFINITY, vtype=GRB.CONTINUOUS) # b 2 \n",
    "        lmbd3[t] = subproblem.addVar(name=\"lmbd3(%s)\" % t, lb=0, ub=GRB.INFINITY, vtype=GRB.CONTINUOUS) # b 3\n",
    "        lmbd4[t] = subproblem.addVar(name=\"lmbd4(%s)\" % t, lb=-GRB.INFINITY, ub=GRB.INFINITY, vtype=GRB.CONTINUOUS) # soc - i 4\n",
    "        lmbd5[t] = subproblem.addVar(name=\"lmbd5(%s)\" % t, lb=0, ub=GRB.INFINITY, vtype=GRB.CONTINUOUS) # soc - i 5\n",
    "        lmbd6[t] = subproblem.addVar(name=\"lmbd6(%s)\" % t, lb=0, ub=GRB.INFINITY, vtype=GRB.CONTINUOUS) # limite inferior 6\n",
    "        lmbd7[t] = subproblem.addVar(name=\"lmbd7(%s)\" % t, lb=0, ub=GRB.INFINITY, vtype=GRB.CONTINUOUS) # limite inferior 6\n",
    "\n",
    "    for t in range(T):\n",
    "        subproblem.addConstr((bat_usage * v_bat)*lmbd1[t] + lmbd7[t] >= 0)\n",
    "        subproblem.addConstr(lmbd2[t] - lmbd3[t]/v_bat == 0)\n",
    "        subproblem.addConstr(lmbd3[t] -  (ef / q)*(1/60) * lmbd4[t] == 0)\n",
    "\n",
    "    for t in range(T-1):\n",
    "            subproblem.addConstr(lmbd4[t] - lmbd4[t+1] + (-lmbd5[t] + lmbd6[t]) == 0)\n",
    "\n",
    "    subproblem.addConstr(lmbd4[T-1] + (-lmbd5[T-1] + lmbd6[T-1]) == 0)\n",
    "    subproblem.setParam('InfUnbdInfo', 1)\n",
    "    subproblem.Params.LogToConsole = 0\n",
    "    subproblem.update()\n",
    "\n",
    "    obj = 0\n",
    "\n",
    "    for t in range(T):\n",
    "        lhs = float(sum(uso_p[j] * solucao[j][t] for j in range(J)))\n",
    "        obj += lmbd1[t] * ((recurso_p[t] + bat_usage * v_bat) - lhs) + lmbd2[t] * (recurso_p[t] - lhs) - 0.0*lmbd5[t] + lmbd6[t] + lmbd7[t]\n",
    "    obj += lmbd4[0] * 0.7\n",
    "    subproblem.setObjective(obj, GRB.MINIMIZE)\n",
    "    subproblem.update()\n",
    "\n",
    "    if solve:\n",
    "        subproblem.optimize()\n",
    "\n",
    "        if get_cut_if_infeasible and subproblem.status == 5:\n",
    "            teste = gurobipy.Model()\n",
    "            A = teste.addVars(J,T, vtype=GRB.BINARY, name=\"A\")\n",
    "            teste.update()\n",
    "            cut = 0\n",
    "            for t in range(T):\n",
    "                lhs = sum(uso_p[j] * A[j,t] for j in range(J))\n",
    "                cut += (lmbd1[t].getAttr(GRB.Attr.UnbdRay) * ((recurso_p[t] + bat_usage * v_bat) - lhs) + lmbd2[t].getAttr(GRB.Attr.UnbdRay) * (recurso_p[t] - lhs)\n",
    "                        - lmbd5[t].getAttr(GRB.Attr.UnbdRay)*0.0 + lmbd6[t].getAttr(GRB.Attr.UnbdRay) + lmbd7[t].getAttr(GRB.Attr.UnbdRay) )\n",
    "            cut += lmbd4[0].getAttr(GRB.Attr.UnbdRay) * 0.7\n",
    "            cut = str(cut)\n",
    "\n",
    "            indices = {}\n",
    "            corte = []\n",
    "            # Extracting the indices and coefficients using regular expression\n",
    "            for match in re.finditer(r\"([+-]?\\d+\\.\\d+) A\\[(\\d+),(\\d+)\\]\", cut):\n",
    "                coefficient = float(match.group(1))\n",
    "                i = int(match.group(2))\n",
    "                j = int(match.group(3))\n",
    "                indices[(i,j)] = float(coefficient)\n",
    "                #if float(coefficient) != 0:\n",
    "                #    print(i,j,coefficient)\n",
    "                #    #print(pato)\n",
    "\n",
    "            # assuming the cut is of the form w^T x >= b\n",
    "            cut_w = np.zeros_like(solucao)\n",
    "            for (i, j), w_ij in indices.items():\n",
    "                cut_w[i,j] = w_ij\n",
    "            cut_b = float(cut.split(' ')[0])\n",
    "            # indices['const'] = cut.split(' ')[0]\n",
    "            # #corte = [val for val in indices.values()]\n",
    "            # for j in range(J):\n",
    "            #     for t in range(T):\n",
    "            #         corte.append(indices[(j,t)])\n",
    "            # corte.append(indices['const'])\n",
    "\n",
    "            return subproblem, (cut_w, cut_b)\n",
    "        elif subproblem.status != 2:\n",
    "            print('ERROR: status ', subproblem.status)\n",
    "\n",
    "    return subproblem\n",
    "\n",
    "solucao = np.zeros_like(sol).reshape((J, T))\n",
    "for sol_jt, (j, t) in zip(sol, sol_idx):\n",
    "    solucao[j,t] = sol_jt\n",
    "\n",
    "benders_subproblem(instance, solucao).status"
   ]
  },
  {
   "cell_type": "code",
   "execution_count": 42,
   "metadata": {},
   "outputs": [
    {
     "name": "stdout",
     "output_type": "stream",
     "text": [
      "Set parameter InfUnbdInfo to value 1\n"
     ]
    },
    {
     "data": {
      "text/plain": [
       "True"
      ]
     },
     "execution_count": 42,
     "metadata": {},
     "output_type": "execute_result"
    }
   ],
   "source": [
    "solucao = np.ones_like(solucao)\n",
    "\n",
    "cut_w, cut_b = benders_subproblem(instance, solucao)[1]\n",
    "\n",
    "# print(cut_w, cut_b)\n",
    "\n",
    "x_opt_ = np.zeros_like(sol).reshape((J, T))\n",
    "for sol_jt, (j, t) in zip(sol, sol_idx):\n",
    "    x_opt_[j,t] = sol_jt\n",
    "\n",
    "(x_opt_ * cut_w).sum() <= cut_b"
   ]
  }
 ],
 "metadata": {
  "kernelspec": {
   "display_name": "gnns",
   "language": "python",
   "name": "python3"
  },
  "language_info": {
   "codemirror_mode": {
    "name": "ipython",
    "version": 3
   },
   "file_extension": ".py",
   "mimetype": "text/x-python",
   "name": "python",
   "nbconvert_exporter": "python",
   "pygments_lexer": "ipython3",
   "version": "3.10.9"
  },
  "orig_nbformat": 4,
  "vscode": {
   "interpreter": {
    "hash": "2b5834c5769e5fff224335f9b3e429823ee0ced96648f4497a08815e8d6b510a"
   }
  }
 },
 "nbformat": 4,
 "nbformat_minor": 2
}
