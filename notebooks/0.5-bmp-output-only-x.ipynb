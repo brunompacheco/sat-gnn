{
 "cells": [
  {
   "cell_type": "code",
   "execution_count": 1,
   "metadata": {},
   "outputs": [],
   "source": [
    "%load_ext autoreload\n",
    "%autoreload 2\n",
    "\n",
    "import sys\n",
    "sys.path.append('..')  # enable import from src/"
   ]
  },
  {
   "cell_type": "code",
   "execution_count": 2,
   "metadata": {},
   "outputs": [
    {
     "name": "stderr",
     "output_type": "stream",
     "text": [
      "/home/bruno/miniconda3/envs/sat-gnn/lib/python3.10/site-packages/tqdm/auto.py:22: TqdmWarning: IProgress not found. Please update jupyter and ipywidgets. See https://ipywidgets.readthedocs.io/en/stable/user_install.html\n",
      "  from .autonotebook import tqdm as notebook_tqdm\n"
     ]
    },
    {
     "name": "stdout",
     "output_type": "stream",
     "text": [
      "Set parameter Username\n",
      "Academic license - for non-commercial use only - expires 2024-02-14\n"
     ]
    },
    {
     "data": {
      "text/plain": [
       "9"
      ]
     },
     "execution_count": 2,
     "metadata": {},
     "output_type": "execute_result"
    }
   ],
   "source": [
    "import dgl\n",
    "import torch\n",
    "import gurobipy\n",
    "import numpy as np\n",
    "\n",
    "from src.problem import get_model, load_instance\n",
    "\n",
    "instance = load_instance('../data/raw/97_9.jl')\n",
    "J = instance['jobs'][0]\n",
    "T = instance['tamanho'][0]\n",
    "\n",
    "model = get_model(list(range(J)), instance, coupling=True)\n",
    "\n",
    "model.setParam('TimeLimit', 5)\n",
    "model.update()\n",
    "model.optimize()\n",
    "\n",
    "model.status"
   ]
  },
  {
   "cell_type": "code",
   "execution_count": 3,
   "metadata": {},
   "outputs": [
    {
     "data": {
      "text/plain": [
       "2"
      ]
     },
     "execution_count": 3,
     "metadata": {},
     "output_type": "execute_result"
    }
   ],
   "source": [
    "x = np.random.randint(0, 2, (J,T), dtype=int)\n",
    "\n",
    "# simulate model output (only the decision variable)\n",
    "for j in range(J):\n",
    "    for t in range(T):\n",
    "        x[j,t] = model.getVarByName(f\"x({j},{t})\").X\n",
    "\n",
    "# fresh model\n",
    "model = get_model(list(range(J)), instance, coupling=True)\n",
    "\n",
    "# force decision variables to be the same as the incumbent\n",
    "for j in range(J):\n",
    "    for t in range(T):\n",
    "        model.getVarByName(f\"x({j},{t})\").lb = x[j,t]\n",
    "        model.getVarByName(f\"x({j},{t})\").ub = x[j,t]\n",
    "\n",
    "model.update()\n",
    "model.optimize()\n",
    "\n",
    "model.status"
   ]
  },
  {
   "cell_type": "code",
   "execution_count": 4,
   "metadata": {},
   "outputs": [
    {
     "data": {
      "text/plain": [
       "True"
      ]
     },
     "execution_count": 4,
     "metadata": {},
     "output_type": "execute_result"
    }
   ],
   "source": [
    "new_x = np.zeros((J,T), dtype=int)\n",
    "\n",
    "for j in range(J):\n",
    "    for t in range(T):\n",
    "        new_x[j,t] = model.getVarByName(f\"x({j},{t})\").X\n",
    "\n",
    "(new_x == x).all()"
   ]
  }
 ],
 "metadata": {
  "kernelspec": {
   "display_name": "sat-gnn",
   "language": "python",
   "name": "python3"
  },
  "language_info": {
   "codemirror_mode": {
    "name": "ipython",
    "version": 3
   },
   "file_extension": ".py",
   "mimetype": "text/x-python",
   "name": "python",
   "nbconvert_exporter": "python",
   "pygments_lexer": "ipython3",
   "version": "3.10.9"
  },
  "orig_nbformat": 4,
  "vscode": {
   "interpreter": {
    "hash": "2a433443508e2e081b5708af7dede3dfaca722676836b715c7bff905ff3867b4"
   }
  }
 },
 "nbformat": 4,
 "nbformat_minor": 2
}
