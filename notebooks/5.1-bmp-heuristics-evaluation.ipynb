{
 "cells": [
  {
   "cell_type": "code",
   "execution_count": 2,
   "metadata": {},
   "outputs": [],
   "source": [
    "%load_ext autoreload\n",
    "%autoreload 2\n",
    "\n",
    "import sys\n",
    "sys.path.append('..')  # enable import from src/"
   ]
  },
  {
   "cell_type": "code",
   "execution_count": 14,
   "metadata": {},
   "outputs": [],
   "source": [
    "from pathlib import Path\n",
    "\n",
    "import matplotlib.pyplot as plt\n",
    "\n",
    "import numpy as np\n",
    "import pandas as pd\n",
    "import torch\n",
    "import json\n",
    "import wandb\n",
    "\n",
    "from src.net import InstanceGCN\n",
    "from src.dataset import MultiTargetDataset\n",
    "from src.utils import normalize_curve, compute_integral"
   ]
  },
  {
   "cell_type": "code",
   "execution_count": 79,
   "metadata": {},
   "outputs": [
    {
     "data": {
      "text/html": [
       "<div>\n",
       "<style scoped>\n",
       "    .dataframe tbody tr th:only-of-type {\n",
       "        vertical-align: middle;\n",
       "    }\n",
       "\n",
       "    .dataframe tbody tr th {\n",
       "        vertical-align: top;\n",
       "    }\n",
       "\n",
       "    .dataframe thead th {\n",
       "        text-align: right;\n",
       "    }\n",
       "</style>\n",
       "<table border=\"1\" class=\"dataframe\">\n",
       "  <thead>\n",
       "    <tr style=\"text-align: right;\">\n",
       "      <th></th>\n",
       "      <th>size</th>\n",
       "      <th>size_id</th>\n",
       "      <th>opt_obj</th>\n",
       "      <th>infeasible</th>\n",
       "      <th>runtime</th>\n",
       "      <th>objective</th>\n",
       "      <th>gap</th>\n",
       "      <th>primal_curve</th>\n",
       "    </tr>\n",
       "  </thead>\n",
       "  <tbody>\n",
       "    <tr>\n",
       "      <th>0</th>\n",
       "      <td>24</td>\n",
       "      <td>64</td>\n",
       "      <td>14123</td>\n",
       "      <td>False</td>\n",
       "      <td>120.000981</td>\n",
       "      <td>13893.0</td>\n",
       "      <td>0.119377</td>\n",
       "      <td>[0.0, 0.0, 0.0, 0.0, 0.0, 0.0, 0.0, 0.0, 0.0, ...</td>\n",
       "    </tr>\n",
       "    <tr>\n",
       "      <th>1</th>\n",
       "      <td>20</td>\n",
       "      <td>70</td>\n",
       "      <td>12930</td>\n",
       "      <td>False</td>\n",
       "      <td>120.000055</td>\n",
       "      <td>12765.0</td>\n",
       "      <td>0.005895</td>\n",
       "      <td>[0.0, 0.0, 0.0, 0.0, 0.0, 0.0, 0.0, 0.0, 0.0, ...</td>\n",
       "    </tr>\n",
       "    <tr>\n",
       "      <th>2</th>\n",
       "      <td>20</td>\n",
       "      <td>62</td>\n",
       "      <td>7701</td>\n",
       "      <td>False</td>\n",
       "      <td>17.895076</td>\n",
       "      <td>7592.0</td>\n",
       "      <td>0.000000</td>\n",
       "      <td>[0.0, 0.0, 0.0, 0.0, 0.0, 0.0, 0.0, 0.0, 0.0, ...</td>\n",
       "    </tr>\n",
       "    <tr>\n",
       "      <th>3</th>\n",
       "      <td>20</td>\n",
       "      <td>64</td>\n",
       "      <td>10449</td>\n",
       "      <td>False</td>\n",
       "      <td>120.000461</td>\n",
       "      <td>10391.0</td>\n",
       "      <td>0.024482</td>\n",
       "      <td>[0.0, 0.0, 0.0, 0.0, 0.0, 0.0, 0.0, 0.0, 0.0, ...</td>\n",
       "    </tr>\n",
       "    <tr>\n",
       "      <th>4</th>\n",
       "      <td>13</td>\n",
       "      <td>67</td>\n",
       "      <td>6643</td>\n",
       "      <td>False</td>\n",
       "      <td>33.382714</td>\n",
       "      <td>6461.0</td>\n",
       "      <td>0.000000</td>\n",
       "      <td>[0.0, 0.0, 0.0, 0.0, 0.0, 0.0, 0.0, 0.0, 0.0, ...</td>\n",
       "    </tr>\n",
       "  </tbody>\n",
       "</table>\n",
       "</div>"
      ],
      "text/plain": [
       "   size  size_id opt_obj  infeasible     runtime  objective       gap  \\\n",
       "0    24       64   14123       False  120.000981    13893.0  0.119377   \n",
       "1    20       70   12930       False  120.000055    12765.0  0.005895   \n",
       "2    20       62    7701       False   17.895076     7592.0  0.000000   \n",
       "3    20       64   10449       False  120.000461    10391.0  0.024482   \n",
       "4    13       67    6643       False   33.382714     6461.0  0.000000   \n",
       "\n",
       "                                        primal_curve  \n",
       "0  [0.0, 0.0, 0.0, 0.0, 0.0, 0.0, 0.0, 0.0, 0.0, ...  \n",
       "1  [0.0, 0.0, 0.0, 0.0, 0.0, 0.0, 0.0, 0.0, 0.0, ...  \n",
       "2  [0.0, 0.0, 0.0, 0.0, 0.0, 0.0, 0.0, 0.0, 0.0, ...  \n",
       "3  [0.0, 0.0, 0.0, 0.0, 0.0, 0.0, 0.0, 0.0, 0.0, ...  \n",
       "4  [0.0, 0.0, 0.0, 0.0, 0.0, 0.0, 0.0, 0.0, 0.0, ...  "
      ]
     },
     "execution_count": 79,
     "metadata": {},
     "output_type": "execute_result"
    }
   ],
   "source": [
    "results_dir = Path('../data/results/')\n",
    "opts_dir = Path('../data/interim/')\n",
    "\n",
    "baseline_results = list()\n",
    "for baseline_result_fpath in results_dir.glob('ef_500_*.json'):\n",
    "    size = int(baseline_result_fpath.name.split('_')[3])\n",
    "    size_id = int(baseline_result_fpath.name.split('_')[4][:-len('.json')])\n",
    "\n",
    "    with open(baseline_result_fpath) as f:\n",
    "        baseline_result = json.load(f)\n",
    "\n",
    "    solution_fpath = opts_dir/f\"97_{size}_{size_id}_opt.npz\"\n",
    "    solution_npz = np.load(solution_fpath)\n",
    "    quasi_optimal_objective = solution_npz['arr_0'].astype('uint32')\n",
    "\n",
    "    baseline_results.append(dict(\n",
    "        size=size,\n",
    "        size_id=size_id,\n",
    "        opt_obj=quasi_optimal_objective,\n",
    "        **baseline_result\n",
    "    ))\n",
    "df = pd.DataFrame(baseline_results)\n",
    "df['primal_curve'] = df['primal_curve'].apply(normalize_curve)\n",
    "df['primal_curve'] = df['primal_curve'] / df['opt_obj']\n",
    "\n",
    "df.head()"
   ]
  },
  {
   "cell_type": "code",
   "execution_count": 80,
   "metadata": {},
   "outputs": [
    {
     "data": {
      "text/plain": [
       "False    92\n",
       "True     28\n",
       "Name: infeasible, dtype: int64"
      ]
     },
     "execution_count": 80,
     "metadata": {},
     "output_type": "execute_result"
    }
   ],
   "source": [
    "df['infeasible'].value_counts()"
   ]
  },
  {
   "cell_type": "code",
   "execution_count": 81,
   "metadata": {},
   "outputs": [
    {
     "data": {
      "image/png": "[encoded data removed]",
      "text/plain": [
       "<Figure size 640x480 with 1 Axes>"
      ]
     },
     "metadata": {},
     "output_type": "display_data"
    }
   ],
   "source": [
    "(df['objective'] / df['opt_obj']).plot.box(showmeans=True)\n",
    "plt.ylim(0,1)\n",
    "plt.show()"
   ]
  },
  {
   "cell_type": "code",
   "execution_count": 84,
   "metadata": {},
   "outputs": [
    {
     "data": {
      "image/png": "[encoded data removed]",
      "text/plain": [
       "<Figure size 640x480 with 1 Axes>"
      ]
     },
     "metadata": {},
     "output_type": "display_data"
    }
   ],
   "source": [
    "plt.plot(df['primal_curve'].mean())\n",
    "# plt.plot(df[~df['infeasible']]['primal_curve'].mean())\n",
    "plt.xlim(0,120/1e-3)\n",
    "plt.ylim(0,1)\n",
    "plt.grid()\n",
    "plt.show()"
   ]
  }
 ],
 "metadata": {
  "kernelspec": {
   "display_name": "gnns",
   "language": "python",
   "name": "python3"
  },
  "language_info": {
   "codemirror_mode": {
    "name": "ipython",
    "version": 3
   },
   "file_extension": ".py",
   "mimetype": "text/x-python",
   "name": "python",
   "nbconvert_exporter": "python",
   "pygments_lexer": "ipython3",
   "version": "3.10.8"
  },
  "orig_nbformat": 4
 },
 "nbformat": 4,
 "nbformat_minor": 2
}
