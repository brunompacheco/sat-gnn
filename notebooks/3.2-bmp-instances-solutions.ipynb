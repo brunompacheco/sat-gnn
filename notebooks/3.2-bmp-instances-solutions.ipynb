{
 "cells": [
  {
   "cell_type": "code",
   "execution_count": 1,
   "metadata": {},
   "outputs": [],
   "source": [
    "%load_ext autoreload\n",
    "%autoreload 2\n",
    "\n",
    "import sys\n",
    "sys.path.append('..')  # enable import from src/"
   ]
  },
  {
   "cell_type": "code",
   "execution_count": 9,
   "metadata": {},
   "outputs": [],
   "source": [
    "import json\n",
    "import pickle\n",
    "import numpy as np\n",
    "import pandas as pd\n",
    "import matplotlib.pyplot as plt\n",
    "from pathlib import Path\n",
    "\n",
    "from src.problem import get_model_scip"
   ]
  },
  {
   "attachments": {},
   "cell_type": "markdown",
   "metadata": {},
   "source": [
    "# New Instances"
   ]
  },
  {
   "cell_type": "code",
   "execution_count": 16,
   "metadata": {},
   "outputs": [
    {
     "data": {
      "text/plain": [
       "dict_keys(['subs', 'jobs', 'T', 'power_use', 'power_resource', 'min_cpu_time', 'max_cpu_time', 'min_job_period', 'max_job_period', 'min_startup', 'max_startup', 'priority', 'win_min', 'win_max'])"
      ]
     },
     "execution_count": 16,
     "metadata": {},
     "output_type": "execute_result"
    }
   ],
   "source": [
    "instances_fps = list(Path('../data/raw/').glob('97_*.json'))\n",
    "\n",
    "instance_fp = instances_fps[0]\n",
    "\n",
    "with open(instance_fp) as f:\n",
    "    instance = json.load(f)\n",
    "instance.keys()"
   ]
  },
  {
   "cell_type": "code",
   "execution_count": 17,
   "metadata": {},
   "outputs": [
    {
     "data": {
      "text/plain": [
       "[97,\n",
       " 97,\n",
       " 97,\n",
       " 97,\n",
       " 97,\n",
       " 97,\n",
       " 97,\n",
       " 97,\n",
       " 97,\n",
       " 97,\n",
       " 90,\n",
       " 97,\n",
       " 97,\n",
       " 97,\n",
       " 97,\n",
       " 97,\n",
       " 97,\n",
       " 97,\n",
       " 97,\n",
       " 97,\n",
       " 97,\n",
       " 97,\n",
       " 97,\n",
       " 97]"
      ]
     },
     "execution_count": 17,
     "metadata": {},
     "output_type": "execute_result"
    }
   ],
   "source": [
    "instance['win_max']"
   ]
  },
  {
   "cell_type": "code",
   "execution_count": 18,
   "metadata": {},
   "outputs": [
    {
     "data": {
      "text/plain": [
       "97"
      ]
     },
     "execution_count": 18,
     "metadata": {},
     "output_type": "execute_result"
    }
   ],
   "source": [
    "instance['T']"
   ]
  },
  {
   "cell_type": "code",
   "execution_count": 19,
   "metadata": {},
   "outputs": [
    {
     "data": {
      "text/plain": [
       "{'b', 'i', 'phi', 'soc', 'x'}"
      ]
     },
     "execution_count": 19,
     "metadata": {},
     "output_type": "execute_result"
    }
   ],
   "source": [
    "model = get_model_scip(instance, new_ineq=True)\n",
    "{var.name.split('(')[0] for var in model.getVars()}"
   ]
  },
  {
   "attachments": {},
   "cell_type": "markdown",
   "metadata": {},
   "source": [
    "# Solutions"
   ]
  },
  {
   "cell_type": "code",
   "execution_count": 20,
   "metadata": {},
   "outputs": [
    {
     "data": {
      "text/plain": [
       "PosixPath('../data/raw/97_24_5.json')"
      ]
     },
     "execution_count": 20,
     "metadata": {},
     "output_type": "execute_result"
    }
   ],
   "source": [
    "instance_fp"
   ]
  },
  {
   "cell_type": "code",
   "execution_count": 22,
   "metadata": {},
   "outputs": [
    {
     "data": {
      "text/plain": [
       "True"
      ]
     },
     "execution_count": 22,
     "metadata": {},
     "output_type": "execute_result"
    }
   ],
   "source": [
    "sols_dir = Path('../data/interim/')\n",
    "sol_fpath = sols_dir/instance_fp.name.replace('.json', '_opt.npz')\n",
    "sol_fpath.exists()"
   ]
  },
  {
   "cell_type": "code",
   "execution_count": 28,
   "metadata": {},
   "outputs": [
    {
     "data": {
      "text/plain": [
       "['97', '9', '19', 'opt.npz']"
      ]
     },
     "execution_count": 28,
     "metadata": {},
     "output_type": "execute_result"
    }
   ],
   "source": [
    "sol_fpath.name.split('_')"
   ]
  },
  {
   "cell_type": "code",
   "execution_count": 30,
   "metadata": {},
   "outputs": [
    {
     "data": {
      "text/html": [
       "<div>\n",
       "<style scoped>\n",
       "    .dataframe tbody tr th:only-of-type {\n",
       "        vertical-align: middle;\n",
       "    }\n",
       "\n",
       "    .dataframe tbody tr th {\n",
       "        vertical-align: top;\n",
       "    }\n",
       "\n",
       "    .dataframe thead th {\n",
       "        text-align: right;\n",
       "    }\n",
       "</style>\n",
       "<table border=\"1\" class=\"dataframe\">\n",
       "  <thead>\n",
       "    <tr style=\"text-align: right;\">\n",
       "      <th></th>\n",
       "      <th>id</th>\n",
       "      <th>size</th>\n",
       "      <th>obj</th>\n",
       "      <th>gap</th>\n",
       "      <th>runtime</th>\n",
       "    </tr>\n",
       "  </thead>\n",
       "  <tbody>\n",
       "    <tr>\n",
       "      <th>0</th>\n",
       "      <td>40</td>\n",
       "      <td>22</td>\n",
       "      <td>12758.0</td>\n",
       "      <td>0.00015676438313215238</td>\n",
       "      <td>300.0482838153839</td>\n",
       "    </tr>\n",
       "    <tr>\n",
       "      <th>1</th>\n",
       "      <td>77</td>\n",
       "      <td>22</td>\n",
       "      <td>13560.0</td>\n",
       "      <td>7.374631268436578e-05</td>\n",
       "      <td>14.80199384689331</td>\n",
       "    </tr>\n",
       "    <tr>\n",
       "      <th>2</th>\n",
       "      <td>88</td>\n",
       "      <td>9</td>\n",
       "      <td>3836.0</td>\n",
       "      <td>0.0</td>\n",
       "      <td>0.25761890411376953</td>\n",
       "    </tr>\n",
       "    <tr>\n",
       "      <th>3</th>\n",
       "      <td>49</td>\n",
       "      <td>9</td>\n",
       "      <td>3757.0</td>\n",
       "      <td>0.0</td>\n",
       "      <td>4.174372911453247</td>\n",
       "    </tr>\n",
       "    <tr>\n",
       "      <th>4</th>\n",
       "      <td>62</td>\n",
       "      <td>18</td>\n",
       "      <td>10983.0</td>\n",
       "      <td>9.104980424292088e-05</td>\n",
       "      <td>77.54949402809143</td>\n",
       "    </tr>\n",
       "  </tbody>\n",
       "</table>\n",
       "</div>"
      ],
      "text/plain": [
       "   id  size      obj                     gap              runtime\n",
       "0  40    22  12758.0  0.00015676438313215238    300.0482838153839\n",
       "1  77    22  13560.0   7.374631268436578e-05    14.80199384689331\n",
       "2  88     9   3836.0                     0.0  0.25761890411376953\n",
       "3  49     9   3757.0                     0.0    4.174372911453247\n",
       "4  62    18  10983.0   9.104980424292088e-05    77.54949402809143"
      ]
     },
     "execution_count": 30,
     "metadata": {},
     "output_type": "execute_result"
    }
   ],
   "source": [
    "sols_fpaths = sols_dir.glob('97_*_opt.npz')\n",
    "\n",
    "sols = list()\n",
    "for sol_fpath in sols_fpaths:\n",
    "    _, size, instance_id, _ = sol_fpath.name.split('_')\n",
    "    size = int(size)\n",
    "    instance_id = int(instance_id)\n",
    "    \n",
    "    sol_npz = np.load(sol_fpath)\n",
    "    obj, gap, runtime, _ = sol_npz['arr_0'], sol_npz['arr_1'], sol_npz['arr_2'], sol_npz['arr_3']\n",
    "    sols.append(dict(\n",
    "        id=instance_id,\n",
    "        size=size,\n",
    "        obj=obj,\n",
    "        gap=gap,\n",
    "        runtime=runtime,\n",
    "    ))\n",
    "\n",
    "df = pd.DataFrame(sols)\n",
    "df.head()"
   ]
  },
  {
   "cell_type": "code",
   "execution_count": 31,
   "metadata": {},
   "outputs": [
    {
     "data": {
      "text/plain": [
       "<AxesSubplot: >"
      ]
     },
     "execution_count": 31,
     "metadata": {},
     "output_type": "execute_result"
    },
    {
     "data": {
      "image/png": "[encoded data removed]",
      "text/plain": [
       "<Figure size 640x480 with 1 Axes>"
      ]
     },
     "metadata": {},
     "output_type": "display_data"
    }
   ],
   "source": [
    "df['runtime'].hist()"
   ]
  },
  {
   "cell_type": "code",
   "execution_count": 34,
   "metadata": {},
   "outputs": [
    {
     "data": {
      "text/html": [
       "<div>\n",
       "<style scoped>\n",
       "    .dataframe tbody tr th:only-of-type {\n",
       "        vertical-align: middle;\n",
       "    }\n",
       "\n",
       "    .dataframe tbody tr th {\n",
       "        vertical-align: top;\n",
       "    }\n",
       "\n",
       "    .dataframe thead th {\n",
       "        text-align: right;\n",
       "    }\n",
       "</style>\n",
       "<table border=\"1\" class=\"dataframe\">\n",
       "  <thead>\n",
       "    <tr style=\"text-align: right;\">\n",
       "      <th></th>\n",
       "      <th>id</th>\n",
       "      <th>size</th>\n",
       "      <th>obj</th>\n",
       "      <th>gap</th>\n",
       "      <th>runtime</th>\n",
       "    </tr>\n",
       "  </thead>\n",
       "  <tbody>\n",
       "    <tr>\n",
       "      <th>0</th>\n",
       "      <td>40</td>\n",
       "      <td>22</td>\n",
       "      <td>12758.0</td>\n",
       "      <td>0.00015676438313215238</td>\n",
       "      <td>300.0482838153839</td>\n",
       "    </tr>\n",
       "    <tr>\n",
       "      <th>6</th>\n",
       "      <td>38</td>\n",
       "      <td>20</td>\n",
       "      <td>7473.0</td>\n",
       "      <td>0.00026763013515321824</td>\n",
       "      <td>300.04585790634155</td>\n",
       "    </tr>\n",
       "    <tr>\n",
       "      <th>8</th>\n",
       "      <td>87</td>\n",
       "      <td>24</td>\n",
       "      <td>15385.0</td>\n",
       "      <td>0.00012999675008124796</td>\n",
       "      <td>300.0385880470276</td>\n",
       "    </tr>\n",
       "    <tr>\n",
       "      <th>23</th>\n",
       "      <td>0</td>\n",
       "      <td>18</td>\n",
       "      <td>7302.0</td>\n",
       "      <td>0.0001369487811558477</td>\n",
       "      <td>300.01457715034485</td>\n",
       "    </tr>\n",
       "    <tr>\n",
       "      <th>27</th>\n",
       "      <td>87</td>\n",
       "      <td>20</td>\n",
       "      <td>9687.0</td>\n",
       "      <td>0.00020646226902033653</td>\n",
       "      <td>300.10221695899963</td>\n",
       "    </tr>\n",
       "    <tr>\n",
       "      <th>...</th>\n",
       "      <td>...</td>\n",
       "      <td>...</td>\n",
       "      <td>...</td>\n",
       "      <td>...</td>\n",
       "      <td>...</td>\n",
       "    </tr>\n",
       "    <tr>\n",
       "      <th>618</th>\n",
       "      <td>11</td>\n",
       "      <td>20</td>\n",
       "      <td>10989.0</td>\n",
       "      <td>0.000364000364000364</td>\n",
       "      <td>300.07042503356934</td>\n",
       "    </tr>\n",
       "    <tr>\n",
       "      <th>621</th>\n",
       "      <td>67</td>\n",
       "      <td>13</td>\n",
       "      <td>6643.0</td>\n",
       "      <td>0.0004516031913292187</td>\n",
       "      <td>300.0128231048584</td>\n",
       "    </tr>\n",
       "    <tr>\n",
       "      <th>623</th>\n",
       "      <td>93</td>\n",
       "      <td>24</td>\n",
       "      <td>12287.0</td>\n",
       "      <td>0.0006510946528851632</td>\n",
       "      <td>300.020302772522</td>\n",
       "    </tr>\n",
       "    <tr>\n",
       "      <th>626</th>\n",
       "      <td>86</td>\n",
       "      <td>13</td>\n",
       "      <td>5864.0</td>\n",
       "      <td>0.00017053206002728513</td>\n",
       "      <td>300.01466608047485</td>\n",
       "    </tr>\n",
       "    <tr>\n",
       "      <th>632</th>\n",
       "      <td>60</td>\n",
       "      <td>20</td>\n",
       "      <td>12958.0</td>\n",
       "      <td>0.00015348454988030208</td>\n",
       "      <td>300.03899812698364</td>\n",
       "    </tr>\n",
       "  </tbody>\n",
       "</table>\n",
       "<p>221 rows × 5 columns</p>\n",
       "</div>"
      ],
      "text/plain": [
       "     id  size      obj                     gap             runtime\n",
       "0    40    22  12758.0  0.00015676438313215238   300.0482838153839\n",
       "6    38    20   7473.0  0.00026763013515321824  300.04585790634155\n",
       "8    87    24  15385.0  0.00012999675008124796   300.0385880470276\n",
       "23    0    18   7302.0   0.0001369487811558477  300.01457715034485\n",
       "27   87    20   9687.0  0.00020646226902033653  300.10221695899963\n",
       "..   ..   ...      ...                     ...                 ...\n",
       "618  11    20  10989.0    0.000364000364000364  300.07042503356934\n",
       "621  67    13   6643.0   0.0004516031913292187   300.0128231048584\n",
       "623  93    24  12287.0   0.0006510946528851632    300.020302772522\n",
       "626  86    13   5864.0  0.00017053206002728513  300.01466608047485\n",
       "632  60    20  12958.0  0.00015348454988030208  300.03899812698364\n",
       "\n",
       "[221 rows x 5 columns]"
      ]
     },
     "execution_count": 34,
     "metadata": {},
     "output_type": "execute_result"
    }
   ],
   "source": [
    "df[df['runtime'] > 200]"
   ]
  },
  {
   "cell_type": "code",
   "execution_count": 23,
   "metadata": {},
   "outputs": [
    {
     "data": {
      "text/plain": [
       "array(0.00012642)"
      ]
     },
     "execution_count": 23,
     "metadata": {},
     "output_type": "execute_result"
    }
   ],
   "source": [
    "sol_npz = np.load(sol_fpath)\n",
    "obj, gap, runtime, sol = sol_npz['arr_0'], sol_npz['arr_1'], sol_npz['arr_2'], sol_npz['arr_3']\n",
    "gap"
   ]
  },
  {
   "cell_type": "code",
   "execution_count": null,
   "metadata": {},
   "outputs": [],
   "source": [
    "n_sols = list()\n",
    "objs_range = list()\n",
    "for sol in solutions.values():\n",
    "    n_sols.append(len(sol['objs']))\n",
    "    objs_range.append(max(sol['objs']) - min(sol['objs']))\n",
    "\n",
    "plt.hist(n_sols, bins=50, weights=[1/len(n_sols),] * len(n_sols), log=False)\n",
    "plt.title('# of solutions found')\n",
    "plt.show()\n",
    "\n",
    "plt.hist(objs_range, bins=50, weights=[1/len(n_sols),] * len(n_sols), log=False)\n",
    "plt.title('objective difference between the best and the worst solutions')\n",
    "plt.show()"
   ]
  },
  {
   "attachments": {},
   "cell_type": "markdown",
   "metadata": {},
   "source": [
    "# Test instances"
   ]
  },
  {
   "cell_type": "code",
   "execution_count": null,
   "metadata": {},
   "outputs": [],
   "source": [
    "def flatten(l):\n",
    "    if not isinstance(l, list):\n",
    "        return l\n",
    "\n",
    "    l_ = list()\n",
    "    for l_i in l:\n",
    "        if isinstance(l_i, list):\n",
    "            l_i = flatten(l_i)\n",
    "        else:\n",
    "            l_i = [l_i, ]\n",
    "\n",
    "        l_ += l_i  # concatenate\n",
    "\n",
    "    return l_"
   ]
  },
  {
   "cell_type": "code",
   "execution_count": null,
   "metadata": {},
   "outputs": [],
   "source": [
    "with open('../data/raw/test_instances/290_9.json') as f:\n",
    "    instance = json.load(f)\n",
    "\n",
    "instance['min_cpu_time']"
   ]
  },
  {
   "cell_type": "code",
   "execution_count": null,
   "metadata": {},
   "outputs": [],
   "source": [
    "instance['min_periodo_job']"
   ]
  },
  {
   "cell_type": "code",
   "execution_count": null,
   "metadata": {},
   "outputs": [],
   "source": [
    "test_instances = list(Path('../data/raw/test_instances').glob('*_*.json'))\n",
    "\n",
    "instances_values = dict()\n",
    "for instance_fp in test_instances:\n",
    "    with open(instance_fp) as f:\n",
    "        instance = json.load(f)\n",
    "\n",
    "    for k, v in instance.items():\n",
    "        v = flatten(v)\n",
    "        try:\n",
    "            instances_values[k].append(v)\n",
    "        except KeyError:\n",
    "            instances_values[k] = [v,]\n",
    "\n",
    "# instances_values['win_min'] = [max(min_s) for min_s in instances_values['win_min']]\n",
    "# instances_values['win_max'] = [min(max_s) for max_s in instances_values['win_max']]\n",
    "# instances_values['min_cpu_time'] = [max(min_s) for min_s in instances_values['min_cpu_time']]\n",
    "# instances_values['max_cpu_time'] = [max(max_s) for max_s in instances_values['max_cpu_time']]\n",
    "# instances_values['min_periodo_job'] = [max(min_s) for min_s in instances_values['min_periodo_job']]\n",
    "# instances_values['max_periodo_job'] = [max(max_s) for max_s in instances_values['max_periodo_job']]\n",
    "# instances_values['min_startup'] = [max(min_s) for min_s in instances_values['min_startup']]\n",
    "# instances_values['max_startup'] = [max(max_s) for max_s in instances_values['max_startup']]\n",
    "\n",
    "instances_values.pop('recurso_p')\n",
    "instances_values.pop('priority')\n",
    "instances_values.pop('uso_p')\n",
    "\n",
    "flat_instances_values = {k: list() for k in instances_values.keys()}\n",
    "for i in range(len(test_instances)):\n",
    "    for j in range(instances_values['jobs'][i]):\n",
    "        for k in ['min_startup', 'max_startup', 'min_periodo_job', 'max_periodo_job', 'win_min', 'win_max', 'min_cpu_time', 'max_cpu_time']:\n",
    "            flat_instances_values[k].append(instances_values[k][i][j])\n",
    "        \n",
    "        flat_instances_values['jobs'].append(instances_values['jobs'][i])\n",
    "        flat_instances_values['T'].append(instances_values['T'][i])\n",
    "\n",
    "df = pd.DataFrame(flat_instances_values)\n",
    "df"
   ]
  },
  {
   "cell_type": "code",
   "execution_count": null,
   "metadata": {},
   "outputs": [],
   "source": [
    "k = 'win_max'\n",
    "print(k)\n",
    "df.hist(column=k, by='T', figsize=(10,10))\n",
    "plt.suptitle(k)\n",
    "plt.show()\n",
    "\n",
    "s = df.groupby('T')[k].quantile(.1)\n",
    "print(s)\n",
    "print(max(s.values / s.index))\n",
    "print(min(s.index - s.values))"
   ]
  },
  {
   "cell_type": "code",
   "execution_count": null,
   "metadata": {},
   "outputs": [],
   "source": []
  },
  {
   "cell_type": "code",
   "execution_count": null,
   "metadata": {},
   "outputs": [],
   "source": [
    "test_instances = list(Path('../data/raw/test_instances').glob('*_*.json'))\n",
    "\n",
    "instances_values = dict()\n",
    "for instance_fp in test_instances:\n",
    "    with open(instance_fp) as f:\n",
    "        instance = json.load(f)\n",
    "\n",
    "    # if instance['jobs'] < 20:\n",
    "    #     continue\n",
    "\n",
    "    for k, v in instance.items():\n",
    "        v = flatten(v)\n",
    "        try:\n",
    "            instances_values[k].append(v)\n",
    "        except KeyError:\n",
    "            instances_values[k] = [v,]\n",
    "\n",
    "min_cpu_times = [np.array(m) for m in instances_values['min_cpu_time']]\n",
    "min_periodo_job = [np.array(m) for m in instances_values['min_periodo_job']]\n",
    "\n",
    "for i in range(len(min_cpu_times)):\n",
    "    mct = min_cpu_times[i]\n",
    "    mpj = min_periodo_job[i]\n",
    "\n",
    "    if any((mpj - mct) < 0):\n",
    "        print(test_instances[i])"
   ]
  },
  {
   "cell_type": "code",
   "execution_count": null,
   "metadata": {},
   "outputs": [],
   "source": [
    "with open('../data/raw/test_instances/194_9.json') as f:\n",
    "    instance = json.load(f)\n",
    "\n",
    "instance['min_cpu_time']"
   ]
  },
  {
   "cell_type": "code",
   "execution_count": null,
   "metadata": {},
   "outputs": [],
   "source": [
    "instance['min_periodo_job']"
   ]
  },
  {
   "cell_type": "code",
   "execution_count": null,
   "metadata": {},
   "outputs": [],
   "source": []
  },
  {
   "cell_type": "code",
   "execution_count": null,
   "metadata": {},
   "outputs": [],
   "source": [
    "mct - mpj"
   ]
  },
  {
   "cell_type": "code",
   "execution_count": null,
   "metadata": {},
   "outputs": [],
   "source": [
    "test_instances = list(Path('../data/raw/test_instances').glob('*_*.json'))\n",
    "\n",
    "instances_values = dict()\n",
    "for instance_fp in test_instances:\n",
    "    with open(instance_fp) as f:\n",
    "        instance = json.load(f)\n",
    "\n",
    "    # if instance['jobs'] < 20:\n",
    "    #     continue\n",
    "\n",
    "    for k, v in instance.items():\n",
    "        v = flatten(v)\n",
    "        try:\n",
    "            instances_values[k].append(v)\n",
    "        except KeyError:\n",
    "            instances_values[k] = [v,]\n",
    "\n",
    "for k in instances_values.keys():\n",
    "    try:\n",
    "        instances_values[k] = np.concatenate([np.array(v) for v in instances_values[k]])\n",
    "    except ValueError:\n",
    "        pass\n",
    "\n",
    "keys = [\n",
    "    'T',\n",
    "    'priority',\n",
    "    'jobs',\n",
    "    'recurso_p',\n",
    "    'uso_p',\n",
    "    'min_startup',\n",
    "    'max_startup',\n",
    "    'min_periodo_job',\n",
    "    'max_periodo_job',\n",
    "    'win_min',\n",
    "    'win_max',\n",
    "    'min_cpu_time',\n",
    "    'max_cpu_time',\n",
    "]\n",
    "for k in keys:\n",
    "    v = instances_values[k]\n",
    "    plt.hist(v, bins=50)\n",
    "    plt.title(f\"{k} [{min(v):.2f},{max(v):.2f}]\")\n",
    "    plt.show()"
   ]
  },
  {
   "cell_type": "code",
   "execution_count": null,
   "metadata": {},
   "outputs": [],
   "source": [
    "instances_values = dict()\n",
    "for instance_fp in Path('../data/raw/').glob('*.json'):\n",
    "    with open(instance_fp) as f:\n",
    "        instance = json.load(f)\n",
    "\n",
    "    for k, v in instance.items():\n",
    "        v = flatten(v)\n",
    "        try:\n",
    "            instances_values[k].append(v)\n",
    "        except KeyError:\n",
    "            instances_values[k] = [v,]\n",
    "\n",
    "for k in instances_values.keys():\n",
    "    try:\n",
    "        instances_values[k] = np.concatenate([np.array(v) for v in instances_values[k]])\n",
    "    except ValueError:\n",
    "        pass\n",
    "\n",
    "for k, v in instances_values.items():\n",
    "    plt.hist(v, bins=50)\n",
    "    plt.title(f\"{k} [{min(v):.2f},{max(v):.2f}]\")\n",
    "    plt.show()"
   ]
  },
  {
   "cell_type": "code",
   "execution_count": null,
   "metadata": {},
   "outputs": [],
   "source": [
    "instances_values = dict()\n",
    "for instance_fp in Path('../data/raw/').glob('*.json'):\n",
    "    with open(instance_fp) as f:\n",
    "        instance = json.load(f)\n",
    "\n",
    "    for k, v in instance.items():\n",
    "        try:\n",
    "            instances_values[k].append(v)\n",
    "        except KeyError:\n",
    "            instances_values[k] = [v,]\n",
    "\n",
    "for k in instances_values.keys():\n",
    "    try:\n",
    "        instances_values[k] = np.concatenate([np.array(v) for v in instances_values[k]])\n",
    "    except ValueError:\n",
    "        pass\n",
    "\n",
    "for k, v in instances_values.items():\n",
    "    plt.hist(v, bins=50)\n",
    "    plt.title(f\"{k} [{min(v):.2f},{max(v):.2f}]\")\n",
    "    plt.show()"
   ]
  },
  {
   "attachments": {},
   "cell_type": "markdown",
   "metadata": {},
   "source": [
    "# Generated Instances"
   ]
  },
  {
   "cell_type": "code",
   "execution_count": 3,
   "metadata": {},
   "outputs": [
    {
     "data": {
      "text/plain": [
       "{(97, 9): 109,\n",
       " (97, 13): 107,\n",
       " (97, 18): 104,\n",
       " (97, 20): 107,\n",
       " (97, 22): 103,\n",
       " (97, 24): 105,\n",
       " (120, 9): 106,\n",
       " (120, 13): 107,\n",
       " (120, 18): 104,\n",
       " (120, 20): 100,\n",
       " (120, 22): 100,\n",
       " (120, 24): 100,\n",
       " (125, 9): 102,\n",
       " (125, 13): 106,\n",
       " (125, 18): 102,\n",
       " (125, 20): 102,\n",
       " (125, 22): 100,\n",
       " (125, 24): 100,\n",
       " (154, 9): 100,\n",
       " (154, 13): 102,\n",
       " (154, 18): 100,\n",
       " (154, 20): 9,\n",
       " (154, 22): 0,\n",
       " (154, 24): 0,\n",
       " (170, 9): 56,\n",
       " (170, 13): 0,\n",
       " (170, 18): 0,\n",
       " (170, 20): 0,\n",
       " (170, 22): 0,\n",
       " (170, 24): 0,\n",
       " (194, 9): 100,\n",
       " (194, 13): 0,\n",
       " (194, 18): 0,\n",
       " (194, 20): 0,\n",
       " (194, 22): 0,\n",
       " (194, 24): 0,\n",
       " (291, 9): 100,\n",
       " (291, 13): 0,\n",
       " (291, 18): 0,\n",
       " (291, 20): 0,\n",
       " (291, 22): 0,\n",
       " (291, 24): 0}"
      ]
     },
     "execution_count": 3,
     "metadata": {},
     "output_type": "execute_result"
    }
   ],
   "source": [
    "ns = dict()\n",
    "for t in [97, 120, 125, 154, 170, 194, 291]:\n",
    "    for j in [9, 13, 18, 20, 22, 24]:\n",
    "        ns[t,j] = len(list(Path('../data/raw/').glob('%d_%d_*.json' % (t, j))))\n",
    "ns"
   ]
  },
  {
   "cell_type": "code",
   "execution_count": null,
   "metadata": {},
   "outputs": [],
   "source": [
    "npz = np.load('../data/interim/97_13_30_sols.npz')\n",
    "\n",
    "sols, objs = npz['arr_0'], npz['arr_1']\n",
    "\n",
    "sols.shape, objs.shape"
   ]
  },
  {
   "cell_type": "code",
   "execution_count": null,
   "metadata": {},
   "outputs": [],
   "source": [
    "with open('../data/raw/97_13_30.json') as f:\n",
    "    instance = json.load(f)\n",
    "\n",
    "instance"
   ]
  },
  {
   "cell_type": "code",
   "execution_count": null,
   "metadata": {},
   "outputs": [],
   "source": [
    "m = get_model(instance)\n",
    "\n",
    "m.getVars()[-100:]"
   ]
  },
  {
   "attachments": {},
   "cell_type": "markdown",
   "metadata": {},
   "source": [
    "## Create hdf5"
   ]
  },
  {
   "cell_type": "code",
   "execution_count": null,
   "metadata": {},
   "outputs": [],
   "source": [
    "import h5py"
   ]
  },
  {
   "cell_type": "code",
   "execution_count": null,
   "metadata": {},
   "outputs": [],
   "source": [
    "h5_file = h5py.File('test.hdf5', 'w')"
   ]
  },
  {
   "cell_type": "code",
   "execution_count": null,
   "metadata": {},
   "outputs": [],
   "source": [
    "instances_fps = list(Path('../data/raw/').glob('97*.json'))\n",
    "\n",
    "instances_sizes = {tuple(map(int, f.name.split('_')[:2])) for f in instances_fps}\n",
    "instances_sizes = np.array([np.array(inst_size) for inst_size in instances_sizes])\n",
    "\n",
    "h5_file.require_dataset('instances', instances_sizes.shape, instances_sizes.dtype, exact=True)\n",
    "h5_file['instances'][:] = instances_sizes\n",
    "h5_file['instances'][:]"
   ]
  },
  {
   "cell_type": "code",
   "execution_count": null,
   "metadata": {},
   "outputs": [],
   "source": [
    "params = [\n",
    "    'power_use',\n",
    "    'min_cpu_time',\n",
    "    'max_cpu_time',\n",
    "    'min_job_period',\n",
    "    'max_job_period',\n",
    "    'min_startup',\n",
    "    'max_startup',\n",
    "    'priority',\n",
    "    'win_min',\n",
    "    'win_max'\n",
    "]\n",
    "for instance_fp in instances_fps:\n",
    "    with open(instance_fp) as f:\n",
    "        instance = json.load(f)\n",
    "\n",
    "    sol_npz = np.load(Path('../data/interim/')/instance_fp.name.replace('.json', '_sols.npz'))\n",
    "    sols, objs = sol_npz['arr_0'], sol_npz['arr_1']\n",
    "\n",
    "    t, j, i = map(int, instance_fp.name[:-len('.json')].split('_')[:3])\n",
    "\n",
    "    t_group = h5_file.require_group(str(t))\n",
    "    group = t_group.require_group(str(j))\n",
    "\n",
    "    if not 'i' in group.keys():\n",
    "        group.create_dataset('i', (0,), '<i8', maxshape=(200,))\n",
    "    group['i'].resize(len(group['i']) + 1, 0)\n",
    "    group['i'][-1] = i\n",
    "\n",
    "    if not 'power_resource' in group.keys():\n",
    "        group.create_dataset('power_resource', (0,t), 'float64', maxshape=(200,t))\n",
    "    group['power_resource'].resize(len(group['power_resource']) + 1, 0)\n",
    "    group['power_resource'][-1] = instance['power_resource']\n",
    "\n",
    "    if not 'jobs_params' in group.keys():\n",
    "        group.create_dataset('jobs_params', (0,10*j), 'float64', maxshape=(200,10*j))\n",
    "        group['jobs_params'].attrs['params'] = params\n",
    "    group['jobs_params'].resize(len(group['jobs_params']) + 1, 0)\n",
    "\n",
    "    jobs_params = list()\n",
    "    for p in params:\n",
    "        jobs_params += instance[p]\n",
    "    group['jobs_params'][-1] = jobs_params\n",
    "    break"
   ]
  },
  {
   "cell_type": "code",
   "execution_count": null,
   "metadata": {},
   "outputs": [],
   "source": [
    "h5_file.close()\n",
    "!rm test.hdf5"
   ]
  }
 ],
 "metadata": {
  "kernelspec": {
   "display_name": "gnns",
   "language": "python",
   "name": "python3"
  },
  "language_info": {
   "codemirror_mode": {
    "name": "ipython",
    "version": 3
   },
   "file_extension": ".py",
   "mimetype": "text/x-python",
   "name": "python",
   "nbconvert_exporter": "python",
   "pygments_lexer": "ipython3",
   "version": "3.10.8"
  },
  "orig_nbformat": 4
 },
 "nbformat": 4,
 "nbformat_minor": 2
}
