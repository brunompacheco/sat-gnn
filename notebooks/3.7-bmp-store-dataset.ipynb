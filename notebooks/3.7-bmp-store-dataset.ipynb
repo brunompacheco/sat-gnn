{
 "cells": [
  {
   "cell_type": "code",
   "execution_count": 27,
   "metadata": {},
   "outputs": [
    {
     "name": "stdout",
     "output_type": "stream",
     "text": [
      "The autoreload extension is already loaded. To reload it, use:\n",
      "  %reload_ext autoreload\n"
     ]
    }
   ],
   "source": [
    "%load_ext autoreload\n",
    "%autoreload 2\n",
    "\n",
    "import sys\n",
    "sys.path.append('..')  # enable import from src/"
   ]
  },
  {
   "cell_type": "code",
   "execution_count": 46,
   "metadata": {},
   "outputs": [],
   "source": [
    "import dgl\n",
    "import torch\n",
    "import numpy as np\n",
    "from time import time\n",
    "\n",
    "from pathlib import Path\n",
    "\n",
    "from src.dataset import OptimalsDataset, MultiTargetDataset, VarOptimalityDataset"
   ]
  },
  {
   "cell_type": "code",
   "execution_count": 48,
   "metadata": {},
   "outputs": [
    {
     "name": "stdout",
     "output_type": "stream",
     "text": [
      "1.3012938499450684\n"
     ]
    }
   ],
   "source": [
    "instances_fps = list(Path('../data/raw/').glob('97_9_*.json'))\n",
    "\n",
    "ds = VarOptimalityDataset(instances_fps[:5], samples_per_instance=10)\n",
    "\n",
    "start = time()\n",
    "for i in range(5*10):\n",
    "    _ = ds[i]\n",
    "print(time() - start)"
   ]
  },
  {
   "cell_type": "code",
   "execution_count": 49,
   "metadata": {},
   "outputs": [],
   "source": [
    "ds.save_dataset('test.hdf5')"
   ]
  },
  {
   "cell_type": "code",
   "execution_count": 50,
   "metadata": {},
   "outputs": [
    {
     "name": "stdout",
     "output_type": "stream",
     "text": [
      "0.08147096633911133\n"
     ]
    }
   ],
   "source": [
    "ds = VarOptimalityDataset.lazy_from_file('test.hdf5')\n",
    "\n",
    "start = time()\n",
    "for i in range(5*10):\n",
    "    _ = ds[i]\n",
    "print(time() - start)"
   ]
  }
 ],
 "metadata": {
  "kernelspec": {
   "display_name": "gnns",
   "language": "python",
   "name": "python3"
  },
  "language_info": {
   "codemirror_mode": {
    "name": "ipython",
    "version": 3
   },
   "file_extension": ".py",
   "mimetype": "text/x-python",
   "name": "python",
   "nbconvert_exporter": "python",
   "pygments_lexer": "ipython3",
   "version": "3.10.8"
  },
  "orig_nbformat": 4
 },
 "nbformat": 4,
 "nbformat_minor": 2
}
