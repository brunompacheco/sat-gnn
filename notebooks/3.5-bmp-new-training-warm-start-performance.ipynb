{
 "cells": [
  {
   "cell_type": "code",
   "execution_count": 2,
   "metadata": {},
   "outputs": [
    {
     "name": "stdout",
     "output_type": "stream",
     "text": [
      "The autoreload extension is already loaded. To reload it, use:\n",
      "  %reload_ext autoreload\n"
     ]
    }
   ],
   "source": [
    "%load_ext autoreload\n",
    "%autoreload 2\n",
    "\n",
    "import sys\n",
    "sys.path.append('..')  # enable import from src/"
   ]
  },
  {
   "cell_type": "code",
   "execution_count": null,
   "metadata": {},
   "outputs": [],
   "source": [
    "m"
   ]
  },
  {
   "cell_type": "code",
   "execution_count": 3,
   "metadata": {},
   "outputs": [],
   "source": [
    "import json\n",
    "import pickle\n",
    "from copy import deepcopy\n",
    "from pathlib import Path\n",
    "\n",
    "import gurobipy\n",
    "from gurobipy import GRB\n",
    "import dgl\n",
    "import numpy as np\n",
    "import torch\n",
    "import matplotlib.pyplot as plt\n",
    "\n",
    "from src.problem import get_model\n",
    "from src.dataset import InstanceDataset\n",
    "from src.net import InstanceGCN\n",
    "from src.utils import load_from_wandb"
   ]
  },
  {
   "cell_type": "code",
   "execution_count": 4,
   "metadata": {},
   "outputs": [
    {
     "name": "stdout",
     "output_type": "stream",
     "text": [
      "Set parameter Username\n",
      "Academic license - for non-commercial use only - expires 2024-02-10\n"
     ]
    },
    {
     "data": {
      "text/plain": [
       "<gurobi.Model MIP instance Unnamed: 10163 constrs, 3783 vars, Parameter changes: TimeLimit=60.0, Username=(user-defined), LogToConsole=0>"
      ]
     },
     "execution_count": 4,
     "metadata": {},
     "output_type": "execute_result"
    }
   ],
   "source": [
    "instances_dir = Path('../data/raw')\n",
    "instances_fpaths = list(instances_dir.glob('97_*.json'))\n",
    "\n",
    "net = InstanceGCN(1, readout_op=None)\n",
    "net = load_from_wandb(net, 'vty6z1q3', 'sat-gnn', 'model_last')\n",
    "net.eval()\n",
    "\n",
    "ds = InstanceDataset(instances_fpaths, split='val', return_model=True)"
   ]
  },
  {
   "attachments": {},
   "cell_type": "markdown",
   "metadata": {},
   "source": [
    "# Warm start"
   ]
  },
  {
   "cell_type": "code",
   "execution_count": 7,
   "metadata": {},
   "outputs": [],
   "source": [
    "def get_ws_times_n_vars(graph, model, net, name=None, plot=True, timeout=60):\n",
    "    vars_names = np.core.defchararray.array([v.getAttr(GRB.Attr.VarName) for v in model.getVars()])\n",
    "    vars_names = vars_names[(vars_names.find('x(') >= 0) | (vars_names.find('phi(') >= 0)]\n",
    "\n",
    "    # baseline results\n",
    "    model_ = model.copy()\n",
    "    model_.setParam('TimeLimit', timeout)\n",
    "    model_.update()\n",
    "    model_.optimize()\n",
    "    baseline_runtime = model_.Runtime\n",
    "    baseline_obj = model_.ObjVal\n",
    "    baseline_gap = model_.MIPGap\n",
    "\n",
    "    with torch.no_grad():\n",
    "        x_hat = torch.sigmoid(net(graph)).squeeze(0)\n",
    "\n",
    "    most_certain_idx  = (x_hat - 0.5).abs().sort(descending=True).indices\n",
    "\n",
    "\n",
    "    runtimes = list()\n",
    "    objs = list()\n",
    "    gaps = list()\n",
    "    ns = list()\n",
    "    for n in [0, 50, 100, 200, 500, 1000, len(x_hat)]:\n",
    "    # for n in [0, 50, 100, 150]:\n",
    "        if n == 0:\n",
    "            runtimes.append(baseline_runtime)\n",
    "            objs.append(baseline_obj)\n",
    "            gaps.append(baseline_gap)\n",
    "            ns.append(n)\n",
    "            continue\n",
    "\n",
    "        fixed_x_hat = (x_hat[most_certain_idx[:n]] > .5).to(x_hat)\n",
    "        fixed_vars_names = vars_names[most_certain_idx[:n]]\n",
    "\n",
    "        # fix variables\n",
    "        model_ = model.copy()\n",
    "        for fixed_var_name, fixed_var_X in zip(fixed_vars_names, fixed_x_hat):\n",
    "            model_.getVarByName(fixed_var_name).Start = fixed_var_X\n",
    "\n",
    "        model_.setParam('TimeLimit', timeout)\n",
    "        model_.update()\n",
    "        model_.optimize()\n",
    "\n",
    "        if model_.status not in [2, 9]:\n",
    "            print('warm starting with n=',n,' made the optimizatio terminate with status ',model_.status)\n",
    "            break\n",
    "\n",
    "        runtimes.append(model_.Runtime)\n",
    "        objs.append(model_.ObjVal)\n",
    "        gaps.append(model_.MIPGap)\n",
    "        ns.append(n)\n",
    "\n",
    "    objs = [100 * o / baseline_obj for o in objs]\n",
    "\n",
    "    if plot:\n",
    "        fig, ax = plt.subplots()\n",
    "        ax.plot(ns, runtimes, '.-', label='Runtime')\n",
    "        # ax.set_xlim((0, x_opt.shape[0]))\n",
    "        ax.grid()\n",
    "        ax.legend(loc=1)\n",
    "\n",
    "        ax.set_title('Early fixing performance '+str(name))\n",
    "        ax.set_xlabel('# fixed variables')\n",
    "        ax.set_ylabel('Runtime')\n",
    "\n",
    "        ax.set_xlim(0,max(ns))\n",
    "\n",
    "        obj_ax = ax.twinx()\n",
    "        obj_ax.plot(ns, objs, '.-', c='r', label='Objective')\n",
    "        obj_ax.legend(loc=4)\n",
    "        obj_ax.set_ylim(min(objs), 100)\n",
    "        obj_ax.set_ylabel('Objective')\n",
    "\n",
    "        fig.show()\n",
    "\n",
    "    return ns, runtimes, objs, gaps"
   ]
  },
  {
   "cell_type": "code",
   "execution_count": 10,
   "metadata": {},
   "outputs": [
    {
     "data": {
      "text/plain": [
       "([0, 50, 100, 200, 500, 1000, 1746],\n",
       " [0.840144157409668,\n",
       "  0.5113790035247803,\n",
       "  1.2048890590667725,\n",
       "  0.6877460479736328,\n",
       "  0.6777899265289307,\n",
       "  0.8448271751403809,\n",
       "  0.6791079044342041],\n",
       " [100.0, 100.0, 100.0, 100.0, 100.0, 100.0, 100.0],\n",
       " [0.0, 0.0, 0.0, 0.0, 0.0, 0.0, 0.0])"
      ]
     },
     "execution_count": 10,
     "metadata": {},
     "output_type": "execute_result"
    }
   ],
   "source": [
    "g, _, m = ds[-1]\n",
    "\n",
    "ns, runtimes, objs, gaps = get_ws_times_n_vars(g, m, net, timeout=10, plot=False)\n",
    "ns, runtimes, objs, gaps"
   ]
  },
  {
   "attachments": {},
   "cell_type": "markdown",
   "metadata": {},
   "source": [
    "# Hinting"
   ]
  },
  {
   "cell_type": "code",
   "execution_count": 14,
   "metadata": {},
   "outputs": [
    {
     "data": {
      "text/plain": [
       "0"
      ]
     },
     "execution_count": 14,
     "metadata": {},
     "output_type": "execute_result"
    }
   ],
   "source": [
    "m.getVars()[0].VarHintPri"
   ]
  },
  {
   "cell_type": "code",
   "execution_count": 15,
   "metadata": {},
   "outputs": [],
   "source": [
    "def get_ht_times_n_vars(graph, model, net, name=None, plot=True, timeout=60):\n",
    "    vars_names = np.core.defchararray.array([v.getAttr(GRB.Attr.VarName) for v in model.getVars()])\n",
    "    vars_names = vars_names[(vars_names.find('x(') >= 0) | (vars_names.find('phi(') >= 0)]\n",
    "\n",
    "    # baseline results\n",
    "    model_ = model.copy()\n",
    "    model_.setParam('TimeLimit', timeout)\n",
    "    model_.update()\n",
    "    model_.optimize()\n",
    "    baseline_runtime = model_.Runtime\n",
    "    baseline_obj = model_.ObjVal\n",
    "    baseline_gap = model_.MIPGap\n",
    "\n",
    "    with torch.no_grad():\n",
    "        x_hat = torch.sigmoid(net(graph)).squeeze(0)\n",
    "\n",
    "    most_certain_idx  = (x_hat - 0.5).abs().sort(descending=True).indices\n",
    "\n",
    "\n",
    "    runtimes = list()\n",
    "    objs = list()\n",
    "    gaps = list()\n",
    "    ns = list()\n",
    "    for n in [0, 50, 100, 200, 500, 1000, len(x_hat)]:\n",
    "    # for n in [0, 50, 100, 150]:\n",
    "        if n == 0:\n",
    "            runtimes.append(baseline_runtime)\n",
    "            objs.append(baseline_obj)\n",
    "            gaps.append(baseline_gap)\n",
    "            ns.append(n)\n",
    "            continue\n",
    "\n",
    "        fixed_x_hat = (x_hat[most_certain_idx[:n]] > .5).to(x_hat)\n",
    "        certainty_x_hat = (x_hat[most_certain_idx[:n]] - 0.5).abs() * 2\n",
    "        fixed_vars_names = vars_names[most_certain_idx[:n]]\n",
    "\n",
    "        # fix variables\n",
    "        model_ = model.copy()\n",
    "        for fixed_var_name, fixed_var_X, var_certainty in zip(fixed_vars_names, fixed_x_hat, certainty_x_hat):\n",
    "            model_.getVarByName(fixed_var_name).VarHintVal = fixed_var_X\n",
    "            model_.getVarByName(fixed_var_name).VarHintPri = int(var_certainty * 100)\n",
    "\n",
    "        model_.setParam('TimeLimit', timeout)\n",
    "        model_.update()\n",
    "        model_.optimize()\n",
    "\n",
    "        if model_.status not in [2, 9]:\n",
    "            print('warm starting with n=',n,' made the optimizatio terminate with status ',model_.status)\n",
    "            break\n",
    "\n",
    "        runtimes.append(model_.Runtime)\n",
    "        objs.append(model_.ObjVal)\n",
    "        gaps.append(model_.MIPGap)\n",
    "        ns.append(n)\n",
    "\n",
    "    objs = [100 * o / baseline_obj for o in objs]\n",
    "\n",
    "    if plot:\n",
    "        fig, ax = plt.subplots()\n",
    "        ax.plot(ns, runtimes, '.-', label='Runtime')\n",
    "        # ax.set_xlim((0, x_opt.shape[0]))\n",
    "        ax.grid()\n",
    "        ax.legend(loc=1)\n",
    "\n",
    "        ax.set_title('Early fixing performance '+str(name))\n",
    "        ax.set_xlabel('# fixed variables')\n",
    "        ax.set_ylabel('Runtime')\n",
    "\n",
    "        ax.set_xlim(0,max(ns))\n",
    "\n",
    "        obj_ax = ax.twinx()\n",
    "        obj_ax.plot(ns, objs, '.-', c='r', label='Objective')\n",
    "        obj_ax.legend(loc=4)\n",
    "        obj_ax.set_ylim(min(objs), 100)\n",
    "        obj_ax.set_ylabel('Objective')\n",
    "\n",
    "        fig.show()\n",
    "\n",
    "    return ns, runtimes, objs, gaps"
   ]
  },
  {
   "cell_type": "code",
   "execution_count": 19,
   "metadata": {},
   "outputs": [
    {
     "data": {
      "text/plain": [
       "([0, 50, 100, 200, 500, 1000, 4268],\n",
       " [10.009244918823242,\n",
       "  10.007880210876465,\n",
       "  10.005330085754395,\n",
       "  10.010838031768799,\n",
       "  10.027592182159424,\n",
       "  10.018505096435547,\n",
       "  10.02341604232788],\n",
       " [100.0,\n",
       "  99.77518904557532,\n",
       "  99.74453300633559,\n",
       "  99.64234620886981,\n",
       "  99.77518904557532,\n",
       "  99.77518904557532,\n",
       "  99.77518904557532],\n",
       " [0.05773554056815859,\n",
       "  0.06421548545678,\n",
       "  0.06669398627189838,\n",
       "  0.06573684750282022,\n",
       "  0.06278164686603852,\n",
       "  0.06411306841458418,\n",
       "  0.06329373207701762])"
      ]
     },
     "execution_count": 19,
     "metadata": {},
     "output_type": "execute_result"
    }
   ],
   "source": [
    "g, _, m = ds[2]\n",
    "\n",
    "ns, runtimes, objs, gaps = get_ht_times_n_vars(g, m, net, timeout=10, plot=False)\n",
    "ns, runtimes, objs, gaps"
   ]
  }
 ],
 "metadata": {
  "kernelspec": {
   "display_name": "gnns",
   "language": "python",
   "name": "python3"
  },
  "language_info": {
   "codemirror_mode": {
    "name": "ipython",
    "version": 3
   },
   "file_extension": ".py",
   "mimetype": "text/x-python",
   "name": "python",
   "nbconvert_exporter": "python",
   "pygments_lexer": "ipython3",
   "version": "3.10.8"
  },
  "orig_nbformat": 4,
  "vscode": {
   "interpreter": {
    "hash": "2b5834c5769e5fff224335f9b3e429823ee0ced96648f4497a08815e8d6b510a"
   }
  }
 },
 "nbformat": 4,
 "nbformat_minor": 2
}
