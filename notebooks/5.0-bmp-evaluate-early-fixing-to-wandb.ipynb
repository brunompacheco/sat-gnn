{
 "cells": [
  {
   "cell_type": "code",
   "execution_count": 1,
   "metadata": {},
   "outputs": [],
   "source": [
    "%load_ext autoreload\n",
    "%autoreload 2\n",
    "\n",
    "import sys\n",
    "sys.path.append('..')  # enable import from src/"
   ]
  },
  {
   "cell_type": "code",
   "execution_count": 2,
   "metadata": {},
   "outputs": [],
   "source": [
    "from pathlib import Path\n",
    "\n",
    "import matplotlib.pyplot as plt\n",
    "\n",
    "import numpy as np\n",
    "import pandas as pd\n",
    "import torch\n",
    "import wandb\n",
    "\n",
    "from src.net import InstanceGCN\n",
    "from src.dataset import MultiTargetDataset\n",
    "from src.utils import load_from_wandb"
   ]
  },
  {
   "cell_type": "code",
   "execution_count": 3,
   "metadata": {},
   "outputs": [
    {
     "data": {
      "text/html": [
       "<div>\n",
       "<style scoped>\n",
       "    .dataframe tbody tr th:only-of-type {\n",
       "        vertical-align: middle;\n",
       "    }\n",
       "\n",
       "    .dataframe tbody tr th {\n",
       "        vertical-align: top;\n",
       "    }\n",
       "\n",
       "    .dataframe thead th {\n",
       "        text-align: right;\n",
       "    }\n",
       "</style>\n",
       "<table border=\"1\" class=\"dataframe\">\n",
       "  <thead>\n",
       "    <tr style=\"text-align: right;\">\n",
       "      <th></th>\n",
       "      <th>gap</th>\n",
       "      <th>_runtime</th>\n",
       "      <th>infeasible</th>\n",
       "      <th>primal_curve</th>\n",
       "      <th>obj</th>\n",
       "      <th>_step</th>\n",
       "      <th>n_fixed</th>\n",
       "      <th>runtime</th>\n",
       "      <th>_timestamp</th>\n",
       "      <th>pd_integral</th>\n",
       "      <th>relative_obj</th>\n",
       "      <th>rel_primal_integral</th>\n",
       "    </tr>\n",
       "  </thead>\n",
       "  <tbody>\n",
       "    <tr>\n",
       "      <th>0</th>\n",
       "      <td>2.694724e+00</td>\n",
       "      <td>53.097043</td>\n",
       "      <td>0</td>\n",
       "      <td>{'size': 844, '_type': 'table-file', 'ncols': ...</td>\n",
       "      <td>3174.0</td>\n",
       "      <td>0</td>\n",
       "      <td>0</td>\n",
       "      <td>30.004387</td>\n",
       "      <td>1.688425e+09</td>\n",
       "      <td>6.073335e+05</td>\n",
       "      <td>1.000000</td>\n",
       "      <td>24.376927</td>\n",
       "    </tr>\n",
       "    <tr>\n",
       "      <th>1</th>\n",
       "      <td>7.563411e-01</td>\n",
       "      <td>83.453209</td>\n",
       "      <td>0</td>\n",
       "      <td>{'sha256': '8fbdb33dd8aa38cb2c36cdfec1faea4f65...</td>\n",
       "      <td>6605.0</td>\n",
       "      <td>1</td>\n",
       "      <td>50</td>\n",
       "      <td>30.001606</td>\n",
       "      <td>1.688425e+09</td>\n",
       "      <td>6.275064e+05</td>\n",
       "      <td>2.080970</td>\n",
       "      <td>18.543763</td>\n",
       "    </tr>\n",
       "    <tr>\n",
       "      <th>2</th>\n",
       "      <td>1.859479e+00</td>\n",
       "      <td>113.746338</td>\n",
       "      <td>0</td>\n",
       "      <td>{'sha256': 'ce92ece1bd45aa85e2557fa31a80a1f735...</td>\n",
       "      <td>3982.0</td>\n",
       "      <td>2</td>\n",
       "      <td>200</td>\n",
       "      <td>30.000956</td>\n",
       "      <td>1.688425e+09</td>\n",
       "      <td>6.626662e+05</td>\n",
       "      <td>1.254568</td>\n",
       "      <td>22.727228</td>\n",
       "    </tr>\n",
       "    <tr>\n",
       "      <th>3</th>\n",
       "      <td>2.317341e-01</td>\n",
       "      <td>144.030653</td>\n",
       "      <td>0</td>\n",
       "      <td>{'_latest_artifact_path': 'wandb-client-artifa...</td>\n",
       "      <td>9188.0</td>\n",
       "      <td>3</td>\n",
       "      <td>500</td>\n",
       "      <td>30.001620</td>\n",
       "      <td>1.688425e+09</td>\n",
       "      <td>5.939618e+05</td>\n",
       "      <td>2.894770</td>\n",
       "      <td>12.949742</td>\n",
       "    </tr>\n",
       "    <tr>\n",
       "      <th>4</th>\n",
       "      <td>3.718695e-02</td>\n",
       "      <td>174.300937</td>\n",
       "      <td>0</td>\n",
       "      <td>{'path': 'media/table/primal_curve_4_bc6564fda...</td>\n",
       "      <td>10568.0</td>\n",
       "      <td>4</td>\n",
       "      <td>1000</td>\n",
       "      <td>30.000666</td>\n",
       "      <td>1.688425e+09</td>\n",
       "      <td>2.869652e+05</td>\n",
       "      <td>3.329553</td>\n",
       "      <td>3.388262</td>\n",
       "    </tr>\n",
       "    <tr>\n",
       "      <th>...</th>\n",
       "      <td>...</td>\n",
       "      <td>...</td>\n",
       "      <td>...</td>\n",
       "      <td>...</td>\n",
       "      <td>...</td>\n",
       "      <td>...</td>\n",
       "      <td>...</td>\n",
       "      <td>...</td>\n",
       "      <td>...</td>\n",
       "      <td>...</td>\n",
       "      <td>...</td>\n",
       "      <td>...</td>\n",
       "    </tr>\n",
       "    <tr>\n",
       "      <th>95</th>\n",
       "      <td>1.000000e+20</td>\n",
       "      <td>2806.337117</td>\n",
       "      <td>0</td>\n",
       "      <td>{'_latest_artifact_path': 'wandb-client-artifa...</td>\n",
       "      <td>28663.0</td>\n",
       "      <td>95</td>\n",
       "      <td>0</td>\n",
       "      <td>30.003068</td>\n",
       "      <td>1.688428e+09</td>\n",
       "      <td>3.001260e+06</td>\n",
       "      <td>1.000000</td>\n",
       "      <td>30.012602</td>\n",
       "    </tr>\n",
       "    <tr>\n",
       "      <th>96</th>\n",
       "      <td>1.000000e+20</td>\n",
       "      <td>2836.696489</td>\n",
       "      <td>0</td>\n",
       "      <td>{'nrows': 1, 'path': 'media/table/primal_curve...</td>\n",
       "      <td>28663.0</td>\n",
       "      <td>96</td>\n",
       "      <td>50</td>\n",
       "      <td>30.015487</td>\n",
       "      <td>1.688428e+09</td>\n",
       "      <td>3.003026e+06</td>\n",
       "      <td>1.000000</td>\n",
       "      <td>30.030264</td>\n",
       "    </tr>\n",
       "    <tr>\n",
       "      <th>97</th>\n",
       "      <td>1.000000e+20</td>\n",
       "      <td>2866.986819</td>\n",
       "      <td>0</td>\n",
       "      <td>{'nrows': 2, 'path': 'media/table/primal_curve...</td>\n",
       "      <td>28560.0</td>\n",
       "      <td>97</td>\n",
       "      <td>200</td>\n",
       "      <td>30.006461</td>\n",
       "      <td>1.688428e+09</td>\n",
       "      <td>3.002085e+06</td>\n",
       "      <td>0.996407</td>\n",
       "      <td>30.021202</td>\n",
       "    </tr>\n",
       "    <tr>\n",
       "      <th>98</th>\n",
       "      <td>1.000000e+20</td>\n",
       "      <td>2897.393705</td>\n",
       "      <td>0</td>\n",
       "      <td>{'_type': 'table-file', 'ncols': 2, 'nrows': 9...</td>\n",
       "      <td>27564.0</td>\n",
       "      <td>98</td>\n",
       "      <td>500</td>\n",
       "      <td>30.001054</td>\n",
       "      <td>1.688428e+09</td>\n",
       "      <td>2.380645e+06</td>\n",
       "      <td>0.961658</td>\n",
       "      <td>30.016868</td>\n",
       "    </tr>\n",
       "    <tr>\n",
       "      <th>99</th>\n",
       "      <td>1.000000e+20</td>\n",
       "      <td>2927.659012</td>\n",
       "      <td>0</td>\n",
       "      <td>{'ncols': 2, 'nrows': 36, 'path': 'media/table...</td>\n",
       "      <td>24103.0</td>\n",
       "      <td>99</td>\n",
       "      <td>1000</td>\n",
       "      <td>30.000748</td>\n",
       "      <td>1.688428e+09</td>\n",
       "      <td>1.631423e+06</td>\n",
       "      <td>0.840910</td>\n",
       "      <td>30.015941</td>\n",
       "    </tr>\n",
       "  </tbody>\n",
       "</table>\n",
       "<p>100 rows × 12 columns</p>\n",
       "</div>"
      ],
      "text/plain": [
       "             gap     _runtime  infeasible  \\\n",
       "0   2.694724e+00    53.097043           0   \n",
       "1   7.563411e-01    83.453209           0   \n",
       "2   1.859479e+00   113.746338           0   \n",
       "3   2.317341e-01   144.030653           0   \n",
       "4   3.718695e-02   174.300937           0   \n",
       "..           ...          ...         ...   \n",
       "95  1.000000e+20  2806.337117           0   \n",
       "96  1.000000e+20  2836.696489           0   \n",
       "97  1.000000e+20  2866.986819           0   \n",
       "98  1.000000e+20  2897.393705           0   \n",
       "99  1.000000e+20  2927.659012           0   \n",
       "\n",
       "                                         primal_curve      obj  _step  \\\n",
       "0   {'size': 844, '_type': 'table-file', 'ncols': ...   3174.0      0   \n",
       "1   {'sha256': '8fbdb33dd8aa38cb2c36cdfec1faea4f65...   6605.0      1   \n",
       "2   {'sha256': 'ce92ece1bd45aa85e2557fa31a80a1f735...   3982.0      2   \n",
       "3   {'_latest_artifact_path': 'wandb-client-artifa...   9188.0      3   \n",
       "4   {'path': 'media/table/primal_curve_4_bc6564fda...  10568.0      4   \n",
       "..                                                ...      ...    ...   \n",
       "95  {'_latest_artifact_path': 'wandb-client-artifa...  28663.0     95   \n",
       "96  {'nrows': 1, 'path': 'media/table/primal_curve...  28663.0     96   \n",
       "97  {'nrows': 2, 'path': 'media/table/primal_curve...  28560.0     97   \n",
       "98  {'_type': 'table-file', 'ncols': 2, 'nrows': 9...  27564.0     98   \n",
       "99  {'ncols': 2, 'nrows': 36, 'path': 'media/table...  24103.0     99   \n",
       "\n",
       "    n_fixed    runtime    _timestamp   pd_integral  relative_obj  \\\n",
       "0         0  30.004387  1.688425e+09  6.073335e+05      1.000000   \n",
       "1        50  30.001606  1.688425e+09  6.275064e+05      2.080970   \n",
       "2       200  30.000956  1.688425e+09  6.626662e+05      1.254568   \n",
       "3       500  30.001620  1.688425e+09  5.939618e+05      2.894770   \n",
       "4      1000  30.000666  1.688425e+09  2.869652e+05      3.329553   \n",
       "..      ...        ...           ...           ...           ...   \n",
       "95        0  30.003068  1.688428e+09  3.001260e+06      1.000000   \n",
       "96       50  30.015487  1.688428e+09  3.003026e+06      1.000000   \n",
       "97      200  30.006461  1.688428e+09  3.002085e+06      0.996407   \n",
       "98      500  30.001054  1.688428e+09  2.380645e+06      0.961658   \n",
       "99     1000  30.000748  1.688428e+09  1.631423e+06      0.840910   \n",
       "\n",
       "    rel_primal_integral  \n",
       "0             24.376927  \n",
       "1             18.543763  \n",
       "2             22.727228  \n",
       "3             12.949742  \n",
       "4              3.388262  \n",
       "..                  ...  \n",
       "95            30.012602  \n",
       "96            30.030264  \n",
       "97            30.021202  \n",
       "98            30.016868  \n",
       "99            30.015941  \n",
       "\n",
       "[100 rows x 12 columns]"
      ]
     },
     "execution_count": 3,
     "metadata": {},
     "output_type": "execute_result"
    }
   ],
   "source": [
    "api = wandb.Api()\n",
    "run = api.run('brunompac/sat-gnn/rrmjzpqi')\n",
    "df = run.history()\n",
    "df"
   ]
  },
  {
   "cell_type": "code",
   "execution_count": 26,
   "metadata": {},
   "outputs": [
    {
     "data": {
      "text/html": [
       "<div>\n",
       "<style scoped>\n",
       "    .dataframe tbody tr th:only-of-type {\n",
       "        vertical-align: middle;\n",
       "    }\n",
       "\n",
       "    .dataframe tbody tr th {\n",
       "        vertical-align: top;\n",
       "    }\n",
       "\n",
       "    .dataframe thead th {\n",
       "        text-align: right;\n",
       "    }\n",
       "</style>\n",
       "<table border=\"1\" class=\"dataframe\">\n",
       "  <thead>\n",
       "    <tr style=\"text-align: right;\">\n",
       "      <th></th>\n",
       "      <th>gap</th>\n",
       "      <th>_runtime</th>\n",
       "      <th>infeasible</th>\n",
       "      <th>primal_curve</th>\n",
       "      <th>obj</th>\n",
       "      <th>_step</th>\n",
       "      <th>n_fixed</th>\n",
       "      <th>runtime</th>\n",
       "      <th>_timestamp</th>\n",
       "      <th>pd_integral</th>\n",
       "      <th>relative_obj</th>\n",
       "      <th>rel_primal_integral</th>\n",
       "    </tr>\n",
       "  </thead>\n",
       "  <tbody>\n",
       "    <tr>\n",
       "      <th>0</th>\n",
       "      <td>2.694724</td>\n",
       "      <td>53.097043</td>\n",
       "      <td>0</td>\n",
       "      <td>{'size': 844, '_type': 'table-file', 'ncols': ...</td>\n",
       "      <td>3174.0</td>\n",
       "      <td>0</td>\n",
       "      <td>0</td>\n",
       "      <td>30.004387</td>\n",
       "      <td>1.688425e+09</td>\n",
       "      <td>607333.491141</td>\n",
       "      <td>1.000000</td>\n",
       "      <td>24.376927</td>\n",
       "    </tr>\n",
       "    <tr>\n",
       "      <th>1</th>\n",
       "      <td>0.756341</td>\n",
       "      <td>83.453209</td>\n",
       "      <td>0</td>\n",
       "      <td>{'sha256': '8fbdb33dd8aa38cb2c36cdfec1faea4f65...</td>\n",
       "      <td>6605.0</td>\n",
       "      <td>1</td>\n",
       "      <td>50</td>\n",
       "      <td>30.001606</td>\n",
       "      <td>1.688425e+09</td>\n",
       "      <td>627506.395117</td>\n",
       "      <td>2.080970</td>\n",
       "      <td>18.543763</td>\n",
       "    </tr>\n",
       "    <tr>\n",
       "      <th>2</th>\n",
       "      <td>1.859479</td>\n",
       "      <td>113.746338</td>\n",
       "      <td>0</td>\n",
       "      <td>{'sha256': 'ce92ece1bd45aa85e2557fa31a80a1f735...</td>\n",
       "      <td>3982.0</td>\n",
       "      <td>2</td>\n",
       "      <td>200</td>\n",
       "      <td>30.000956</td>\n",
       "      <td>1.688425e+09</td>\n",
       "      <td>662666.175853</td>\n",
       "      <td>1.254568</td>\n",
       "      <td>22.727228</td>\n",
       "    </tr>\n",
       "    <tr>\n",
       "      <th>3</th>\n",
       "      <td>0.231734</td>\n",
       "      <td>144.030653</td>\n",
       "      <td>0</td>\n",
       "      <td>{'_latest_artifact_path': 'wandb-client-artifa...</td>\n",
       "      <td>9188.0</td>\n",
       "      <td>3</td>\n",
       "      <td>500</td>\n",
       "      <td>30.001620</td>\n",
       "      <td>1.688425e+09</td>\n",
       "      <td>593961.765217</td>\n",
       "      <td>2.894770</td>\n",
       "      <td>12.949742</td>\n",
       "    </tr>\n",
       "    <tr>\n",
       "      <th>4</th>\n",
       "      <td>0.037187</td>\n",
       "      <td>174.300937</td>\n",
       "      <td>0</td>\n",
       "      <td>{'path': 'media/table/primal_curve_4_bc6564fda...</td>\n",
       "      <td>10568.0</td>\n",
       "      <td>4</td>\n",
       "      <td>1000</td>\n",
       "      <td>30.000666</td>\n",
       "      <td>1.688425e+09</td>\n",
       "      <td>286965.196321</td>\n",
       "      <td>3.329553</td>\n",
       "      <td>3.388262</td>\n",
       "    </tr>\n",
       "    <tr>\n",
       "      <th>...</th>\n",
       "      <td>...</td>\n",
       "      <td>...</td>\n",
       "      <td>...</td>\n",
       "      <td>...</td>\n",
       "      <td>...</td>\n",
       "      <td>...</td>\n",
       "      <td>...</td>\n",
       "      <td>...</td>\n",
       "      <td>...</td>\n",
       "      <td>...</td>\n",
       "      <td>...</td>\n",
       "      <td>...</td>\n",
       "    </tr>\n",
       "    <tr>\n",
       "      <th>90</th>\n",
       "      <td>1.010282</td>\n",
       "      <td>2654.756313</td>\n",
       "      <td>0</td>\n",
       "      <td>{'artifact_path': 'wandb-client-artifact://610...</td>\n",
       "      <td>6897.0</td>\n",
       "      <td>90</td>\n",
       "      <td>0</td>\n",
       "      <td>30.001127</td>\n",
       "      <td>1.688428e+09</td>\n",
       "      <td>572649.651300</td>\n",
       "      <td>1.000000</td>\n",
       "      <td>19.380866</td>\n",
       "    </tr>\n",
       "    <tr>\n",
       "      <th>91</th>\n",
       "      <td>3.430917</td>\n",
       "      <td>2685.035455</td>\n",
       "      <td>0</td>\n",
       "      <td>{'_type': 'table-file', 'ncols': 2, 'nrows': 1...</td>\n",
       "      <td>3120.0</td>\n",
       "      <td>91</td>\n",
       "      <td>50</td>\n",
       "      <td>30.001832</td>\n",
       "      <td>1.688428e+09</td>\n",
       "      <td>750853.877085</td>\n",
       "      <td>0.452371</td>\n",
       "      <td>22.310545</td>\n",
       "    </tr>\n",
       "    <tr>\n",
       "      <th>92</th>\n",
       "      <td>3.311762</td>\n",
       "      <td>2715.317197</td>\n",
       "      <td>0</td>\n",
       "      <td>{'size': 899, '_type': 'table-file', 'ncols': ...</td>\n",
       "      <td>3127.0</td>\n",
       "      <td>92</td>\n",
       "      <td>200</td>\n",
       "      <td>30.003587</td>\n",
       "      <td>1.688428e+09</td>\n",
       "      <td>719788.592030</td>\n",
       "      <td>0.453386</td>\n",
       "      <td>25.311055</td>\n",
       "    </tr>\n",
       "    <tr>\n",
       "      <th>93</th>\n",
       "      <td>0.361588</td>\n",
       "      <td>2745.604497</td>\n",
       "      <td>0</td>\n",
       "      <td>{'artifact_path': 'wandb-client-artifact://b4y...</td>\n",
       "      <td>9342.0</td>\n",
       "      <td>93</td>\n",
       "      <td>500</td>\n",
       "      <td>30.001202</td>\n",
       "      <td>1.688428e+09</td>\n",
       "      <td>552803.151386</td>\n",
       "      <td>1.354502</td>\n",
       "      <td>10.352154</td>\n",
       "    </tr>\n",
       "    <tr>\n",
       "      <th>94</th>\n",
       "      <td>0.188778</td>\n",
       "      <td>2775.966086</td>\n",
       "      <td>0</td>\n",
       "      <td>{'ncols': 2, 'nrows': 31, 'path': 'media/table...</td>\n",
       "      <td>10147.0</td>\n",
       "      <td>94</td>\n",
       "      <td>1000</td>\n",
       "      <td>30.000665</td>\n",
       "      <td>1.688428e+09</td>\n",
       "      <td>493704.458583</td>\n",
       "      <td>1.471219</td>\n",
       "      <td>10.786132</td>\n",
       "    </tr>\n",
       "  </tbody>\n",
       "</table>\n",
       "<p>95 rows × 12 columns</p>\n",
       "</div>"
      ],
      "text/plain": [
       "         gap     _runtime  infeasible  \\\n",
       "0   2.694724    53.097043           0   \n",
       "1   0.756341    83.453209           0   \n",
       "2   1.859479   113.746338           0   \n",
       "3   0.231734   144.030653           0   \n",
       "4   0.037187   174.300937           0   \n",
       "..       ...          ...         ...   \n",
       "90  1.010282  2654.756313           0   \n",
       "91  3.430917  2685.035455           0   \n",
       "92  3.311762  2715.317197           0   \n",
       "93  0.361588  2745.604497           0   \n",
       "94  0.188778  2775.966086           0   \n",
       "\n",
       "                                         primal_curve      obj  _step  \\\n",
       "0   {'size': 844, '_type': 'table-file', 'ncols': ...   3174.0      0   \n",
       "1   {'sha256': '8fbdb33dd8aa38cb2c36cdfec1faea4f65...   6605.0      1   \n",
       "2   {'sha256': 'ce92ece1bd45aa85e2557fa31a80a1f735...   3982.0      2   \n",
       "3   {'_latest_artifact_path': 'wandb-client-artifa...   9188.0      3   \n",
       "4   {'path': 'media/table/primal_curve_4_bc6564fda...  10568.0      4   \n",
       "..                                                ...      ...    ...   \n",
       "90  {'artifact_path': 'wandb-client-artifact://610...   6897.0     90   \n",
       "91  {'_type': 'table-file', 'ncols': 2, 'nrows': 1...   3120.0     91   \n",
       "92  {'size': 899, '_type': 'table-file', 'ncols': ...   3127.0     92   \n",
       "93  {'artifact_path': 'wandb-client-artifact://b4y...   9342.0     93   \n",
       "94  {'ncols': 2, 'nrows': 31, 'path': 'media/table...  10147.0     94   \n",
       "\n",
       "    n_fixed    runtime    _timestamp    pd_integral  relative_obj  \\\n",
       "0         0  30.004387  1.688425e+09  607333.491141      1.000000   \n",
       "1        50  30.001606  1.688425e+09  627506.395117      2.080970   \n",
       "2       200  30.000956  1.688425e+09  662666.175853      1.254568   \n",
       "3       500  30.001620  1.688425e+09  593961.765217      2.894770   \n",
       "4      1000  30.000666  1.688425e+09  286965.196321      3.329553   \n",
       "..      ...        ...           ...            ...           ...   \n",
       "90        0  30.001127  1.688428e+09  572649.651300      1.000000   \n",
       "91       50  30.001832  1.688428e+09  750853.877085      0.452371   \n",
       "92      200  30.003587  1.688428e+09  719788.592030      0.453386   \n",
       "93      500  30.001202  1.688428e+09  552803.151386      1.354502   \n",
       "94     1000  30.000665  1.688428e+09  493704.458583      1.471219   \n",
       "\n",
       "    rel_primal_integral  \n",
       "0             24.376927  \n",
       "1             18.543763  \n",
       "2             22.727228  \n",
       "3             12.949742  \n",
       "4              3.388262  \n",
       "..                  ...  \n",
       "90            19.380866  \n",
       "91            22.310545  \n",
       "92            25.311055  \n",
       "93            10.352154  \n",
       "94            10.786132  \n",
       "\n",
       "[95 rows x 12 columns]"
      ]
     },
     "execution_count": 26,
     "metadata": {},
     "output_type": "execute_result"
    }
   ],
   "source": []
  },
  {
   "cell_type": "code",
   "execution_count": 168,
   "metadata": {},
   "outputs": [
    {
     "data": {
      "image/png": "[encoded data removed]",
      "text/plain": [
       "<Figure size 640x480 with 1 Axes>"
      ]
     },
     "metadata": {},
     "output_type": "display_data"
    }
   ],
   "source": [
    "df.boxplot(column='rel_primal_integral', by='n_fixed', showmeans=True)\n",
    "# plt.yscale('log')\n",
    "plt.show()"
   ]
  },
  {
   "cell_type": "code",
   "execution_count": 167,
   "metadata": {},
   "outputs": [
    {
     "data": {
      "image/png": "[encoded data removed]",
      "text/plain": [
       "<Figure size 640x480 with 1 Axes>"
      ]
     },
     "metadata": {},
     "output_type": "display_data"
    }
   ],
   "source": [
    "df.boxplot(column='relative_obj', by='n_fixed', showmeans=True)\n",
    "plt.show()"
   ]
  },
  {
   "cell_type": "code",
   "execution_count": 214,
   "metadata": {},
   "outputs": [
    {
     "data": {
      "image/png": "[encoded data removed]",
      "text/plain": [
       "<Figure size 640x480 with 1 Axes>"
      ]
     },
     "metadata": {},
     "output_type": "display_data"
    }
   ],
   "source": [
    "# import json\n",
    "# import pandas as pd\n",
    "\n",
    "# def load_table(i: int):\n",
    "#     table_dir = run.logged_artifacts()[i].download()\n",
    "\n",
    "#     table_path = f\"{table_dir}/primal_curve.table.json\"\n",
    "#     with open(table_path) as file:\n",
    "#         json_dict = json.load(file)\n",
    "\n",
    "#     table = pd.DataFrame(json_dict[\"data\"], columns=json_dict[\"columns\"])\n",
    "#     return table.values\n",
    "\n",
    "# # THERE WAS A PROBLEM WITH THE LAST INSTANCE (wandb didnt upload the artifacts)\n",
    "# df['primal_curve'] = df.iloc[:95]['_step'].apply(load_table)\n",
    "\n",
    "timestep = .001\n",
    "standard_range = pd.to_timedelta(np.linspace(0,30,int(30/timestep) +1), 's')\n",
    "def normalize_timeseries(curve):\n",
    "    c = pd.Series(curve[:,1], index=pd.to_timedelta(curve[:,0], 's'))\n",
    "    c = c.reindex(standard_range, method='ffill')\n",
    "    return c.values\n",
    "\n",
    "def compute_integral(curve):\n",
    "    return 30 - timestep * curve.sum()\n",
    "\n",
    "df['normalized_primal_curve'] = df.iloc[:95]['primal_curve'].apply(normalize_timeseries)\n",
    "df['new_rel_primal_integral'] = df.iloc[:95]['normalized_primal_curve'].apply(compute_integral)\n",
    "\n",
    "df.boxplot(column='new_rel_primal_integral', by='n_fixed', showmeans=True)\n",
    "plt.show()"
   ]
  },
  {
   "cell_type": "code",
   "execution_count": 242,
   "metadata": {},
   "outputs": [
    {
     "data": {
      "image/png": "[encoded data removed]",
      "text/plain": [
       "<Figure size 640x480 with 1 Axes>"
      ]
     },
     "metadata": {},
     "output_type": "display_data"
    }
   ],
   "source": [
    "import matplotlib as mpl\n",
    "\n",
    "cmap = plt.get_cmap('gist_earth')\n",
    "for n in df['n_fixed'].unique():\n",
    "    mean_curve = 0\n",
    "    n_curves = 0\n",
    "    for curve in df[df['n_fixed'] == n]['normalized_primal_curve'].iloc:\n",
    "        if not curve is np.nan:\n",
    "            mean_curve += curve\n",
    "            n_curves += 1\n",
    "\n",
    "    mean_curve = mean_curve / n_curves\n",
    "    plt.plot(mean_curve, c=cmap(n/1500), label=n)\n",
    "\n",
    "plt.ylabel('lower bound')\n",
    "plt.xlabel('time [ms]')\n",
    "plt.ylim(0,1)\n",
    "plt.xlim(0,30e3)\n",
    "plt.grid()\n",
    "plt.legend()\n",
    "plt.show()"
   ]
  },
  {
   "cell_type": "code",
   "execution_count": 18,
   "metadata": {},
   "outputs": [
    {
     "data": {
      "text/html": [
       "wandb version 0.15.4 is available!  To upgrade, please run:\n",
       " $ pip install wandb --upgrade"
      ],
      "text/plain": [
       "<IPython.core.display.HTML object>"
      ]
     },
     "metadata": {},
     "output_type": "display_data"
    },
    {
     "data": {
      "text/html": [
       "Tracking run with wandb version 0.13.10"
      ],
      "text/plain": [
       "<IPython.core.display.HTML object>"
      ]
     },
     "metadata": {},
     "output_type": "display_data"
    },
    {
     "data": {
      "text/html": [
       "Run data is saved locally in <code>/home/bruno/sat-gnn/notebooks/wandb/run-20230628_190407-lhu19g7l</code>"
      ],
      "text/plain": [
       "<IPython.core.display.HTML object>"
      ]
     },
     "metadata": {},
     "output_type": "display_data"
    },
    {
     "data": {
      "text/html": [
       "Syncing run <strong><a href='https://wandb.ai/brunompac/sat-gnn/runs/lhu19g7l' target=\"_blank\">frosty-voice-596</a></strong> to <a href='https://wandb.ai/brunompac/sat-gnn' target=\"_blank\">Weights & Biases</a> (<a href='https://wandb.me/run' target=\"_blank\">docs</a>)<br/>"
      ],
      "text/plain": [
       "<IPython.core.display.HTML object>"
      ]
     },
     "metadata": {},
     "output_type": "display_data"
    },
    {
     "data": {
      "text/html": [
       " View project at <a href='https://wandb.ai/brunompac/sat-gnn' target=\"_blank\">https://wandb.ai/brunompac/sat-gnn</a>"
      ],
      "text/plain": [
       "<IPython.core.display.HTML object>"
      ]
     },
     "metadata": {},
     "output_type": "display_data"
    },
    {
     "data": {
      "text/html": [
       " View run at <a href='https://wandb.ai/brunompac/sat-gnn/runs/lhu19g7l' target=\"_blank\">https://wandb.ai/brunompac/sat-gnn/runs/lhu19g7l</a>"
      ],
      "text/plain": [
       "<IPython.core.display.HTML object>"
      ]
     },
     "metadata": {},
     "output_type": "display_data"
    },
    {
     "data": {
      "text/html": [
       "Waiting for W&B process to finish... <strong style=\"color:green\">(success).</strong>"
      ],
      "text/plain": [
       "<IPython.core.display.HTML object>"
      ]
     },
     "metadata": {},
     "output_type": "display_data"
    },
    {
     "data": {
      "application/vnd.jupyter.widget-view+json": {
       "model_id": "aec38f6ca9bc41808ea1a04dc59032be",
       "version_major": 2,
       "version_minor": 0
      },
      "text/plain": [
       "VBox(children=(Label(value='0.471 MB of 0.507 MB uploaded (0.000 MB deduped)\\r'), FloatProgress(value=0.928681…"
      ]
     },
     "metadata": {},
     "output_type": "display_data"
    },
    {
     "data": {
      "text/html": [
       " View run <strong style=\"color:#cdcd00\">frosty-voice-596</strong> at: <a href='https://wandb.ai/brunompac/sat-gnn/runs/lhu19g7l' target=\"_blank\">https://wandb.ai/brunompac/sat-gnn/runs/lhu19g7l</a><br/>Synced 5 W&B file(s), 0 media file(s), 0 artifact file(s) and 2 other file(s)"
      ],
      "text/plain": [
       "<IPython.core.display.HTML object>"
      ]
     },
     "metadata": {},
     "output_type": "display_data"
    },
    {
     "data": {
      "text/html": [
       "Find logs at: <code>./wandb/run-20230628_190407-lhu19g7l/logs</code>"
      ],
      "text/plain": [
       "<IPython.core.display.HTML object>"
      ]
     },
     "metadata": {},
     "output_type": "display_data"
    },
    {
     "data": {
      "application/vnd.jupyter.widget-view+json": {
       "model_id": "51d95c91a010400b83dce46bfc1ce0a6",
       "version_major": 2,
       "version_minor": 0
      },
      "text/plain": [
       "VBox(children=(Label(value='Waiting for wandb.init()...\\r'), FloatProgress(value=0.01666893348447047, max=1.0)…"
      ]
     },
     "metadata": {},
     "output_type": "display_data"
    },
    {
     "data": {
      "text/html": [
       "wandb version 0.15.4 is available!  To upgrade, please run:\n",
       " $ pip install wandb --upgrade"
      ],
      "text/plain": [
       "<IPython.core.display.HTML object>"
      ]
     },
     "metadata": {},
     "output_type": "display_data"
    },
    {
     "data": {
      "text/html": [
       "Tracking run with wandb version 0.13.10"
      ],
      "text/plain": [
       "<IPython.core.display.HTML object>"
      ]
     },
     "metadata": {},
     "output_type": "display_data"
    },
    {
     "data": {
      "text/html": [
       "Run data is saved locally in <code>/home/bruno/sat-gnn/notebooks/wandb/run-20230628_190416-0clodwid</code>"
      ],
      "text/plain": [
       "<IPython.core.display.HTML object>"
      ]
     },
     "metadata": {},
     "output_type": "display_data"
    },
    {
     "data": {
      "text/html": [
       "Syncing run <strong><a href='https://wandb.ai/brunompac/sat-gnn/runs/0clodwid' target=\"_blank\">young-water-628</a></strong> to <a href='https://wandb.ai/brunompac/sat-gnn' target=\"_blank\">Weights & Biases</a> (<a href='https://wandb.me/run' target=\"_blank\">docs</a>)<br/>"
      ],
      "text/plain": [
       "<IPython.core.display.HTML object>"
      ]
     },
     "metadata": {},
     "output_type": "display_data"
    },
    {
     "data": {
      "text/html": [
       " View project at <a href='https://wandb.ai/brunompac/sat-gnn' target=\"_blank\">https://wandb.ai/brunompac/sat-gnn</a>"
      ],
      "text/plain": [
       "<IPython.core.display.HTML object>"
      ]
     },
     "metadata": {},
     "output_type": "display_data"
    },
    {
     "data": {
      "text/html": [
       " View run at <a href='https://wandb.ai/brunompac/sat-gnn/runs/0clodwid' target=\"_blank\">https://wandb.ai/brunompac/sat-gnn/runs/0clodwid</a>"
      ],
      "text/plain": [
       "<IPython.core.display.HTML object>"
      ]
     },
     "metadata": {},
     "output_type": "display_data"
    }
   ],
   "source": [
    "model_run_id = 'lhu19g7l'\n",
    "project = 'sat-gnn'\n",
    "\n",
    "# restore model\n",
    "net = InstanceGCN(readout_op=None)  # TODO: initialize net following run's config\n",
    "\n",
    "model_run = wandb.init(project=project, id=model_run_id)\n",
    "model_config = model_run.config\n",
    "model_group = model_run.group\n",
    "model_file = model_run.restore('model_last.pth', replace=True)\n",
    "model_run.finish()\n",
    "\n",
    "net.load_state_dict(torch.load(model_file.name))\n",
    "net.eval()\n",
    "\n",
    "run = wandb.init(project='sat-gnn', group=model_group, job_type='early-fixing-eval', config=dict(\n",
    "    model_run_id=model_run_id,\n",
    "    **model_config\n",
    "))"
   ]
  },
  {
   "cell_type": "code",
   "execution_count": 19,
   "metadata": {},
   "outputs": [
    {
     "ename": "KeyboardInterrupt",
     "evalue": "",
     "output_type": "error",
     "traceback": [
      "\u001b[0;31m---------------------------------------------------------------------------\u001b[0m",
      "\u001b[0;31mKeyboardInterrupt\u001b[0m                         Traceback (most recent call last)",
      "Cell \u001b[0;32mIn[19], line 11\u001b[0m\n\u001b[1;32m      3\u001b[0m run\u001b[39m.\u001b[39mconfig[\u001b[39m'\u001b[39m\u001b[39mtest_instances\u001b[39m\u001b[39m'\u001b[39m] \u001b[39m=\u001b[39m [fp\u001b[39m.\u001b[39mname \u001b[39mfor\u001b[39;00m fp \u001b[39min\u001b[39;00m instances_fpaths]\n\u001b[1;32m      5\u001b[0m dataset \u001b[39m=\u001b[39m MultiTargetDataset(\n\u001b[1;32m      6\u001b[0m     instances_fpaths\u001b[39m=\u001b[39minstances_fpaths,\n\u001b[1;32m      7\u001b[0m     sols_dir\u001b[39m=\u001b[39m\u001b[39m'\u001b[39m\u001b[39m/home/bruno/sat-gnn/data/interim\u001b[39m\u001b[39m'\u001b[39m,\n\u001b[1;32m      8\u001b[0m     split\u001b[39m=\u001b[39m\u001b[39m'\u001b[39m\u001b[39mval\u001b[39m\u001b[39m'\u001b[39m,\n\u001b[1;32m      9\u001b[0m     return_model\u001b[39m=\u001b[39m\u001b[39mTrue\u001b[39;00m,\n\u001b[1;32m     10\u001b[0m )\n\u001b[0;32m---> 11\u001b[0m \u001b[39mlen\u001b[39;49m(dataset)\n",
      "File \u001b[0;32m~/sat-gnn/notebooks/../src/dataset.py:239\u001b[0m, in \u001b[0;36mGraphDataset.__len__\u001b[0;34m(self)\u001b[0m\n\u001b[1;32m    238\u001b[0m \u001b[39mdef\u001b[39;00m \u001b[39m__len__\u001b[39m(\u001b[39mself\u001b[39m):\n\u001b[0;32m--> 239\u001b[0m     \u001b[39mself\u001b[39;49m\u001b[39m.\u001b[39;49mmaybe_initialize()\n\u001b[1;32m    240\u001b[0m     \u001b[39mreturn\u001b[39;00m \u001b[39mself\u001b[39m\u001b[39m.\u001b[39mlen()\n",
      "File \u001b[0;32m~/sat-gnn/notebooks/../src/dataset.py:215\u001b[0m, in \u001b[0;36mGraphDataset.maybe_initialize\u001b[0;34m(self)\u001b[0m\n\u001b[1;32m    213\u001b[0m \u001b[39mdef\u001b[39;00m \u001b[39mmaybe_initialize\u001b[39m(\u001b[39mself\u001b[39m):\n\u001b[1;32m    214\u001b[0m     \u001b[39mif\u001b[39;00m \u001b[39mnot\u001b[39;00m \u001b[39mself\u001b[39m\u001b[39m.\u001b[39m_is_initialized:\n\u001b[0;32m--> 215\u001b[0m         \u001b[39mself\u001b[39;49m\u001b[39m.\u001b[39;49minitialize(\u001b[39m*\u001b[39;49m\u001b[39m*\u001b[39;49m\u001b[39mself\u001b[39;49m\u001b[39m.\u001b[39;49m_own_kwargs)\n",
      "File \u001b[0;32m~/sat-gnn/notebooks/../src/dataset.py:183\u001b[0m, in \u001b[0;36mGraphDataset.initialize\u001b[0;34m(self, instances_fpaths, sols_dir, return_model)\u001b[0m\n\u001b[1;32m    179\u001b[0m     \u001b[39mcontinue\u001b[39;00m\n\u001b[1;32m    181\u001b[0m \u001b[39mself\u001b[39m\u001b[39m.\u001b[39mtargets\u001b[39m.\u001b[39mappend(target)\n\u001b[0;32m--> 183\u001b[0m model, graph \u001b[39m=\u001b[39m \u001b[39mself\u001b[39;49m\u001b[39m.\u001b[39;49mload_instance(instance_fp)\n\u001b[1;32m    185\u001b[0m \u001b[39mif\u001b[39;00m return_model:\n\u001b[1;32m    186\u001b[0m     models\u001b[39m.\u001b[39mappend(model)\n",
      "File \u001b[0;32m~/sat-gnn/notebooks/../src/dataset.py:209\u001b[0m, in \u001b[0;36mGraphDataset.load_instance\u001b[0;34m(self, instance_fp)\u001b[0m\n\u001b[1;32m    206\u001b[0m m \u001b[39m=\u001b[39m get_model(instance, coupling\u001b[39m=\u001b[39m\u001b[39mTrue\u001b[39;00m, new_ineq\u001b[39m=\u001b[39m\u001b[39mFalse\u001b[39;00m)\n\u001b[1;32m    207\u001b[0m graph \u001b[39m=\u001b[39m make_graph_from_model(m)\n\u001b[0;32m--> 209\u001b[0m m \u001b[39m=\u001b[39m get_model_scip(instance, coupling\u001b[39m=\u001b[39;49m\u001b[39mTrue\u001b[39;49;00m, new_ineq\u001b[39m=\u001b[39;49m\u001b[39mFalse\u001b[39;49;00m)\n\u001b[1;32m    211\u001b[0m \u001b[39mreturn\u001b[39;00m m, graph\n",
      "File \u001b[0;32m~/sat-gnn/notebooks/../src/problem.py:418\u001b[0m, in \u001b[0;36mget_model_scip\u001b[0;34m(instance, coupling, recurso, new_ineq, timeout, enable_primal_dual_integral)\u001b[0m\n\u001b[1;32m    415\u001b[0m \u001b[39mfor\u001b[39;00m j \u001b[39min\u001b[39;00m J_SUBSET:\n\u001b[1;32m    416\u001b[0m     \u001b[39m# minimum period between jobs\u001b[39;00m\n\u001b[1;32m    417\u001b[0m     \u001b[39mfor\u001b[39;00m t \u001b[39min\u001b[39;00m \u001b[39mrange\u001b[39m(\u001b[39m0\u001b[39m, T \u001b[39m-\u001b[39m min_periodo_job[j] \u001b[39m+\u001b[39m \u001b[39m1\u001b[39m):\n\u001b[0;32m--> 418\u001b[0m         model\u001b[39m.\u001b[39;49maddCons(quicksum(phi[j,t_] \u001b[39mfor\u001b[39;49;00m t_ \u001b[39min\u001b[39;49;00m \u001b[39mrange\u001b[39;49m(t, t \u001b[39m+\u001b[39;49m min_periodo_job[j])) \u001b[39m<\u001b[39;49m\u001b[39m=\u001b[39;49m \u001b[39m1\u001b[39;49m, \u001b[39mf\u001b[39;49m\u001b[39m\"\u001b[39;49m\u001b[39mC10_j\u001b[39;49m\u001b[39m{\u001b[39;49;00mj\u001b[39m}\u001b[39;49;00m\u001b[39m_t\u001b[39;49m\u001b[39m{\u001b[39;49;00mt\u001b[39m}\u001b[39;49;00m\u001b[39m\"\u001b[39;49m)\n\u001b[1;32m    420\u001b[0m     \u001b[39m# periodo máximo entre jobs\u001b[39;00m\n\u001b[1;32m    421\u001b[0m     \u001b[39mfor\u001b[39;00m t \u001b[39min\u001b[39;00m \u001b[39mrange\u001b[39m(\u001b[39m0\u001b[39m, T \u001b[39m-\u001b[39m max_periodo_job[j] \u001b[39m+\u001b[39m \u001b[39m1\u001b[39m):\n",
      "\u001b[0;31mKeyboardInterrupt\u001b[0m: "
     ]
    }
   ],
   "source": [
    "instances_fpaths = list(Path('../data/raw/').glob('97_24*.json'))\n",
    "\n",
    "run.config['test_instances'] = [fp.name for fp in instances_fpaths]\n",
    "\n",
    "dataset = MultiTargetDataset(\n",
    "    instances_fpaths=instances_fpaths,\n",
    "    sols_dir='/home/bruno/sat-gnn/data/interim',\n",
    "    split='val',\n",
    "    return_model=True,\n",
    ")\n",
    "len(dataset)"
   ]
  },
  {
   "cell_type": "code",
   "execution_count": null,
   "metadata": {},
   "outputs": [],
   "source": [
    "from src.problem import ModelWithPrimalDualIntegral\n",
    "\n",
    "\n",
    "def evaluate_early_fixing(model, fixed_vars: dict = None, timeout=10,\n",
    "                            hide_output=True):\n",
    "    model_ = ModelWithPrimalDualIntegral(sourceModel=model)\n",
    "    model_.setParam('limits/time', timeout)\n",
    "    model_.hideOutput(hide_output)\n",
    "\n",
    "    if fixed_vars is not None:\n",
    "        for var in model_.getVars():\n",
    "            try:\n",
    "                fixed_var_X = fixed_vars[var.name]\n",
    "                model_.fixVar(var, fixed_var_X)\n",
    "            except KeyError:\n",
    "                pass\n",
    "\n",
    "    model_.optimize()\n",
    "\n",
    "    if model_.getStatus().lower() not in ['optimal', 'timelimit']:\n",
    "        infeasible = True\n",
    "        runtime = model_.getSolvingTime()\n",
    "        objective = 0\n",
    "        gap = -1\n",
    "        primal_dual_integral = -1\n",
    "    else:\n",
    "        infeasible = False\n",
    "        runtime = model_.getSolvingTime()\n",
    "        try:\n",
    "            objective = model_.getObjVal()\n",
    "            gap = model_.getGap()\n",
    "            primal_dual_integral = model_.get_primal_dual_integral()\n",
    "        except:\n",
    "            # in case the problem is not infeasible but not solution was\n",
    "            # found during the time limit\n",
    "            objective = 0\n",
    "            gap = -1\n",
    "            primal_dual_integral = -1\n",
    "\n",
    "    return infeasible, runtime, objective, gap, primal_dual_integral"
   ]
  },
  {
   "cell_type": "code",
   "execution_count": null,
   "metadata": {},
   "outputs": [],
   "source": [
    "# N = [0, 50, 100, 200, 500, 1000, -1]\n",
    "N = [0, 50, 100, 500]\n",
    "# time_budget = 10 * 60  # 10 min\n",
    "time_budget = 10  # 10 s\n",
    "\n",
    "run.config['N'] = N\n",
    "run.config['ef_time_budget'] = time_budget\n",
    "\n",
    "for graph, model in dataset:\n",
    "    # TODO: device!\n",
    "\n",
    "    vars_names = np.core.defchararray.array([v.name for v in model.getVars()])\n",
    "    vars_names = vars_names[(vars_names.find('x(') >= 0) | (vars_names.find('phi(') >= 0)]\n",
    "\n",
    "    # baseline results\n",
    "    (\n",
    "        baseline_infeasible,\n",
    "        baseline_runtime,\n",
    "        baseline_obj,\n",
    "        baseline_gap,\n",
    "        baseline_pd_integral\n",
    "    ) = evaluate_early_fixing(model, None, time_budget)\n",
    "\n",
    "    if baseline_infeasible:\n",
    "        print('INFEASIBLE PROBLEM')\n",
    "        print(model)\n",
    "        continue\n",
    "\n",
    "    with torch.set_grad_enabled(False):\n",
    "        x_hat = net.get_candidate(graph).flatten().cpu()\n",
    "        x_hat = x_hat[:len(vars_names)]  # drop zetas\n",
    "\n",
    "    most_certain_idx  = (x_hat - 0.5).abs().sort(descending=True).indices\n",
    "\n",
    "    for i in range(len(N)):\n",
    "        n = N[i] if N[i] >= 0 else len(x_hat)\n",
    "\n",
    "        if n == 0:\n",
    "            result = {\n",
    "                'infeasibles': 0,\n",
    "                'runtimes': baseline_runtime,\n",
    "                'objs': baseline_obj,\n",
    "                'gaps': baseline_gap,\n",
    "                'pd_integrals': baseline_pd_integral,\n",
    "            }\n",
    "            run.log(\n",
    "                dict(n_fixed=n, **result)\n",
    "            )\n",
    "            continue\n",
    "\n",
    "        fixed_x_hat = (x_hat[most_certain_idx[:n]] > .5).to(x_hat)\n",
    "        fixed_vars_names = vars_names[most_certain_idx[:n]]\n",
    "        fixed_vars = dict(zip(fixed_vars_names, fixed_x_hat))\n",
    "\n",
    "        (\n",
    "            infeasible, runtime, obj, gap, pd_integral\n",
    "        ) = evaluate_early_fixing(model, fixed_vars, time_budget)\n",
    "\n",
    "        if infeasible:\n",
    "            result = {\n",
    "                'runtimes': baseline_runtime + runtime,\n",
    "                'objs': baseline_obj,\n",
    "                'gaps': baseline_gap,\n",
    "                'pd_integrals': baseline_pd_integral,\n",
    "            }\n",
    "        else:\n",
    "            result = {\n",
    "                'runtimes': runtime,\n",
    "                'objs': obj,\n",
    "                'gaps': gap,\n",
    "                'pd_integrals': pd_integral,\n",
    "            }\n",
    "        result['infeasibles'] = int(infeasible)\n",
    "\n",
    "        run.log(\n",
    "            dict(n_fixed=n, **result)\n",
    "        )\n"
   ]
  },
  {
   "cell_type": "code",
   "execution_count": null,
   "metadata": {},
   "outputs": [
    {
     "data": {
      "text/html": [
       "Waiting for W&B process to finish... <strong style=\"color:green\">(success).</strong>"
      ],
      "text/plain": [
       "<IPython.core.display.HTML object>"
      ]
     },
     "metadata": {},
     "output_type": "display_data"
    },
    {
     "data": {
      "text/html": [
       "<style>\n",
       "    table.wandb td:nth-child(1) { padding: 0 10px; text-align: left ; width: auto;} td:nth-child(2) {text-align: left ; width: 100%}\n",
       "    .wandb-row { display: flex; flex-direction: row; flex-wrap: wrap; justify-content: flex-start; width: 100% }\n",
       "    .wandb-col { display: flex; flex-direction: column; flex-basis: 100%; flex: 1; padding: 10px; }\n",
       "    </style>\n",
       "<div class=\"wandb-row\"><div class=\"wandb-col\"><h3>Run history:</h3><br/><table class=\"wandb\"><tr><td>gaps</td><td>▁▁██████▁▁▁███████▁▁██▁▁██████▁▁▁▁██▁▁██</td></tr><tr><td>infeasibles</td><td>▁▁▁▁▁▁▁▁▁▁▁▁▁▁▁▁▁▁▁▁▁▁▁▁▁▁▁▁▁▁▁▁▁▁▁▁▁▁▁▁</td></tr><tr><td>n_fixed</td><td>▁▂▁▂▁▂▁▂▁▂▁▂▁▂▁▂▁▂▁▂▁▂▁▂▁▂▁▂▁▂▁▂▁▂▁▂▁▂▁█</td></tr><tr><td>objs</td><td>▂▁██████▂▂▂███████▂▂██▁▁██████▂▂▁▃██▁▁██</td></tr><tr><td>pd_integrals</td><td>▆▆▁▁▁▁▁▁▆▅▇▁▁▁▁▁▁▁▇▆▁▁█▇▁▁▁▁▁▁▇▇█▄▁▁██▁▁</td></tr><tr><td>runtimes</td><td>▁▂▁▁▁▂▁▁▁▁▁▁▁▁▁▆▁▂▁▂▁▃▁▄▂█▁▂▃▂▂▄▃▅▁▁▂▁▂▁</td></tr></table><br/></div><div class=\"wandb-col\"><h3>Run summary:</h3><br/><table class=\"wandb\"><tr><td>gaps</td><td>1e+20</td></tr><tr><td>infeasibles</td><td>0</td></tr><tr><td>n_fixed</td><td>500</td></tr><tr><td>objs</td><td>27576.0</td></tr><tr><td>pd_integrals</td><td>100147.24</td></tr><tr><td>runtimes</td><td>10.0002</td></tr></table><br/></div></div>"
      ],
      "text/plain": [
       "<IPython.core.display.HTML object>"
      ]
     },
     "metadata": {},
     "output_type": "display_data"
    },
    {
     "data": {
      "text/html": [
       " View run <strong style=\"color:#cdcd00\">desert-cosmos-627</strong> at: <a href='https://wandb.ai/brunompac/sat-gnn/runs/iapyfv4c' target=\"_blank\">https://wandb.ai/brunompac/sat-gnn/runs/iapyfv4c</a><br/>Synced 6 W&B file(s), 0 media file(s), 0 artifact file(s) and 1 other file(s)"
      ],
      "text/plain": [
       "<IPython.core.display.HTML object>"
      ]
     },
     "metadata": {},
     "output_type": "display_data"
    },
    {
     "data": {
      "text/html": [
       "Find logs at: <code>./wandb/run-20230628_155402-iapyfv4c/logs</code>"
      ],
      "text/plain": [
       "<IPython.core.display.HTML object>"
      ]
     },
     "metadata": {},
     "output_type": "display_data"
    }
   ],
   "source": [
    "wandb.finish()"
   ]
  }
 ],
 "metadata": {
  "kernelspec": {
   "display_name": "gnns",
   "language": "python",
   "name": "python3"
  },
  "language_info": {
   "codemirror_mode": {
    "name": "ipython",
    "version": 3
   },
   "file_extension": ".py",
   "mimetype": "text/x-python",
   "name": "python",
   "nbconvert_exporter": "python",
   "pygments_lexer": "ipython3",
   "version": "3.10.8"
  },
  "orig_nbformat": 4
 },
 "nbformat": 4,
 "nbformat_minor": 2
}
