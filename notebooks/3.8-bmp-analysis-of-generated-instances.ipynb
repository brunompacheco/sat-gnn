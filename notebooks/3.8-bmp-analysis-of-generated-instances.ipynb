{
 "cells": [
  {
   "cell_type": "code",
   "execution_count": 1,
   "metadata": {},
   "outputs": [],
   "source": [
    "%load_ext autoreload\n",
    "%autoreload 2\n",
    "\n",
    "import sys\n",
    "sys.path.append('..')  # enable import from src/"
   ]
  },
  {
   "cell_type": "code",
   "execution_count": 3,
   "metadata": {},
   "outputs": [
    {
     "name": "stderr",
     "output_type": "stream",
     "text": [
      "/home/bruno/miniconda3/envs/sat-gnn/lib/python3.10/site-packages/tqdm/auto.py:22: TqdmWarning: IProgress not found. Please update jupyter and ipywidgets. See https://ipywidgets.readthedocs.io/en/stable/user_install.html\n",
      "  from .autonotebook import tqdm as notebook_tqdm\n"
     ]
    }
   ],
   "source": [
    "from pathlib import Path\n",
    "\n",
    "import matplotlib.pyplot as plt\n",
    "\n",
    "import numpy as np\n",
    "# import pandas as pd\n",
    "import json\n",
    "from src.problem import Instance"
   ]
  },
  {
   "cell_type": "code",
   "execution_count": 3,
   "metadata": {},
   "outputs": [
    {
     "data": {
      "text/plain": [
       "T    J \n",
       "97   9     207\n",
       "     13    203\n",
       "     18    205\n",
       "     20     46\n",
       "     22     45\n",
       "     24     45\n",
       "125  9     206\n",
       "     13    207\n",
       "     18    203\n",
       "     20     44\n",
       "     22     42\n",
       "     24     45\n",
       "Name: i, dtype: int64"
      ]
     },
     "execution_count": 3,
     "metadata": {},
     "output_type": "execute_result"
    }
   ],
   "source": [
    "instances_dir = Path('../data/raw/')\n",
    "results_dir = Path('../data/results/')\n",
    "opts_dir = Path('../data/interim')\n",
    "\n",
    "instances = list()\n",
    "for fp in instances_dir.glob('*_*_*.json'):\n",
    "    T, J, i = fp.name[:-len('.json')].split('_')\n",
    "    instances.append(dict(\n",
    "        T=int(T),\n",
    "        J=int(J),\n",
    "        i=int(i),\n",
    "        mtime=fp.stat().st_mtime,\n",
    "    ))\n",
    "\n",
    "# df = pd.DataFrame([fp.name[:-len('.json')].split('_') for fp in instances_dir.glob('*_*_*.json')], columns=('T', 'J', 'i'))\n",
    "df = pd.DataFrame(instances)\n",
    "df['mtime'] = pd.to_datetime(df['mtime'], unit='s')\n",
    "# df = df[df['i'] <= 100]\n",
    "df.groupby(['T', 'J'])['i'].nunique()"
   ]
  },
  {
   "cell_type": "code",
   "execution_count": 17,
   "metadata": {},
   "outputs": [
    {
     "data": {
      "text/plain": [
       "3000"
      ]
     },
     "execution_count": 17,
     "metadata": {},
     "output_type": "execute_result"
    }
   ],
   "source": [
    "from src.dataset import SolutionFeasibilityDataset\n",
    "\n",
    "# ds = SolutionFeasibilityDataset(list(instances_dir.glob('125_9_*.json')), sols_dir=opts_dir)\n",
    "# ds.maybe_initialize()\n",
    "# ds.save_dataset('test.hdf5')\n",
    "ds = SolutionFeasibilityDataset.from_file_lazy('../data/processed/feasibility_125_train.hdf5')\n",
    "len(ds)"
   ]
  },
  {
   "cell_type": "code",
   "execution_count": 19,
   "metadata": {},
   "outputs": [
    {
     "name": "stdout",
     "output_type": "stream",
     "text": [
      "18.7 ms ± 69.5 µs per loop (mean ± std. dev. of 7 runs, 100 loops each)\n"
     ]
    }
   ],
   "source": [
    "%timeit ds[np.random.randint(0,len(ds))]"
   ]
  },
  {
   "cell_type": "code",
   "execution_count": 22,
   "metadata": {},
   "outputs": [
    {
     "name": "stderr",
     "output_type": "stream",
     "text": [
      "  0%|          | 0/3 [00:00<?, ?it/s]"
     ]
    },
    {
     "name": "stdout",
     "output_type": "stream",
     "text": [
      "Set parameter Username\n",
      "Academic license - for non-commercial use only - expires 2024-02-14\n",
      "wrote problem to file /home/bruno/sat-gnn/notebooks/model.cip\n",
      "wrote problem to file /home/bruno/sat-gnn/notebooks/model.cip\n"
     ]
    },
    {
     "name": "stderr",
     "output_type": "stream",
     "text": [
      " 33%|███▎      | 1/3 [00:58<01:56, 58.36s/it]"
     ]
    },
    {
     "name": "stdout",
     "output_type": "stream",
     "text": [
      "wrote problem to file /home/bruno/sat-gnn/notebooks/model.cip\n",
      "wrote problem to file /home/bruno/sat-gnn/notebooks/model.cip\n"
     ]
    },
    {
     "name": "stderr",
     "output_type": "stream",
     "text": [
      " 67%|██████▋   | 2/3 [02:17<01:10, 70.48s/it]"
     ]
    },
    {
     "name": "stdout",
     "output_type": "stream",
     "text": [
      "wrote problem to file /home/bruno/sat-gnn/notebooks/model.cip\n",
      "wrote problem to file /home/bruno/sat-gnn/notebooks/model.cip\n"
     ]
    },
    {
     "name": "stderr",
     "output_type": "stream",
     "text": [
      "100%|██████████| 3/3 [02:52<00:00, 57.53s/it]\n"
     ]
    }
   ],
   "source": [
    "ds = SolutionFeasibilityDataset(\n",
    "    # [fp for fp in Path('data/raw/').glob('125_*.json') if (int(fp.name.split('_')[1]) < 20) and (int(fp.name.split('_')[2].replace('.json', '')) < 200)],\n",
    "    [fp for fp in Path('../data/raw/').glob('125_*.json') if (int(fp.name.split('_')[1]) < 20) and (int(fp.name.split('_')[2].replace('.json', '')) < 1)],\n",
    ")\n",
    "ds.maybe_initialize()"
   ]
  },
  {
   "cell_type": "code",
   "execution_count": 24,
   "metadata": {},
   "outputs": [
    {
     "name": "stdout",
     "output_type": "stream",
     "text": [
      "834 µs ± 22.5 µs per loop (mean ± std. dev. of 7 runs, 1,000 loops each)\n"
     ]
    }
   ],
   "source": [
    "%timeit ds[np.random.randint(0,len(ds))]"
   ]
  },
  {
   "cell_type": "code",
   "execution_count": 5,
   "metadata": {},
   "outputs": [
    {
     "name": "stderr",
     "output_type": "stream",
     "text": [
      "/home/bruno/sat-gnn/notebooks/../src/dataset.py:169: SyntaxWarning: \"is not\" with a literal. Did you mean \"!=\"?\n",
      "  if k is not 'kwargs':\n",
      "/home/bruno/sat-gnn/notebooks/../src/dataset.py:169: SyntaxWarning: \"is not\" with a literal. Did you mean \"!=\"?\n",
      "  if k is not 'kwargs':\n",
      "/home/bruno/sat-gnn/notebooks/../src/dataset.py:169: SyntaxWarning: \"is not\" with a literal. Did you mean \"!=\"?\n",
      "  if k is not 'kwargs':\n",
      "/home/bruno/sat-gnn/notebooks/../src/dataset.py:169: SyntaxWarning: \"is not\" with a literal. Did you mean \"!=\"?\n",
      "  if k is not 'kwargs':\n",
      "/home/bruno/sat-gnn/notebooks/../src/dataset.py:169: SyntaxWarning: \"is not\" with a literal. Did you mean \"!=\"?\n",
      "  if k is not 'kwargs':\n",
      "/home/bruno/sat-gnn/notebooks/../src/dataset.py:169: SyntaxWarning: \"is not\" with a literal. Did you mean \"!=\"?\n",
      "  if k is not 'kwargs':\n",
      "/home/bruno/sat-gnn/notebooks/../src/dataset.py:169: SyntaxWarning: \"is not\" with a literal. Did you mean \"!=\"?\n",
      "  if k is not 'kwargs':\n",
      "/home/bruno/sat-gnn/notebooks/../src/dataset.py:169: SyntaxWarning: \"is not\" with a literal. Did you mean \"!=\"?\n",
      "  if k is not 'kwargs':\n",
      "/home/bruno/sat-gnn/notebooks/../src/dataset.py:169: SyntaxWarning: \"is not\" with a literal. Did you mean \"!=\"?\n",
      "  if k is not 'kwargs':\n"
     ]
    },
    {
     "ename": "TypeError",
     "evalue": "expected np.ndarray (got list)",
     "output_type": "error",
     "traceback": [
      "\u001b[0;31m---------------------------------------------------------------------------\u001b[0m",
      "\u001b[0;31mTypeError\u001b[0m                                 Traceback (most recent call last)",
      "Cell \u001b[0;32mIn[5], line 1\u001b[0m\n\u001b[0;32m----> 1\u001b[0m ds[\u001b[39m0\u001b[39;49m]\n",
      "File \u001b[0;32m~/sat-gnn/notebooks/../src/dataset.py:135\u001b[0m, in \u001b[0;36mGraphDataset.__getitem__\u001b[0;34m(self, idx)\u001b[0m\n\u001b[1;32m    133\u001b[0m \u001b[39mdef\u001b[39;00m \u001b[39m__getitem__\u001b[39m(\u001b[39mself\u001b[39m, idx):\n\u001b[1;32m    134\u001b[0m     \u001b[39mself\u001b[39m\u001b[39m.\u001b[39mmaybe_initialize()\n\u001b[0;32m--> 135\u001b[0m     \u001b[39mreturn\u001b[39;00m \u001b[39mself\u001b[39;49m\u001b[39m.\u001b[39;49mgetitem(idx)\n",
      "File \u001b[0;32m~/sat-gnn/notebooks/../src/dataset.py:318\u001b[0m, in \u001b[0;36mSolutionFeasibilityDataset.getitem\u001b[0;34m(self, idx)\u001b[0m\n\u001b[1;32m    315\u001b[0m x \u001b[39m=\u001b[39m \u001b[39mself\u001b[39m\u001b[39m.\u001b[39minputs[idx]\n\u001b[1;32m    316\u001b[0m y \u001b[39m=\u001b[39m \u001b[39mself\u001b[39m\u001b[39m.\u001b[39mtargets[idx]\n\u001b[0;32m--> 318\u001b[0m g \u001b[39m=\u001b[39m \u001b[39mself\u001b[39;49m\u001b[39m.\u001b[39;49madd_input_to_graph(g, x)\n\u001b[1;32m    320\u001b[0m \u001b[39mtry\u001b[39;00m:\n\u001b[1;32m    321\u001b[0m     m \u001b[39m=\u001b[39m \u001b[39mself\u001b[39m\u001b[39m.\u001b[39mmodels[idx]\n",
      "File \u001b[0;32m~/sat-gnn/notebooks/../src/dataset.py:332\u001b[0m, in \u001b[0;36mSolutionFeasibilityDataset.add_input_to_graph\u001b[0;34m(self, g, x)\u001b[0m\n\u001b[1;32m    327\u001b[0m \u001b[39mif\u001b[39;00m \u001b[39mnot\u001b[39;00m \u001b[39mself\u001b[39m\u001b[39m.\u001b[39m_lazy:\n\u001b[1;32m    328\u001b[0m     g \u001b[39m=\u001b[39m deepcopy(g)\n\u001b[1;32m    330\u001b[0m g\u001b[39m.\u001b[39mndata[\u001b[39m'\u001b[39m\u001b[39mx\u001b[39m\u001b[39m'\u001b[39m][\u001b[39m'\u001b[39m\u001b[39mvar\u001b[39m\u001b[39m'\u001b[39m] \u001b[39m=\u001b[39m torch\u001b[39m.\u001b[39mhstack([\n\u001b[1;32m    331\u001b[0m     g\u001b[39m.\u001b[39mndata[\u001b[39m'\u001b[39m\u001b[39mx\u001b[39m\u001b[39m'\u001b[39m][\u001b[39m'\u001b[39m\u001b[39mvar\u001b[39m\u001b[39m'\u001b[39m],\n\u001b[0;32m--> 332\u001b[0m     torch\u001b[39m.\u001b[39;49mfrom_numpy(x)\u001b[39m.\u001b[39mto(g\u001b[39m.\u001b[39mndata[\u001b[39m'\u001b[39m\u001b[39mx\u001b[39m\u001b[39m'\u001b[39m][\u001b[39m'\u001b[39m\u001b[39mvar\u001b[39m\u001b[39m'\u001b[39m])\u001b[39m.\u001b[39munsqueeze(\u001b[39m1\u001b[39m)\n\u001b[1;32m    333\u001b[0m ])\n\u001b[1;32m    335\u001b[0m \u001b[39mreturn\u001b[39;00m g\n",
      "\u001b[0;31mTypeError\u001b[0m: expected np.ndarray (got list)"
     ]
    }
   ],
   "source": [
    "ds[0]"
   ]
  },
  {
   "cell_type": "code",
   "execution_count": 9,
   "metadata": {},
   "outputs": [
    {
     "data": {
      "text/plain": [
       "14000"
      ]
     },
     "execution_count": 9,
     "metadata": {},
     "output_type": "execute_result"
    }
   ],
   "source": [
    "del ds\n",
    "ds = SolutionFeasibilityDataset.from_file_lazy('test.hdf5')"
   ]
  },
  {
   "cell_type": "code",
   "execution_count": 14,
   "metadata": {},
   "outputs": [],
   "source": [
    "!rm test.hdf5*"
   ]
  },
  {
   "cell_type": "code",
   "execution_count": 26,
   "metadata": {},
   "outputs": [],
   "source": [
    "import dgl\n",
    "dgl.save_graphs('test.hdf5', [ds.gs[3000], ds.gs[4000], ds.gs[5000]])"
   ]
  },
  {
   "cell_type": "code",
   "execution_count": 27,
   "metadata": {},
   "outputs": [
    {
     "data": {
      "text/plain": [
       "([Graph(num_nodes={'con': 7338, 'soc': 375, 'var': 2250},\n",
       "        num_edges={('con', 'c2s', 'soc'): 999, ('con', 'c2v', 'var'): 95419, ('soc', 's2c', 'con'): 999, ('var', 'v2c', 'con'): 95419},\n",
       "        metagraph=[('con', 'soc', 'c2s'), ('con', 'var', 'c2v'), ('soc', 'con', 's2c'), ('var', 'con', 'v2c')])],\n",
       " {})"
      ]
     },
     "execution_count": 27,
     "metadata": {},
     "output_type": "execute_result"
    }
   ],
   "source": [
    "dgl.load_graphs('test.hdf5', [2])"
   ]
  },
  {
   "cell_type": "code",
   "execution_count": 28,
   "metadata": {},
   "outputs": [
    {
     "ename": "OSError",
     "evalue": "Unable to open file (file signature not found)",
     "output_type": "error",
     "traceback": [
      "\u001b[0;31m---------------------------------------------------------------------------\u001b[0m",
      "\u001b[0;31mOSError\u001b[0m                                   Traceback (most recent call last)",
      "Cell \u001b[0;32mIn[28], line 3\u001b[0m\n\u001b[1;32m      1\u001b[0m \u001b[39mimport\u001b[39;00m \u001b[39mh5py\u001b[39;00m\n\u001b[0;32m----> 3\u001b[0m \u001b[39mwith\u001b[39;00m h5py\u001b[39m.\u001b[39;49mFile(\u001b[39m'\u001b[39;49m\u001b[39mtest.hdf5\u001b[39;49m\u001b[39m'\u001b[39;49m, \u001b[39m'\u001b[39;49m\u001b[39mr\u001b[39;49m\u001b[39m'\u001b[39;49m) \u001b[39mas\u001b[39;00m f:\n\u001b[1;32m      4\u001b[0m     \u001b[39mprint\u001b[39m(\u001b[39mlist\u001b[39m(f\u001b[39m.\u001b[39mkeys()))\n",
      "File \u001b[0;32m~/miniconda3/envs/gnns/lib/python3.10/site-packages/h5py/_hl/files.py:533\u001b[0m, in \u001b[0;36mFile.__init__\u001b[0;34m(self, name, mode, driver, libver, userblock_size, swmr, rdcc_nslots, rdcc_nbytes, rdcc_w0, track_order, fs_strategy, fs_persist, fs_threshold, fs_page_size, page_buf_size, min_meta_keep, min_raw_keep, locking, alignment_threshold, alignment_interval, **kwds)\u001b[0m\n\u001b[1;32m    525\u001b[0m     fapl \u001b[39m=\u001b[39m make_fapl(driver, libver, rdcc_nslots, rdcc_nbytes, rdcc_w0,\n\u001b[1;32m    526\u001b[0m                      locking, page_buf_size, min_meta_keep, min_raw_keep,\n\u001b[1;32m    527\u001b[0m                      alignment_threshold\u001b[39m=\u001b[39malignment_threshold,\n\u001b[1;32m    528\u001b[0m                      alignment_interval\u001b[39m=\u001b[39malignment_interval,\n\u001b[1;32m    529\u001b[0m                      \u001b[39m*\u001b[39m\u001b[39m*\u001b[39mkwds)\n\u001b[1;32m    530\u001b[0m     fcpl \u001b[39m=\u001b[39m make_fcpl(track_order\u001b[39m=\u001b[39mtrack_order, fs_strategy\u001b[39m=\u001b[39mfs_strategy,\n\u001b[1;32m    531\u001b[0m                      fs_persist\u001b[39m=\u001b[39mfs_persist, fs_threshold\u001b[39m=\u001b[39mfs_threshold,\n\u001b[1;32m    532\u001b[0m                      fs_page_size\u001b[39m=\u001b[39mfs_page_size)\n\u001b[0;32m--> 533\u001b[0m     fid \u001b[39m=\u001b[39m make_fid(name, mode, userblock_size, fapl, fcpl, swmr\u001b[39m=\u001b[39;49mswmr)\n\u001b[1;32m    535\u001b[0m \u001b[39mif\u001b[39;00m \u001b[39misinstance\u001b[39m(libver, \u001b[39mtuple\u001b[39m):\n\u001b[1;32m    536\u001b[0m     \u001b[39mself\u001b[39m\u001b[39m.\u001b[39m_libver \u001b[39m=\u001b[39m libver\n",
      "File \u001b[0;32m~/miniconda3/envs/gnns/lib/python3.10/site-packages/h5py/_hl/files.py:226\u001b[0m, in \u001b[0;36mmake_fid\u001b[0;34m(name, mode, userblock_size, fapl, fcpl, swmr)\u001b[0m\n\u001b[1;32m    224\u001b[0m     \u001b[39mif\u001b[39;00m swmr \u001b[39mand\u001b[39;00m swmr_support:\n\u001b[1;32m    225\u001b[0m         flags \u001b[39m|\u001b[39m\u001b[39m=\u001b[39m h5f\u001b[39m.\u001b[39mACC_SWMR_READ\n\u001b[0;32m--> 226\u001b[0m     fid \u001b[39m=\u001b[39m h5f\u001b[39m.\u001b[39;49mopen(name, flags, fapl\u001b[39m=\u001b[39;49mfapl)\n\u001b[1;32m    227\u001b[0m \u001b[39melif\u001b[39;00m mode \u001b[39m==\u001b[39m \u001b[39m'\u001b[39m\u001b[39mr+\u001b[39m\u001b[39m'\u001b[39m:\n\u001b[1;32m    228\u001b[0m     fid \u001b[39m=\u001b[39m h5f\u001b[39m.\u001b[39mopen(name, h5f\u001b[39m.\u001b[39mACC_RDWR, fapl\u001b[39m=\u001b[39mfapl)\n",
      "File \u001b[0;32mh5py/_objects.pyx:54\u001b[0m, in \u001b[0;36mh5py._objects.with_phil.wrapper\u001b[0;34m()\u001b[0m\n",
      "File \u001b[0;32mh5py/_objects.pyx:55\u001b[0m, in \u001b[0;36mh5py._objects.with_phil.wrapper\u001b[0;34m()\u001b[0m\n",
      "File \u001b[0;32mh5py/h5f.pyx:106\u001b[0m, in \u001b[0;36mh5py.h5f.open\u001b[0;34m()\u001b[0m\n",
      "\u001b[0;31mOSError\u001b[0m: Unable to open file (file signature not found)"
     ]
    }
   ],
   "source": [
    "import h5py\n",
    "\n",
    "with h5py.File('test.hdf5', 'r') as f:\n",
    "    print(list(f.keys()))"
   ]
  },
  {
   "cell_type": "code",
   "execution_count": 39,
   "metadata": {},
   "outputs": [],
   "source": [
    "import re\n",
    "\n",
    "candidate_values = sols[0][instance.vars_names.find('x(') >= 0]\n",
    "candidate = dict(zip(instance.vars_names[instance.vars_names.find('x(') >= 0],\n",
    "                     sols[0][instance.vars_names.find('x(') >= 0]))\n",
    "\n",
    "X = np.zeros((instance.jobs, instance.T), dtype='uint8')\n",
    "for var_name, var_x in candidate.items():\n",
    "    j, t = re.fullmatch(r\"x\\((\\d+),(\\d+)\\)\", var_name).groups()\n",
    "    j = int(j)\n",
    "    t = int(t)\n",
    "    X[j,t] = np.round(var_x)\n",
    "\n",
    "Phi = X.copy()\n",
    "Phi[:,1:] = np.where(X[:,1:] - X[:,:-1] != 0, X[:,1:], np.zeros_like(X[:,1:]))"
   ]
  },
  {
   "cell_type": "code",
   "execution_count": 44,
   "metadata": {},
   "outputs": [
    {
     "data": {
      "text/plain": [
       "(array([5.47495326e-07, 5.50273625e-07]), array([0, 0], dtype=uint8))"
      ]
     },
     "execution_count": 44,
     "metadata": {},
     "output_type": "execute_result"
    }
   ],
   "source": [
    "actual_phi = sols[0][instance.vars_names.find('phi(') >= 0]\n",
    "\n",
    "np.isclose(actual_phi, Phi.flatten(), atol=1e-6).all()"
   ]
  },
  {
   "cell_type": "code",
   "execution_count": 47,
   "metadata": {},
   "outputs": [
    {
     "data": {
      "text/plain": [
       "True"
      ]
     },
     "execution_count": 47,
     "metadata": {},
     "output_type": "execute_result"
    }
   ],
   "source": []
  },
  {
   "cell_type": "code",
   "execution_count": 32,
   "metadata": {},
   "outputs": [
    {
     "data": {
      "text/plain": [
       "array([0, 1, 0, 0, 0, 0, 0, 0, 0, 0], dtype=uint8)"
      ]
     },
     "execution_count": 32,
     "metadata": {},
     "output_type": "execute_result"
    }
   ],
   "source": [
    "Phi[5][:10]"
   ]
  },
  {
   "cell_type": "code",
   "execution_count": 33,
   "metadata": {},
   "outputs": [
    {
     "data": {
      "text/plain": [
       "<matplotlib.image.AxesImage at 0x7f9b6a156ec0>"
      ]
     },
     "execution_count": 33,
     "metadata": {},
     "output_type": "execute_result"
    },
    {
     "data": {
      "image/png": "[encoded data removed]",
      "text/plain": [
       "<Figure size 640x480 with 1 Axes>"
      ]
     },
     "metadata": {},
     "output_type": "display_data"
    }
   ],
   "source": [
    "plt.imshow(X, aspect='auto')"
   ]
  },
  {
   "cell_type": "code",
   "execution_count": 34,
   "metadata": {},
   "outputs": [
    {
     "data": {
      "text/plain": [
       "<matplotlib.image.AxesImage at 0x7f9b69edd960>"
      ]
     },
     "execution_count": 34,
     "metadata": {},
     "output_type": "execute_result"
    },
    {
     "data": {
      "image/png": "[encoded data removed]",
      "text/plain": [
       "<Figure size 640x480 with 1 Axes>"
      ]
     },
     "metadata": {},
     "output_type": "display_data"
    }
   ],
   "source": [
    "plt.imshow(Phi, aspect='auto')"
   ]
  },
  {
   "cell_type": "code",
   "execution_count": 6,
   "metadata": {},
   "outputs": [
    {
     "ename": "FileNotFoundError",
     "evalue": "[Errno 2] No such file or directory: '../data/interim/125_13_14_sols.npz'",
     "output_type": "error",
     "traceback": [
      "\u001b[0;31m---------------------------------------------------------------------------\u001b[0m",
      "\u001b[0;31mFileNotFoundError\u001b[0m                         Traceback (most recent call last)",
      "Cell \u001b[0;32mIn[6], line 2\u001b[0m\n\u001b[1;32m      1\u001b[0m sols_fp \u001b[39m=\u001b[39m opts_dir\u001b[39m/\u001b[39m(fp\u001b[39m.\u001b[39mname\u001b[39m.\u001b[39mreplace(\u001b[39m'\u001b[39m\u001b[39m.json\u001b[39m\u001b[39m'\u001b[39m, \u001b[39m'\u001b[39m\u001b[39m_sols.npz\u001b[39m\u001b[39m'\u001b[39m))\n\u001b[0;32m----> 2\u001b[0m sols \u001b[39m=\u001b[39m np\u001b[39m.\u001b[39;49mload(sols_fp)[\u001b[39m'\u001b[39m\u001b[39marr_0\u001b[39m\u001b[39m'\u001b[39m]\n\u001b[1;32m      3\u001b[0m sols\u001b[39m.\u001b[39mshape\n",
      "File \u001b[0;32m~/miniconda3/envs/gnns/lib/python3.10/site-packages/numpy/lib/npyio.py:405\u001b[0m, in \u001b[0;36mload\u001b[0;34m(file, mmap_mode, allow_pickle, fix_imports, encoding, max_header_size)\u001b[0m\n\u001b[1;32m    403\u001b[0m     own_fid \u001b[39m=\u001b[39m \u001b[39mFalse\u001b[39;00m\n\u001b[1;32m    404\u001b[0m \u001b[39melse\u001b[39;00m:\n\u001b[0;32m--> 405\u001b[0m     fid \u001b[39m=\u001b[39m stack\u001b[39m.\u001b[39menter_context(\u001b[39mopen\u001b[39;49m(os_fspath(file), \u001b[39m\"\u001b[39;49m\u001b[39mrb\u001b[39;49m\u001b[39m\"\u001b[39;49m))\n\u001b[1;32m    406\u001b[0m     own_fid \u001b[39m=\u001b[39m \u001b[39mTrue\u001b[39;00m\n\u001b[1;32m    408\u001b[0m \u001b[39m# Code to distinguish from NumPy binary files and pickles.\u001b[39;00m\n",
      "\u001b[0;31mFileNotFoundError\u001b[0m: [Errno 2] No such file or directory: '../data/interim/125_13_14_sols.npz'"
     ]
    }
   ],
   "source": [
    "sols_fp = opts_dir/(fp.name.replace('.json', '_sols.npz'))\n",
    "sols = np.load(sols_fp)['arr_0']\n",
    "sols.shape"
   ]
  },
  {
   "cell_type": "code",
   "execution_count": 7,
   "metadata": {},
   "outputs": [
    {
     "data": {
      "text/plain": [
       "array([ 1.,  1.,  1., ...,  1.,  0., -0.])"
      ]
     },
     "execution_count": 7,
     "metadata": {},
     "output_type": "execute_result"
    }
   ],
   "source": [
    "sols[np.random.choice(np.arange(sols.shape[0]))]"
   ]
  },
  {
   "cell_type": "code",
   "execution_count": 5,
   "metadata": {},
   "outputs": [
    {
     "data": {
      "text/plain": [
       "(500, 500.0, 500)"
      ]
     },
     "execution_count": 5,
     "metadata": {},
     "output_type": "execute_result"
    }
   ],
   "source": [
    "n_sols = list()\n",
    "for fp in instances_dir.glob('125_*_*.json'):\n",
    "    sols_fp = opts_dir/(fp.name.replace('.json', '_sols.npz'))\n",
    "    try:\n",
    "        sols = np.load(sols_fp)['arr_0']\n",
    "        if len(sols) == 0:\n",
    "            print(fp)\n",
    "        else:\n",
    "            n_sols.append(len(sols))\n",
    "    except FileNotFoundError:\n",
    "        pass\n",
    "\n",
    "min(n_sols), np.mean(n_sols), max(n_sols)"
   ]
  },
  {
   "cell_type": "code",
   "execution_count": 26,
   "metadata": {},
   "outputs": [
    {
     "data": {
      "image/png": "[encoded data removed]",
      "text/plain": [
       "<Figure size 640x480 with 1 Axes>"
      ]
     },
     "metadata": {},
     "output_type": "display_data"
    },
    {
     "data": {
      "text/plain": [
       "[3, 68, 76, 90, 94]"
      ]
     },
     "execution_count": 26,
     "metadata": {},
     "output_type": "execute_result"
    }
   ],
   "source": [
    "plt.hist(n_sols, bins=20)\n",
    "plt.yscale('log')\n",
    "plt.show()\n",
    "sorted(n_sols)[:5]"
   ]
  },
  {
   "cell_type": "code",
   "execution_count": 73,
   "metadata": {},
   "outputs": [
    {
     "data": {
      "text/plain": [
       "(array([ 1.,  1.,  1., ...,  1., -0., -0.]), 1)"
      ]
     },
     "execution_count": 73,
     "metadata": {},
     "output_type": "execute_result"
    }
   ],
   "source": [
    "next(zip(sols, np.ones(len(sols), dtype='uint8')))"
   ]
  },
  {
   "cell_type": "code",
   "execution_count": 8,
   "metadata": {},
   "outputs": [],
   "source": [
    "instance = Instance.from_file(fp)\n",
    "\n",
    "sols_fp = opts_dir/(fp.name.replace('.json', '_sols.npz'))\n",
    "sols = np.load(sols_fp)['arr_0']\n",
    "\n",
    "with instance.to_gurobipy(coupling=False, new_inequalities=False) as m:\n",
    "    vars_names = np.core.defchararray.array([v.VarName for v in m.getVars()])\n",
    "    vars_names = vars_names[(vars_names.find('x(') >= 0) | (vars_names.find('phi(') >= 0)]\n",
    "\n",
    "def random_candidate_from_sols(sols, vars_names, n_noise=1):\n",
    "    # only x values, to avoid infeasibility due to x being different from phi\n",
    "    x = sols[np.random.choice(np.arange(sols.shape[0]))][vars_names.find('x(') >= 0]\n",
    "\n",
    "    if n_noise == 1:\n",
    "        noise = np.eye(len(x))[np.random.choice(np.arange(len(x)))]\n",
    "    else:\n",
    "        p = n_noise / len(x)\n",
    "        noise = np.random.choice([False, True], size=len(x), p=[1-p, p])\n",
    "\n",
    "    x_dirty = np.where(noise, 1 - x, x)\n",
    "    candidate = dict(zip(vars_names[vars_names.find('x(') >= 0], x_dirty))\n",
    "\n",
    "    return candidate\n",
    "\n",
    "\n",
    "model = instance.to_scip(coupling=True, new_inequalities=True,\n",
    "                        enable_primal_dual_integral=False)\n",
    "candidate = random_candidate_from_sols(sols, vars_names)\n",
    "# while not instance._fix_vars_and_solve(model, candidate):\n",
    "#     model = instance.to_scip(coupling=True, new_inequalities=True,\n",
    "#                             enable_primal_dual_integral=False)\n",
    "#     candidate = random_candidate_from_sols(sols, vars_names)"
   ]
  },
  {
   "cell_type": "code",
   "execution_count": 32,
   "metadata": {},
   "outputs": [
    {
     "data": {
      "text/plain": [
       "(4, 4.0)"
      ]
     },
     "execution_count": 32,
     "metadata": {},
     "output_type": "execute_result"
    }
   ],
   "source": [
    "p = 5 / len(x)\n",
    "noise = np.random.choice([False, True], size=len(x), p=[1-p, p])\n",
    "x_dirty = np.where(noise, 1 - x, x)\n"
   ]
  },
  {
   "cell_type": "code",
   "execution_count": null,
   "metadata": {},
   "outputs": [],
   "source": []
  },
  {
   "cell_type": "code",
   "execution_count": 20,
   "metadata": {},
   "outputs": [
    {
     "data": {
      "image/png": "[encoded data removed]",
      "text/plain": [
       "<Figure size 640x480 with 1 Axes>"
      ]
     },
     "metadata": {},
     "output_type": "display_data"
    },
    {
     "data": {
      "image/png": "[encoded data removed]",
      "text/plain": [
       "<Figure size 640x480 with 1 Axes>"
      ]
     },
     "metadata": {},
     "output_type": "display_data"
    },
    {
     "data": {
      "image/png": "[encoded data removed]",
      "text/plain": [
       "<Figure size 640x480 with 1 Axes>"
      ]
     },
     "metadata": {},
     "output_type": "display_data"
    },
    {
     "data": {
      "image/png": "[encoded data removed]",
      "text/plain": [
       "<Figure size 640x480 with 1 Axes>"
      ]
     },
     "metadata": {},
     "output_type": "display_data"
    },
    {
     "data": {
      "image/png": "[encoded data removed]",
      "text/plain": [
       "<Figure size 640x480 with 1 Axes>"
      ]
     },
     "metadata": {},
     "output_type": "display_data"
    },
    {
     "data": {
      "image/png": "[encoded data removed]",
      "text/plain": [
       "<Figure size 640x480 with 1 Axes>"
      ]
     },
     "metadata": {},
     "output_type": "display_data"
    }
   ],
   "source": [
    "for T in sorted(df['T'].unique()):\n",
    "    df_ = df[df['T'] == T]\n",
    "    for J in sorted(df_['J'].unique()):\n",
    "        df__ = df_[df_['J'] == J]\n",
    "\n",
    "        df__ = df__.sort_values('mtime')\n",
    "        timesteps = (df__['mtime'] - df__['mtime'].shift(1)).dropna()\n",
    "        # timesteps = timesteps[timesteps < 1e3 * timesteps.median()]\n",
    "        # timesteps = timesteps[timesteps < np.mean(timesteps) + np.std(timesteps)]\n",
    "\n",
    "        plt.hist(timesteps.dt.total_seconds().values, bins=50)\n",
    "        plt.title(f\"({T}_{J}) n = {len(timesteps)+1} -- mean = {timesteps.mean().total_seconds():.2f} s // median = {timesteps.median().total_seconds():.2f} s\")\n",
    "        plt.show()\n",
    "        # break\n",
    "    # break"
   ]
  },
  {
   "cell_type": "code",
   "execution_count": 23,
   "metadata": {},
   "outputs": [
    {
     "data": {
      "text/html": [
       "<div>\n",
       "<style scoped>\n",
       "    .dataframe tbody tr th:only-of-type {\n",
       "        vertical-align: middle;\n",
       "    }\n",
       "\n",
       "    .dataframe tbody tr th {\n",
       "        vertical-align: top;\n",
       "    }\n",
       "\n",
       "    .dataframe thead th {\n",
       "        text-align: right;\n",
       "    }\n",
       "</style>\n",
       "<table border=\"1\" class=\"dataframe\">\n",
       "  <thead>\n",
       "    <tr style=\"text-align: right;\">\n",
       "      <th></th>\n",
       "      <th>T</th>\n",
       "      <th>J</th>\n",
       "      <th>i</th>\n",
       "      <th>obj</th>\n",
       "      <th>gap</th>\n",
       "      <th>runtime</th>\n",
       "    </tr>\n",
       "  </thead>\n",
       "  <tbody>\n",
       "    <tr>\n",
       "      <th>0</th>\n",
       "      <td>125</td>\n",
       "      <td>13</td>\n",
       "      <td>131</td>\n",
       "      <td>7411.0</td>\n",
       "      <td>0.00013493455673998112</td>\n",
       "      <td>300.2275400161743</td>\n",
       "    </tr>\n",
       "    <tr>\n",
       "      <th>1</th>\n",
       "      <td>125</td>\n",
       "      <td>9</td>\n",
       "      <td>93</td>\n",
       "      <td>4196.0</td>\n",
       "      <td>0.0</td>\n",
       "      <td>3.0466670989990234</td>\n",
       "    </tr>\n",
       "    <tr>\n",
       "      <th>2</th>\n",
       "      <td>125</td>\n",
       "      <td>18</td>\n",
       "      <td>61</td>\n",
       "      <td>10205.0</td>\n",
       "      <td>0.0</td>\n",
       "      <td>17.89956307411194</td>\n",
       "    </tr>\n",
       "    <tr>\n",
       "      <th>3</th>\n",
       "      <td>125</td>\n",
       "      <td>20</td>\n",
       "      <td>38</td>\n",
       "      <td>8113.0</td>\n",
       "      <td>0.0</td>\n",
       "      <td>27.279714107513428</td>\n",
       "    </tr>\n",
       "    <tr>\n",
       "      <th>4</th>\n",
       "      <td>125</td>\n",
       "      <td>20</td>\n",
       "      <td>6</td>\n",
       "      <td>10754.0</td>\n",
       "      <td>9.298865538404315e-05</td>\n",
       "      <td>31.76462197303772</td>\n",
       "    </tr>\n",
       "    <tr>\n",
       "      <th>...</th>\n",
       "      <td>...</td>\n",
       "      <td>...</td>\n",
       "      <td>...</td>\n",
       "      <td>...</td>\n",
       "      <td>...</td>\n",
       "      <td>...</td>\n",
       "    </tr>\n",
       "    <tr>\n",
       "      <th>913</th>\n",
       "      <td>125</td>\n",
       "      <td>18</td>\n",
       "      <td>26</td>\n",
       "      <td>10990.0</td>\n",
       "      <td>9.099181073703367e-05</td>\n",
       "      <td>6.326358079910278</td>\n",
       "    </tr>\n",
       "    <tr>\n",
       "      <th>914</th>\n",
       "      <td>125</td>\n",
       "      <td>18</td>\n",
       "      <td>128</td>\n",
       "      <td>10843.0</td>\n",
       "      <td>0.0</td>\n",
       "      <td>4.50761604309082</td>\n",
       "    </tr>\n",
       "    <tr>\n",
       "      <th>915</th>\n",
       "      <td>125</td>\n",
       "      <td>20</td>\n",
       "      <td>87</td>\n",
       "      <td>13734.0</td>\n",
       "      <td>0.00021843599825251202</td>\n",
       "      <td>300.02715587615967</td>\n",
       "    </tr>\n",
       "    <tr>\n",
       "      <th>916</th>\n",
       "      <td>125</td>\n",
       "      <td>18</td>\n",
       "      <td>139</td>\n",
       "      <td>10099.0</td>\n",
       "      <td>9.901970492127933e-05</td>\n",
       "      <td>2.9716200828552246</td>\n",
       "    </tr>\n",
       "    <tr>\n",
       "      <th>917</th>\n",
       "      <td>125</td>\n",
       "      <td>22</td>\n",
       "      <td>16</td>\n",
       "      <td>12226.0</td>\n",
       "      <td>0.0</td>\n",
       "      <td>11.324486017227173</td>\n",
       "    </tr>\n",
       "  </tbody>\n",
       "</table>\n",
       "<p>918 rows × 6 columns</p>\n",
       "</div>"
      ],
      "text/plain": [
       "       T   J    i      obj                     gap             runtime\n",
       "0    125  13  131   7411.0  0.00013493455673998112   300.2275400161743\n",
       "1    125   9   93   4196.0                     0.0  3.0466670989990234\n",
       "2    125  18   61  10205.0                     0.0   17.89956307411194\n",
       "3    125  20   38   8113.0                     0.0  27.279714107513428\n",
       "4    125  20    6  10754.0   9.298865538404315e-05   31.76462197303772\n",
       "..   ...  ..  ...      ...                     ...                 ...\n",
       "913  125  18   26  10990.0   9.099181073703367e-05   6.326358079910278\n",
       "914  125  18  128  10843.0                     0.0    4.50761604309082\n",
       "915  125  20   87  13734.0  0.00021843599825251202  300.02715587615967\n",
       "916  125  18  139  10099.0   9.901970492127933e-05  2.9716200828552246\n",
       "917  125  22   16  12226.0                     0.0  11.324486017227173\n",
       "\n",
       "[918 rows x 6 columns]"
      ]
     },
     "execution_count": 23,
     "metadata": {},
     "output_type": "execute_result"
    }
   ],
   "source": [
    "opts_dir = Path('../data/interim')\n",
    "opts_fpaths = list(opts_dir.glob('125_*_opt.npz'))\n",
    "\n",
    "opts = list()\n",
    "for fp in opts_dir.glob('125_*_opt.npz'):\n",
    "    T, J, i  = fp.name[:-len('_opt.npz')].split('_')\n",
    "\n",
    "    np.load(fp)\n",
    "\n",
    "    sol_npz = np.load(fp)\n",
    "    obj, gap, runtime, sol = sol_npz['arr_0'], sol_npz['arr_1'], sol_npz['arr_2'], sol_npz['arr_3']\n",
    "\n",
    "    opts.append(dict(\n",
    "        T=int(T),\n",
    "        J=int(J),\n",
    "        i=int(i),\n",
    "        obj=obj,\n",
    "        gap=gap,\n",
    "        runtime=runtime,\n",
    "    ))\n",
    "df = pd.DataFrame(opts)\n",
    "df"
   ]
  },
  {
   "cell_type": "code",
   "execution_count": 24,
   "metadata": {},
   "outputs": [
    {
     "data": {
      "text/plain": [
       "T    J \n",
       "125  9      64.722902\n",
       "     13    113.629113\n",
       "     18    108.517176\n",
       "     20    104.942037\n",
       "     22     97.408200\n",
       "     24    111.006532\n",
       "Name: runtime, dtype: float64"
      ]
     },
     "execution_count": 24,
     "metadata": {},
     "output_type": "execute_result"
    }
   ],
   "source": [
    "df.groupby(['T', 'J'])['runtime'].mean()"
   ]
  },
  {
   "cell_type": "code",
   "execution_count": 91,
   "metadata": {},
   "outputs": [
    {
     "data": {
      "text/plain": [
       "2384             0 days 00:00:08\n",
       "2842             0 days 00:00:08\n",
       "1646             0 days 00:00:10\n",
       "2040             0 days 00:00:06\n",
       "1942             0 days 00:00:06\n",
       "                  ...           \n",
       "295    0 days 00:00:01.028000256\n",
       "1779      0 days 00:00:00.556000\n",
       "192       0 days 00:00:01.312000\n",
       "810       0 days 00:00:00.748000\n",
       "2700      0 days 00:00:01.500000\n",
       "Name: mtime, Length: 100, dtype: timedelta64[ns]"
      ]
     },
     "execution_count": 91,
     "metadata": {},
     "output_type": "execute_result"
    }
   ],
   "source": [
    "d = df[(df['T'] == 97) & (df['J'] == 13)]\n",
    "d = d.sort_values('mtime')\n",
    "t = (d['mtime'] - d['mtime'].shift(1)).dropna()\n",
    "t"
   ]
  },
  {
   "cell_type": "code",
   "execution_count": 93,
   "metadata": {},
   "outputs": [
    {
     "data": {
      "text/plain": [
       "Timedelta('0 days 00:00:02')"
      ]
     },
     "execution_count": 93,
     "metadata": {},
     "output_type": "execute_result"
    }
   ],
   "source": [
    "t.median()"
   ]
  },
  {
   "cell_type": "code",
   "execution_count": 69,
   "metadata": {},
   "outputs": [
    {
     "data": {
      "text/plain": [
       "7      2023-04-14 15:04:48.000000000\n",
       "13     2023-04-17 15:54:16.849408512\n",
       "67     2023-04-17 15:54:42.637410048\n",
       "80     2023-04-14 15:03:58.000000000\n",
       "133    2023-04-14 15:03:22.000000000\n",
       "                    ...             \n",
       "2842   2023-04-14 15:01:54.000000000\n",
       "2858   2023-04-14 15:04:56.000000000\n",
       "2900   2023-04-14 15:03:30.000000000\n",
       "2932   2023-04-17 15:54:20.877408768\n",
       "2967   2023-04-17 15:54:34.045409536\n",
       "Name: mtime, Length: 101, dtype: datetime64[ns]"
      ]
     },
     "execution_count": 69,
     "metadata": {},
     "output_type": "execute_result"
    }
   ],
   "source": [
    "d['mtime']"
   ]
  },
  {
   "cell_type": "code",
   "execution_count": 50,
   "metadata": {},
   "outputs": [
    {
     "data": {
      "text/plain": [
       "dtype('float64')"
      ]
     },
     "execution_count": 50,
     "metadata": {},
     "output_type": "execute_result"
    }
   ],
   "source": [
    "d['mtime'].dtype"
   ]
  },
  {
   "cell_type": "code",
   "execution_count": null,
   "metadata": {},
   "outputs": [
    {
     "data": {
      "text/plain": [
       "764285.8627961518"
      ]
     },
     "metadata": {},
     "output_type": "display_data"
    }
   ],
   "source": [
    "np.std(timesteps)"
   ]
  }
 ],
 "metadata": {
  "kernelspec": {
   "display_name": "gnns",
   "language": "python",
   "name": "python3"
  },
  "language_info": {
   "codemirror_mode": {
    "name": "ipython",
    "version": 3
   },
   "file_extension": ".py",
   "mimetype": "text/x-python",
   "name": "python",
   "nbconvert_exporter": "python",
   "pygments_lexer": "ipython3",
   "version": "3.10.9"
  },
  "orig_nbformat": 4
 },
 "nbformat": 4,
 "nbformat_minor": 2
}
