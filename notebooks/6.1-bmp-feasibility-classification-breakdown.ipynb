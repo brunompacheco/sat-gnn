{
 "cells": [
  {
   "cell_type": "code",
   "execution_count": 1,
   "metadata": {},
   "outputs": [],
   "source": [
    "%load_ext autoreload\n",
    "%autoreload 2\n",
    "\n",
    "import sys\n",
    "sys.path.append('..')  # enable import from src/"
   ]
  },
  {
   "cell_type": "code",
   "execution_count": 19,
   "metadata": {},
   "outputs": [],
   "source": [
    "from pathlib import Path\n",
    "\n",
    "import numpy as np\n",
    "import torch\n",
    "\n",
    "from tqdm import tqdm\n",
    "\n",
    "from src.dataset import SolutionFeasibilityDataset\n",
    "from src.net import FeasSatGNN\n",
    "from src.utils import load_from_wandb"
   ]
  },
  {
   "cell_type": "code",
   "execution_count": 6,
   "metadata": {},
   "outputs": [
    {
     "name": "stderr",
     "output_type": "stream",
     "text": [
      "  0%|          | 0/6 [00:00<?, ?it/s]"
     ]
    },
    {
     "name": "stdout",
     "output_type": "stream",
     "text": [
      "wrote problem to file /home/bruno/sat-gnn/notebooks/model.cip\n",
      "wrote problem to file /home/bruno/sat-gnn/notebooks/model.cip\n"
     ]
    },
    {
     "name": "stderr",
     "output_type": "stream",
     "text": [
      " 17%|█▋        | 1/6 [01:47<08:55, 107.09s/it]"
     ]
    },
    {
     "name": "stdout",
     "output_type": "stream",
     "text": [
      "wrote problem to file /home/bruno/sat-gnn/notebooks/model.cip\n",
      "wrote problem to file /home/bruno/sat-gnn/notebooks/model.cip\n"
     ]
    },
    {
     "name": "stderr",
     "output_type": "stream",
     "text": [
      " 33%|███▎      | 2/6 [03:15<06:24, 96.08s/it] "
     ]
    },
    {
     "name": "stdout",
     "output_type": "stream",
     "text": [
      "wrote problem to file /home/bruno/sat-gnn/notebooks/model.cip\n",
      "wrote problem to file /home/bruno/sat-gnn/notebooks/model.cip\n"
     ]
    },
    {
     "name": "stderr",
     "output_type": "stream",
     "text": [
      " 50%|█████     | 3/6 [04:52<04:48, 96.32s/it]"
     ]
    },
    {
     "name": "stdout",
     "output_type": "stream",
     "text": [
      "wrote problem to file /home/bruno/sat-gnn/notebooks/model.cip\n",
      "wrote problem to file /home/bruno/sat-gnn/notebooks/model.cip\n"
     ]
    },
    {
     "name": "stderr",
     "output_type": "stream",
     "text": [
      " 67%|██████▋   | 4/6 [06:32<03:16, 98.04s/it]"
     ]
    },
    {
     "name": "stdout",
     "output_type": "stream",
     "text": [
      "wrote problem to file /home/bruno/sat-gnn/notebooks/model.cip\n",
      "wrote problem to file /home/bruno/sat-gnn/notebooks/model.cip\n"
     ]
    },
    {
     "name": "stderr",
     "output_type": "stream",
     "text": [
      " 83%|████████▎ | 5/6 [08:15<01:39, 99.86s/it]"
     ]
    },
    {
     "name": "stdout",
     "output_type": "stream",
     "text": [
      "wrote problem to file /home/bruno/sat-gnn/notebooks/model.cip\n",
      "wrote problem to file /home/bruno/sat-gnn/notebooks/model.cip\n"
     ]
    },
    {
     "name": "stderr",
     "output_type": "stream",
     "text": [
      "100%|██████████| 6/6 [10:05<00:00, 100.85s/it]\n"
     ]
    }
   ],
   "source": [
    "test_data = SolutionFeasibilityDataset(\n",
    "    [fp for fp in Path('../data/raw/').glob('125_*.json')\n",
    "        if (int(fp.name.split('_')[1]) >= 20) and\n",
    "        (int(fp.name.split('_')[2].replace('.json', '')) in np.arange(20,22))],\n",
    ")\n",
    "test_data.maybe_initialize()"
   ]
  },
  {
   "cell_type": "code",
   "execution_count": 8,
   "metadata": {},
   "outputs": [
    {
     "data": {
      "text/plain": [
       "FeasSatGNN(\n",
       "  (soc_emb): Sequential(\n",
       "    (0): PreNormLayer()\n",
       "    (1): Linear(in_features=6, out_features=8, bias=True)\n",
       "    (2): ReLU()\n",
       "  )\n",
       "  (var_emb): Sequential(\n",
       "    (0): PreNormLayer()\n",
       "    (1): Linear(in_features=8, out_features=8, bias=True)\n",
       "    (2): ReLU()\n",
       "  )\n",
       "  (con_emb): Sequential(\n",
       "    (0): PreNormLayer()\n",
       "    (1): Linear(in_features=4, out_features=8, bias=True)\n",
       "    (2): ReLU()\n",
       "  )\n",
       "  (convs): Sequential(\n",
       "    (0): HeteroGraphConv(\n",
       "      (mods): ModuleDict(\n",
       "        (v2c): GraphConv(in=8, out=8, normalization=both, activation=None)\n",
       "        (s2c): GraphConv(in=8, out=8, normalization=both, activation=None)\n",
       "        (c2v): GraphConv(in=8, out=8, normalization=both, activation=None)\n",
       "        (c2s): GraphConv(in=8, out=8, normalization=both, activation=None)\n",
       "      )\n",
       "    )\n",
       "  )\n",
       "  (output): Sequential(\n",
       "    (0): Linear(in_features=8, out_features=8, bias=True)\n",
       "    (1): ReLU()\n",
       "    (2): Linear(in_features=8, out_features=8, bias=True)\n",
       "    (3): ReLU()\n",
       "    (4): Linear(in_features=8, out_features=1, bias=True)\n",
       "  )\n",
       ")"
      ]
     },
     "execution_count": 8,
     "metadata": {},
     "output_type": "execute_result"
    }
   ],
   "source": [
    "net = load_from_wandb(FeasSatGNN(), 'g1xgtzc0', 'sat-gnn')\n",
    "net"
   ]
  },
  {
   "cell_type": "code",
   "execution_count": 20,
   "metadata": {},
   "outputs": [
    {
     "name": "stderr",
     "output_type": "stream",
     "text": [
      "  0%|          | 0/6000 [00:00<?, ?it/s]"
     ]
    },
    {
     "name": "stderr",
     "output_type": "stream",
     "text": [
      "100%|██████████| 6000/6000 [00:52<00:00, 113.32it/s]\n"
     ]
    }
   ],
   "source": [
    "Y = list()\n",
    "P_hat = list()\n",
    "for i in tqdm(list(range(len(test_data)))):\n",
    "    g, y = test_data[i]\n",
    "\n",
    "    with torch.no_grad():\n",
    "        p_hat = torch.sigmoid(net(g)).item()\n",
    "    \n",
    "    Y.append(y)\n",
    "    P_hat.append(p_hat)"
   ]
  },
  {
   "cell_type": "code",
   "execution_count": 23,
   "metadata": {},
   "outputs": [],
   "source": [
    "P_hat = np.array(P_hat).reshape(6,1000)\n",
    "Y = np.array(Y).reshape(6,1000)"
   ]
  },
  {
   "cell_type": "code",
   "execution_count": 30,
   "metadata": {},
   "outputs": [
    {
     "data": {
      "text/plain": [
       "array([[1, 1, 1, ..., 0, 0, 0],\n",
       "       [1, 1, 1, ..., 0, 0, 0],\n",
       "       [1, 1, 1, ..., 0, 0, 0],\n",
       "       [1, 1, 1, ..., 0, 0, 0],\n",
       "       [1, 1, 1, ..., 0, 0, 0],\n",
       "       [1, 1, 1, ..., 0, 0, 0]])"
      ]
     },
     "execution_count": 30,
     "metadata": {},
     "output_type": "execute_result"
    }
   ],
   "source": [
    "Y_hat = (P_hat > 0.5).astype(Y.dtype)\n",
    "Y_hat"
   ]
  },
  {
   "cell_type": "code",
   "execution_count": 38,
   "metadata": {},
   "outputs": [
    {
     "name": "stdout",
     "output_type": "stream",
     "text": [
      "20\n",
      "1.0\n",
      "1.0\n",
      "1.0\n",
      "1.0\n",
      "22\n",
      "0.875\n",
      "1.0\n",
      "0.5\n",
      "1.0\n",
      "24\n",
      "1.0\n",
      "1.0\n",
      "1.0\n",
      "1.0\n"
     ]
    }
   ],
   "source": [
    "H = (Y_hat == Y).astype(int)\n",
    "\n",
    "H = {\n",
    "    20: H[:2],\n",
    "    22: H[2:4],\n",
    "    24: H[4:],\n",
    "}\n",
    "\n",
    "H_opt = {s: H[s][:,:500] for s in H.keys()}\n",
    "H_dirty = {s: H[s][:,500:-250] for s in H.keys()}\n",
    "H_random = {s: H[s][:,-250:] for s in H.keys()}\n",
    "\n",
    "for size in H.keys():\n",
    "    print(size)\n",
    "    print(H[size].sum() / H[size].size)\n",
    "    print(H_opt[size].sum() / H_opt[size].size)\n",
    "    print(H_dirty[size].sum() / H_dirty[size].size)\n",
    "    print(H_random[size].sum() / H_random[size].size)"
   ]
  }
 ],
 "metadata": {
  "kernelspec": {
   "display_name": "sat-gnn",
   "language": "python",
   "name": "python3"
  },
  "language_info": {
   "codemirror_mode": {
    "name": "ipython",
    "version": 3
   },
   "file_extension": ".py",
   "mimetype": "text/x-python",
   "name": "python",
   "nbconvert_exporter": "python",
   "pygments_lexer": "ipython3",
   "version": "3.10.9"
  },
  "orig_nbformat": 4
 },
 "nbformat": 4,
 "nbformat_minor": 2
}
