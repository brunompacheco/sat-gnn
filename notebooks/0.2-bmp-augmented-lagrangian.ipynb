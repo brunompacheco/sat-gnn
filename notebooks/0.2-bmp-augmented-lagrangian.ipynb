{
 "cells": [
  {
   "cell_type": "code",
   "execution_count": 1,
   "metadata": {},
   "outputs": [],
   "source": [
    "%load_ext autoreload\n",
    "%autoreload 2\n",
    "\n",
    "import sys\n",
    "sys.path.append('..')  # enable import from src/"
   ]
  },
  {
   "cell_type": "code",
   "execution_count": 11,
   "metadata": {},
   "outputs": [],
   "source": [
    "import numpy as np\n",
    "import torch\n",
    "\n",
    "from src.data import oracle, load_instance"
   ]
  },
  {
   "cell_type": "code",
   "execution_count": 15,
   "metadata": {},
   "outputs": [],
   "source": [
    "instance = load_instance('../data/raw/97_9.jl')\n",
    "\n",
    "model = oracle(list(range(instance['jobs'][0])), instance)\n",
    "\n",
    "A = model.getA().toarray()\n",
    "b = np.array(model.getAttr('rhs'))\n",
    "c = np.array(model.getAttr('obj'))"
   ]
  },
  {
   "cell_type": "code",
   "execution_count": 89,
   "metadata": {},
   "outputs": [
    {
     "data": {
      "text/plain": [
       "torch.Size([5, 291])"
      ]
     },
     "execution_count": 89,
     "metadata": {},
     "output_type": "execute_result"
    }
   ],
   "source": [
    "J = instance['jobs'][0]\n",
    "T = instance['tamanho'][0]\n",
    "\n",
    "# candidate solution (5 is batch size)\n",
    "X = torch.ones((5, J*T))\n",
    "X = X.view(-1, J, T)\n",
    "\n",
    "n_batch = X.shape[0]\n",
    "\n",
    "# parameters\n",
    "soc_inicial = 0.7\n",
    "limite_inferior = 0.0\n",
    "ef = 0.9\n",
    "v_bat = 3.6\n",
    "q = 5\n",
    "bat_usage = 5\n",
    "\n",
    "recurso_p = torch.Tensor(instance['recurso_p'])[:T]\n",
    "priority = instance['priority'] # prioridade de cada tarefa\n",
    "uso_p = torch.Tensor(instance['uso_p']) # recurso utilizado por cada tarefa\n",
    "min_statup = instance['min_statup'] # tempo mínimo de vezes que uma tarefa pode iniciar\n",
    "max_statup = instance['max_statup'] # tempo máximo de vezes que uma tarefa pode iniciar\n",
    "min_cpu_time = instance['min_cpu_time'] # tempo mínimo de unidades de tempo que uma tarefa pode consumir em sequência\n",
    "max_cpu_time = instance['max_cpu_time'] # tempo máximo de unidades de tempo que uma tarefa pode consumir em sequência\n",
    "min_periodo_job = instance['min_periodo_job'] # tempo mínimo que uma tarefa deve esperar para se repetir\n",
    "max_periodo_job = instance['max_periodo_job'] # tempo máximo que uma tarefa pode esperar para se repetir\n",
    "win_min = instance['win_min']\n",
    "win_max = instance['win_max']\n",
    "\n",
    "consumo = torch.bmm(uso_p.unsqueeze(0).repeat(n_batch,1,1), X).squeeze(1)\n",
    "recurso_total = recurso_p + bat_usage * v_bat\n",
    "\n",
    "bat = recurso_p - consumo\n",
    "i = bat / v_bat\n",
    "\n",
    "soc = torch.zeros_like(consumo)\n",
    "soc[:,0] = 0.7\n",
    "for t in range(1,T):\n",
    "    soc[:,t] = soc[:,t-1] + (ef / q) * (i[:,t] / 60)\n",
    "\n",
    "g = torch.hstack((consumo - recurso_total, soc - 1, limite_inferior - soc))\n",
    "g.shape  # (batch_size, constraints)"
   ]
  }
 ],
 "metadata": {
  "kernelspec": {
   "display_name": "gnns",
   "language": "python",
   "name": "python3"
  },
  "language_info": {
   "codemirror_mode": {
    "name": "ipython",
    "version": 3
   },
   "file_extension": ".py",
   "mimetype": "text/x-python",
   "name": "python",
   "nbconvert_exporter": "python",
   "pygments_lexer": "ipython3",
   "version": "3.10.9"
  },
  "orig_nbformat": 4,
  "vscode": {
   "interpreter": {
    "hash": "2b5834c5769e5fff224335f9b3e429823ee0ced96648f4497a08815e8d6b510a"
   }
  }
 },
 "nbformat": 4,
 "nbformat_minor": 2
}
