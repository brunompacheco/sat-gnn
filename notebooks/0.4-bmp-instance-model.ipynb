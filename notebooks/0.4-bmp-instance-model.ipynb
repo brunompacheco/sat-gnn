{
 "cells": [
  {
   "cell_type": "code",
   "execution_count": 2,
   "metadata": {},
   "outputs": [],
   "source": [
    "%load_ext autoreload\n",
    "%autoreload 2\n",
    "\n",
    "import sys\n",
    "sys.path.append('..')  # enable import from src/"
   ]
  },
  {
   "cell_type": "code",
   "execution_count": 13,
   "metadata": {},
   "outputs": [],
   "source": [
    "import dgl\n",
    "import torch\n",
    "import gurobipy\n",
    "import numpy as np"
   ]
  },
  {
   "cell_type": "code",
   "execution_count": 4,
   "metadata": {},
   "outputs": [
    {
     "name": "stdout",
     "output_type": "stream",
     "text": [
      "Restricted license - for non-production use only - expires 2024-10-28\n"
     ]
    }
   ],
   "source": [
    "from src.data import get_model, load_instance\n",
    "\n",
    "instance = load_instance('../data/raw/97_9.jl')\n",
    "J = instance['jobs'][0]\n",
    "\n",
    "model = get_model(list(range(J)), instance)"
   ]
  },
  {
   "cell_type": "code",
   "execution_count": 14,
   "metadata": {},
   "outputs": [
    {
     "data": {
      "text/plain": [
       "1746"
      ]
     },
     "execution_count": 14,
     "metadata": {},
     "output_type": "execute_result"
    }
   ],
   "source": [
    "model.NumVars"
   ]
  },
  {
   "cell_type": "code",
   "execution_count": 15,
   "metadata": {},
   "outputs": [
    {
     "data": {
      "text/plain": [
       "1746"
      ]
     },
     "execution_count": 15,
     "metadata": {},
     "output_type": "execute_result"
    }
   ],
   "source": [
    "model.NumIntVars"
   ]
  },
  {
   "cell_type": "code",
   "execution_count": 19,
   "metadata": {},
   "outputs": [],
   "source": [
    "from src.data import get_model, load_instance\n",
    "\n",
    "instance = load_instance('../data/raw/97_9.jl')\n",
    "J = instance['jobs'][0]\n",
    "\n",
    "model = get_model(list(range(J)), instance, coupling=True)"
   ]
  },
  {
   "cell_type": "code",
   "execution_count": 20,
   "metadata": {},
   "outputs": [
    {
     "data": {
      "text/plain": [
       "(1842, 1746)"
      ]
     },
     "execution_count": 20,
     "metadata": {},
     "output_type": "execute_result"
    }
   ],
   "source": [
    "model.NumVars, model.NumIntVars"
   ]
  },
  {
   "cell_type": "code",
   "execution_count": 177,
   "metadata": {},
   "outputs": [],
   "source": [
    "rs = torch.from_numpy(np.array(recurso_p[:T])).unsqueeze(0).repeat(1000, 1)\n",
    "rs = torch.normal(rs, std=1)\n",
    "\n",
    "for r in rs.numpy():\n",
    "    m = get_model(list(range(J)), instance, coupling=True, recurso=r)\n",
    "\n",
    "    A = m.getA().toarray()\n",
    "    b = np.array(m.getAttr('rhs'))\n",
    "    c = np.array(m.getAttr('obj'))\n",
    "\n",
    "    # get only real (non-null) edges\n",
    "    A_ = A.flatten()\n",
    "    edges = np.indices(A.shape)  # cons -> vars\n",
    "    edges = edges.reshape(edges.shape[0],-1)\n",
    "    edges = edges[:,A_ != 0]\n",
    "    # edges = torch.from_numpy(edges)\n",
    "\n",
    "    edge_weights = A_[A_ != 0]\n",
    "\n",
    "    soc_vars_mask = np.array(['soc' in v.getAttr(gurobipy.GRB.Attr.VarName) for v in m.getVars()])\n",
    "    soc_vars = np.arange(soc_vars_mask.shape[0])[soc_vars_mask]\n",
    "    var_vars = np.arange(soc_vars_mask.shape[0])[~soc_vars_mask]\n",
    "    soc_edges_mask = np.isin(edges.T[:,1], soc_vars)\n",
    "\n",
    "    var_edges = edges[:,~soc_edges_mask]\n",
    "    soc_edges = edges[:,soc_edges_mask]\n",
    "    \n",
    "    # translate soc nodes index to 0-based\n",
    "    soc_edges[1] = np.array(list(map(\n",
    "        dict(zip(soc_vars, np.arange(soc_vars.shape[0]))).get,\n",
    "        soc_edges[1]\n",
    "    )))\n",
    "    var_edges[1] = np.array(list(map(\n",
    "        dict(zip(var_vars, np.arange(var_vars.shape[0]))).get,\n",
    "        var_edges[1]\n",
    "    )))\n",
    "\n",
    "    g = dgl.heterograph({\n",
    "        ('var', 'v2c', 'con'): (var_edges[1], var_edges[0]),\n",
    "        ('con', 'c2v', 'var'): (var_edges[0], var_edges[1]),\n",
    "        ('soc', 's2c', 'con'): (soc_edges[1], soc_edges[0]),\n",
    "        ('con', 'c2s', 'soc'): (soc_edges[0], soc_edges[1]),\n",
    "    })\n",
    "\n",
    "    soc_edge_weights = edge_weights[soc_edges_mask]\n",
    "    g.edges['s2c'].data['A'] = torch.from_numpy(soc_edge_weights)\n",
    "    g.edges['c2s'].data['A'] = torch.from_numpy(soc_edge_weights)\n",
    "\n",
    "    var_edge_weights = edge_weights[~soc_edges_mask]\n",
    "    g.edges['v2c'].data['A'] = torch.from_numpy(var_edge_weights)\n",
    "    g.edges['c2v'].data['A'] = torch.from_numpy(var_edge_weights)\n",
    "\n",
    "    g.nodes['con'].data['b'] = torch.from_numpy(b)\n",
    "\n",
    "    g.nodes['var'].data['c'] = torch.from_numpy(c[~soc_vars_mask])\n",
    "    g.nodes['soc'].data['c'] = torch.from_numpy(c[soc_vars_mask])"
   ]
  },
  {
   "cell_type": "code",
   "execution_count": 171,
   "metadata": {},
   "outputs": [
    {
     "data": {
      "text/plain": [
       "(5260,)"
      ]
     },
     "execution_count": 171,
     "metadata": {},
     "output_type": "execute_result"
    }
   ],
   "source": [
    "b.shape"
   ]
  },
  {
   "cell_type": "code",
   "execution_count": 170,
   "metadata": {},
   "outputs": [
    {
     "data": {
      "text/plain": [
       "(1842,)"
      ]
     },
     "execution_count": 170,
     "metadata": {},
     "output_type": "execute_result"
    }
   ],
   "source": [
    "c.shape"
   ]
  },
  {
   "cell_type": "code",
   "execution_count": 176,
   "metadata": {},
   "outputs": [
    {
     "data": {
      "text/plain": [
       "array([5., 5., 5., ..., 0., 0., 0.])"
      ]
     },
     "execution_count": 176,
     "metadata": {},
     "output_type": "execute_result"
    }
   ],
   "source": [
    "c[~soc_vars_mask]"
   ]
  },
  {
   "cell_type": "code",
   "execution_count": 178,
   "metadata": {},
   "outputs": [
    {
     "data": {
      "text/plain": [
       "Graph(num_nodes={'con': 5260, 'soc': 96, 'var': 1746},\n",
       "      num_edges={('con', 'c2s', 'soc'): 191, ('con', 'c2v', 'var'): 61755, ('soc', 's2c', 'con'): 191, ('var', 'v2c', 'con'): 61755},\n",
       "      metagraph=[('con', 'soc', 'c2s'), ('con', 'var', 'c2v'), ('soc', 'con', 's2c'), ('var', 'con', 'v2c')])"
      ]
     },
     "execution_count": 178,
     "metadata": {},
     "output_type": "execute_result"
    }
   ],
   "source": [
    "g"
   ]
  },
  {
   "cell_type": "code",
   "execution_count": 160,
   "metadata": {},
   "outputs": [
    {
     "data": {
      "text/plain": [
       "(1746, 96)"
      ]
     },
     "execution_count": 160,
     "metadata": {},
     "output_type": "execute_result"
    }
   ],
   "source": [
    "m.NumBinVars, m.NumVars - m.NumBinVars"
   ]
  },
  {
   "cell_type": "code",
   "execution_count": 18,
   "metadata": {},
   "outputs": [
    {
     "data": {
      "text/plain": [
       "Graph(num_nodes={'con': 10520, 'soc': 192, 'var': 3492},\n",
       "      num_edges={('con', 'c2s', 'soc'): 382, ('con', 'c2v', 'var'): 123510, ('soc', 's2c', 'con'): 382, ('var', 'v2c', 'con'): 123510},\n",
       "      metagraph=[('con', 'soc', 'c2s'), ('con', 'var', 'c2v'), ('soc', 'con', 's2c'), ('var', 'con', 'v2c')])"
      ]
     },
     "execution_count": 18,
     "metadata": {},
     "output_type": "execute_result"
    }
   ],
   "source": [
    "from src.dataset import ResourceDataset\n",
    "from src.net import InstanceGCN\n",
    "\n",
    "ds = ResourceDataset(instance, n_samples=3)\n",
    "\n",
    "gs, rs = ds[0:2]\n",
    "g = dgl.batch(gs)\n",
    "g"
   ]
  },
  {
   "cell_type": "code",
   "execution_count": 27,
   "metadata": {},
   "outputs": [
    {
     "data": {
      "text/plain": [
       "tensor([[-0.1469],\n",
       "        [-0.1469]], dtype=torch.float64, grad_fn=<DivBackward0>)"
      ]
     },
     "execution_count": 27,
     "metadata": {},
     "output_type": "execute_result"
    }
   ],
   "source": [
    "net = InstanceGCN(1, 1)\n",
    "net(g)"
   ]
  }
 ],
 "metadata": {
  "kernelspec": {
   "display_name": "gnns",
   "language": "python",
   "name": "python3"
  },
  "language_info": {
   "codemirror_mode": {
    "name": "ipython",
    "version": 3
   },
   "file_extension": ".py",
   "mimetype": "text/x-python",
   "name": "python",
   "nbconvert_exporter": "python",
   "pygments_lexer": "ipython3",
   "version": "3.10.9"
  },
  "orig_nbformat": 4,
  "vscode": {
   "interpreter": {
    "hash": "2b5834c5769e5fff224335f9b3e429823ee0ced96648f4497a08815e8d6b510a"
   }
  }
 },
 "nbformat": 4,
 "nbformat_minor": 2
}
