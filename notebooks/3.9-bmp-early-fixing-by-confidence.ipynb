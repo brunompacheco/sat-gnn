{
 "cells": [
  {
   "cell_type": "code",
   "execution_count": 5,
   "metadata": {},
   "outputs": [
    {
     "name": "stdout",
     "output_type": "stream",
     "text": [
      "The autoreload extension is already loaded. To reload it, use:\n",
      "  %reload_ext autoreload\n"
     ]
    }
   ],
   "source": [
    "%load_ext autoreload\n",
    "%autoreload 2\n",
    "\n",
    "import sys\n",
    "sys.path.append('..')  # enable import from src/"
   ]
  },
  {
   "cell_type": "code",
   "execution_count": 24,
   "metadata": {},
   "outputs": [],
   "source": [
    "from pathlib import Path\n",
    "\n",
    "import matplotlib.pyplot as plt\n",
    "\n",
    "import numpy as np\n",
    "import torch\n",
    "import pickle\n",
    "import pandas as pd\n",
    "from src.problem import Instance"
   ]
  },
  {
   "cell_type": "code",
   "execution_count": 40,
   "metadata": {},
   "outputs": [
    {
     "data": {
      "text/html": [
       "<div>\n",
       "<style scoped>\n",
       "    .dataframe tbody tr th:only-of-type {\n",
       "        vertical-align: middle;\n",
       "    }\n",
       "\n",
       "    .dataframe tbody tr th {\n",
       "        vertical-align: top;\n",
       "    }\n",
       "\n",
       "    .dataframe thead th {\n",
       "        text-align: right;\n",
       "    }\n",
       "</style>\n",
       "<table border=\"1\" class=\"dataframe\">\n",
       "  <thead>\n",
       "    <tr style=\"text-align: right;\">\n",
       "      <th></th>\n",
       "      <th>fp</th>\n",
       "      <th>size</th>\n",
       "      <th>x_hat</th>\n",
       "      <th>vars_names</th>\n",
       "      <th>conf</th>\n",
       "    </tr>\n",
       "  </thead>\n",
       "  <tbody>\n",
       "    <tr>\n",
       "      <th>0</th>\n",
       "      <td>data/raw/125_24_11.json</td>\n",
       "      <td>24</td>\n",
       "      <td>[0.42465189642636414, 0.5862517686778455, 0.63...</td>\n",
       "      <td>[x(0,0), x(0,1), x(0,2), x(0,3), x(0,4), x(0,5...</td>\n",
       "      <td>[0.5753481035736359, 0.5862517686778455, 0.635...</td>\n",
       "    </tr>\n",
       "    <tr>\n",
       "      <th>1</th>\n",
       "      <td>data/raw/125_24_1.json</td>\n",
       "      <td>24</td>\n",
       "      <td>[0.012311888556895552, 0.0016373210236957823, ...</td>\n",
       "      <td>[x(0,0), x(0,1), x(0,2), x(0,3), x(0,4), x(0,5...</td>\n",
       "      <td>[0.9876881114431044, 0.9983626789763043, 0.999...</td>\n",
       "    </tr>\n",
       "    <tr>\n",
       "      <th>2</th>\n",
       "      <td>data/raw/125_24_8.json</td>\n",
       "      <td>24</td>\n",
       "      <td>[0.0072029595888110885, 0.002002296465819941, ...</td>\n",
       "      <td>[x(0,0), x(0,1), x(0,2), x(0,3), x(0,4), x(0,5...</td>\n",
       "      <td>[0.9927970404111889, 0.99799770353418, 0.99837...</td>\n",
       "    </tr>\n",
       "    <tr>\n",
       "      <th>3</th>\n",
       "      <td>data/raw/125_22_18.json</td>\n",
       "      <td>22</td>\n",
       "      <td>[0.22522565279015727, 0.2687286155876834, 0.49...</td>\n",
       "      <td>[x(0,0), x(0,1), x(0,2), x(0,3), x(0,4), x(0,5...</td>\n",
       "      <td>[0.7747743472098427, 0.7312713844123166, 0.504...</td>\n",
       "    </tr>\n",
       "    <tr>\n",
       "      <th>4</th>\n",
       "      <td>data/raw/125_24_3.json</td>\n",
       "      <td>24</td>\n",
       "      <td>[0.3450859956863011, 0.42358615700693814, 0.33...</td>\n",
       "      <td>[x(0,0), x(0,1), x(0,2), x(0,3), x(0,4), x(0,5...</td>\n",
       "      <td>[0.654914004313699, 0.5764138429930619, 0.6658...</td>\n",
       "    </tr>\n",
       "  </tbody>\n",
       "</table>\n",
       "</div>"
      ],
      "text/plain": [
       "                        fp  size  \\\n",
       "0  data/raw/125_24_11.json    24   \n",
       "1   data/raw/125_24_1.json    24   \n",
       "2   data/raw/125_24_8.json    24   \n",
       "3  data/raw/125_22_18.json    22   \n",
       "4   data/raw/125_24_3.json    24   \n",
       "\n",
       "                                               x_hat  \\\n",
       "0  [0.42465189642636414, 0.5862517686778455, 0.63...   \n",
       "1  [0.012311888556895552, 0.0016373210236957823, ...   \n",
       "2  [0.0072029595888110885, 0.002002296465819941, ...   \n",
       "3  [0.22522565279015727, 0.2687286155876834, 0.49...   \n",
       "4  [0.3450859956863011, 0.42358615700693814, 0.33...   \n",
       "\n",
       "                                          vars_names  \\\n",
       "0  [x(0,0), x(0,1), x(0,2), x(0,3), x(0,4), x(0,5...   \n",
       "1  [x(0,0), x(0,1), x(0,2), x(0,3), x(0,4), x(0,5...   \n",
       "2  [x(0,0), x(0,1), x(0,2), x(0,3), x(0,4), x(0,5...   \n",
       "3  [x(0,0), x(0,1), x(0,2), x(0,3), x(0,4), x(0,5...   \n",
       "4  [x(0,0), x(0,1), x(0,2), x(0,3), x(0,4), x(0,5...   \n",
       "\n",
       "                                                conf  \n",
       "0  [0.5753481035736359, 0.5862517686778455, 0.635...  \n",
       "1  [0.9876881114431044, 0.9983626789763043, 0.999...  \n",
       "2  [0.9927970404111889, 0.99799770353418, 0.99837...  \n",
       "3  [0.7747743472098427, 0.7312713844123166, 0.504...  \n",
       "4  [0.654914004313699, 0.5764138429930619, 0.6658...  "
      ]
     },
     "execution_count": 40,
     "metadata": {},
     "output_type": "execute_result"
    }
   ],
   "source": [
    "with open('../xae9giql_preds_val.pkl', 'rb') as f:\n",
    "    preds = pickle.load(f)\n",
    "\n",
    "df = pd.DataFrame(preds)\n",
    "# df['x_hat'] = df['x_hat'].map(lambda t: t.numpy())\n",
    "df['conf'] = df['x_hat'].map(lambda x: np.where(x > 1-x, x, 1-x))\n",
    "\n",
    "df.head()"
   ]
  },
  {
   "cell_type": "code",
   "execution_count": 51,
   "metadata": {},
   "outputs": [
    {
     "data": {
      "image/png": "[encoded data removed]",
      "text/plain": [
       "<Figure size 640x480 with 1 Axes>"
      ]
     },
     "metadata": {},
     "output_type": "display_data"
    }
   ],
   "source": [
    "all_confs = np.hstack(df['conf'].values)\n",
    "\n",
    "plt.hist(all_confs, bins=50)\n",
    "plt.yscale('log')\n",
    "plt.show()"
   ]
  }
 ],
 "metadata": {
  "kernelspec": {
   "display_name": "gnns",
   "language": "python",
   "name": "python3"
  },
  "language_info": {
   "codemirror_mode": {
    "name": "ipython",
    "version": 3
   },
   "file_extension": ".py",
   "mimetype": "text/x-python",
   "name": "python",
   "nbconvert_exporter": "python",
   "pygments_lexer": "ipython3",
   "version": "3.10.9"
  },
  "orig_nbformat": 4
 },
 "nbformat": 4,
 "nbformat_minor": 2
}
