{
 "cells": [
  {
   "cell_type": "code",
   "execution_count": 1,
   "metadata": {},
   "outputs": [],
   "source": [
    "%load_ext autoreload\n",
    "%autoreload 2\n",
    "\n",
    "import sys\n",
    "sys.path.append('..')  # enable import from src/"
   ]
  },
  {
   "cell_type": "code",
   "execution_count": 2,
   "metadata": {},
   "outputs": [],
   "source": [
    "from pathlib import Path\n",
    "\n",
    "import matplotlib.pyplot as plt\n",
    "\n",
    "import numpy as np\n",
    "import torch\n",
    "import pickle\n",
    "import pandas as pd\n",
    "from src.problem import Instance"
   ]
  },
  {
   "cell_type": "code",
   "execution_count": 3,
   "metadata": {},
   "outputs": [
    {
     "data": {
      "text/html": [
       "<div>\n",
       "<style scoped>\n",
       "    .dataframe tbody tr th:only-of-type {\n",
       "        vertical-align: middle;\n",
       "    }\n",
       "\n",
       "    .dataframe tbody tr th {\n",
       "        vertical-align: top;\n",
       "    }\n",
       "\n",
       "    .dataframe thead th {\n",
       "        text-align: right;\n",
       "    }\n",
       "</style>\n",
       "<table border=\"1\" class=\"dataframe\">\n",
       "  <thead>\n",
       "    <tr style=\"text-align: right;\">\n",
       "      <th></th>\n",
       "      <th>fp</th>\n",
       "      <th>size</th>\n",
       "      <th>x_hat</th>\n",
       "      <th>vars_names</th>\n",
       "      <th>conf</th>\n",
       "    </tr>\n",
       "  </thead>\n",
       "  <tbody>\n",
       "    <tr>\n",
       "      <th>0</th>\n",
       "      <td>data/raw/125_20_14.json</td>\n",
       "      <td>20</td>\n",
       "      <td>[0.12782937424532267, 0.1530633232990991, 0.15...</td>\n",
       "      <td>[x(0,0), x(0,1), x(0,2), x(0,3), x(0,4), x(0,5...</td>\n",
       "      <td>[0.8721706257546773, 0.8469366767009009, 0.840...</td>\n",
       "    </tr>\n",
       "    <tr>\n",
       "      <th>1</th>\n",
       "      <td>data/raw/125_24_0.json</td>\n",
       "      <td>24</td>\n",
       "      <td>[0.5325511384219891, 0.5410226559136068, 0.543...</td>\n",
       "      <td>[x(0,0), x(0,1), x(0,2), x(0,3), x(0,4), x(0,5...</td>\n",
       "      <td>[0.5325511384219891, 0.5410226559136068, 0.543...</td>\n",
       "    </tr>\n",
       "    <tr>\n",
       "      <th>2</th>\n",
       "      <td>data/raw/125_22_19.json</td>\n",
       "      <td>22</td>\n",
       "      <td>[0.28098524360349153, 0.277798527385169, 0.272...</td>\n",
       "      <td>[x(0,0), x(0,1), x(0,2), x(0,3), x(0,4), x(0,5...</td>\n",
       "      <td>[0.7190147563965085, 0.7222014726148309, 0.727...</td>\n",
       "    </tr>\n",
       "    <tr>\n",
       "      <th>3</th>\n",
       "      <td>data/raw/125_20_19.json</td>\n",
       "      <td>20</td>\n",
       "      <td>[0.19040267160698462, 0.19943242390299537, 0.6...</td>\n",
       "      <td>[x(0,0), x(0,1), x(0,2), x(0,3), x(0,4), x(0,5...</td>\n",
       "      <td>[0.8095973283930153, 0.8005675760970046, 0.692...</td>\n",
       "    </tr>\n",
       "    <tr>\n",
       "      <th>4</th>\n",
       "      <td>data/raw/125_22_11.json</td>\n",
       "      <td>22</td>\n",
       "      <td>[0.19969897911360895, 0.21524976411100422, 0.2...</td>\n",
       "      <td>[x(0,0), x(0,1), x(0,2), x(0,3), x(0,4), x(0,5...</td>\n",
       "      <td>[0.800301020886391, 0.7847502358889957, 0.7714...</td>\n",
       "    </tr>\n",
       "  </tbody>\n",
       "</table>\n",
       "</div>"
      ],
      "text/plain": [
       "                        fp  size  \\\n",
       "0  data/raw/125_20_14.json    20   \n",
       "1   data/raw/125_24_0.json    24   \n",
       "2  data/raw/125_22_19.json    22   \n",
       "3  data/raw/125_20_19.json    20   \n",
       "4  data/raw/125_22_11.json    22   \n",
       "\n",
       "                                               x_hat  \\\n",
       "0  [0.12782937424532267, 0.1530633232990991, 0.15...   \n",
       "1  [0.5325511384219891, 0.5410226559136068, 0.543...   \n",
       "2  [0.28098524360349153, 0.277798527385169, 0.272...   \n",
       "3  [0.19040267160698462, 0.19943242390299537, 0.6...   \n",
       "4  [0.19969897911360895, 0.21524976411100422, 0.2...   \n",
       "\n",
       "                                          vars_names  \\\n",
       "0  [x(0,0), x(0,1), x(0,2), x(0,3), x(0,4), x(0,5...   \n",
       "1  [x(0,0), x(0,1), x(0,2), x(0,3), x(0,4), x(0,5...   \n",
       "2  [x(0,0), x(0,1), x(0,2), x(0,3), x(0,4), x(0,5...   \n",
       "3  [x(0,0), x(0,1), x(0,2), x(0,3), x(0,4), x(0,5...   \n",
       "4  [x(0,0), x(0,1), x(0,2), x(0,3), x(0,4), x(0,5...   \n",
       "\n",
       "                                                conf  \n",
       "0  [0.8721706257546773, 0.8469366767009009, 0.840...  \n",
       "1  [0.5325511384219891, 0.5410226559136068, 0.543...  \n",
       "2  [0.7190147563965085, 0.7222014726148309, 0.727...  \n",
       "3  [0.8095973283930153, 0.8005675760970046, 0.692...  \n",
       "4  [0.800301020886391, 0.7847502358889957, 0.7714...  "
      ]
     },
     "execution_count": 3,
     "metadata": {},
     "output_type": "execute_result"
    }
   ],
   "source": [
    "with open('../gbmooeqh_preds_val.pkl', 'rb') as f:\n",
    "    preds = pickle.load(f)\n",
    "\n",
    "df = pd.DataFrame(preds)\n",
    "# df['x_hat'] = df['x_hat'].map(lambda t: t.numpy())\n",
    "df['conf'] = df['x_hat'].map(lambda x: np.where(x > 1-x, x, 1-x))\n",
    "\n",
    "df.head()"
   ]
  },
  {
   "cell_type": "code",
   "execution_count": 4,
   "metadata": {},
   "outputs": [
    {
     "data": {
      "image/png": "[encoded data removed]",
      "text/plain": [
       "<Figure size 640x480 with 1 Axes>"
      ]
     },
     "metadata": {},
     "output_type": "display_data"
    }
   ],
   "source": [
    "all_confs = np.hstack(df['conf'].values)\n",
    "\n",
    "plt.hist(all_confs, bins=50)\n",
    "plt.yscale('log')\n",
    "plt.show()"
   ]
  },
  {
   "cell_type": "code",
   "execution_count": 11,
   "metadata": {},
   "outputs": [
    {
     "data": {
      "text/plain": [
       "<AxesSubplot: >"
      ]
     },
     "execution_count": 11,
     "metadata": {},
     "output_type": "execute_result"
    },
    {
     "data": {
      "image/png": "[encoded data removed]",
      "text/plain": [
       "<Figure size 640x480 with 1 Axes>"
      ]
     },
     "metadata": {},
     "output_type": "display_data"
    }
   ],
   "source": [
    "df['conf'].apply(lambda c: np.sum(1-c)).hist(bins=20)"
   ]
  }
 ],
 "metadata": {
  "kernelspec": {
   "display_name": "gnns",
   "language": "python",
   "name": "python3"
  },
  "language_info": {
   "codemirror_mode": {
    "name": "ipython",
    "version": 3
   },
   "file_extension": ".py",
   "mimetype": "text/x-python",
   "name": "python",
   "nbconvert_exporter": "python",
   "pygments_lexer": "ipython3",
   "version": "3.10.8"
  },
  "orig_nbformat": 4
 },
 "nbformat": 4,
 "nbformat_minor": 2
}
