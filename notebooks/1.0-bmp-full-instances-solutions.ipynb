{
 "cells": [
  {
   "cell_type": "code",
   "execution_count": 1,
   "metadata": {},
   "outputs": [],
   "source": [
    "%load_ext autoreload\n",
    "%autoreload 2\n",
    "\n",
    "import sys\n",
    "sys.path.append('..')  # enable import from src/"
   ]
  },
  {
   "cell_type": "code",
   "execution_count": 3,
   "metadata": {},
   "outputs": [],
   "source": [
    "import pickle\n",
    "from pathlib import Path\n",
    "\n",
    "import gurobipy\n",
    "from gurobipy import GRB\n",
    "import dgl\n",
    "import numpy as np\n",
    "import torch\n",
    "\n",
    "from src.problem import get_model, get_soc, load_instance"
   ]
  },
  {
   "cell_type": "code",
   "execution_count": 5,
   "metadata": {},
   "outputs": [
    {
     "data": {
      "text/plain": [
       "[PosixPath('../data/raw/97_9.jl'),\n",
       " PosixPath('../data/raw/97_9_1.jl'),\n",
       " PosixPath('../data/raw/97_9_10.jl'),\n",
       " PosixPath('../data/raw/97_9_2.jl'),\n",
       " PosixPath('../data/raw/97_9_3.jl'),\n",
       " PosixPath('../data/raw/97_9_4.jl'),\n",
       " PosixPath('../data/raw/97_9_5.jl'),\n",
       " PosixPath('../data/raw/97_9_6.jl'),\n",
       " PosixPath('../data/raw/97_9_7.jl'),\n",
       " PosixPath('../data/raw/97_9_8.jl'),\n",
       " PosixPath('../data/raw/97_9_9.jl')]"
      ]
     },
     "execution_count": 5,
     "metadata": {},
     "output_type": "execute_result"
    }
   ],
   "source": [
    "instances = sorted(list(Path('../data/raw').glob('97_9*.jl')))\n",
    "instances"
   ]
  },
  {
   "cell_type": "code",
   "execution_count": 14,
   "metadata": {},
   "outputs": [
    {
     "data": {
      "text/plain": [
       "(2493.0, 0.036903329322101885, 60.02215886116028)"
      ]
     },
     "execution_count": 14,
     "metadata": {},
     "output_type": "execute_result"
    }
   ],
   "source": [
    "instance = load_instance(instances[1])\n",
    "\n",
    "model = get_model(list(range(9)), instance, coupling=True)\n",
    "\n",
    "model.setParam('TimeLimit', 60)\n",
    "model.update()\n",
    "\n",
    "model.optimize()\n",
    "\n",
    "model.ObjVal, model.MIPGap, model.Runtime"
   ]
  },
  {
   "cell_type": "code",
   "execution_count": 20,
   "metadata": {},
   "outputs": [
    {
     "name": "stdout",
     "output_type": "stream",
     "text": [
      "2.85 s ± 44.5 ms per loop (mean ± std. dev. of 7 runs, 1 loop each)\n"
     ]
    }
   ],
   "source": [
    "%%timeit\n",
    "\n",
    "instance = load_instance(instances[1])\n",
    "\n",
    "model = get_model(list(range(9)), instance, coupling=True, new_ineq=True)\n",
    "\n",
    "model.setParam('TimeLimit', 60)\n",
    "model.update()\n",
    "\n",
    "model.optimize()\n",
    "\n",
    "model.ObjVal, model.MIPGap, model.Runtime"
   ]
  },
  {
   "cell_type": "code",
   "execution_count": null,
   "metadata": {},
   "outputs": [
    {
     "data": {
      "text/plain": [
       "(1746,)"
      ]
     },
     "execution_count": 33,
     "metadata": {},
     "output_type": "execute_result"
    }
   ],
   "source": [
    "X = np.array([v.X for v in model.getVars()])\n",
    "soc_vars_mask = np.array(['soc' in v.getAttr(GRB.Attr.VarName) for v in model.getVars()])\n",
    "soc = X[soc_vars_mask]\n",
    "X = X[~soc_vars_mask]\n",
    "\n",
    "# check that get_soc is working\n",
    "soc_hat = get_soc(torch.from_numpy(X[None,:]), instance)\n",
    "torch.isclose(soc_hat[0][1:], torch.from_numpy(soc)).all()"
   ]
  },
  {
   "cell_type": "code",
   "execution_count": 6,
   "metadata": {},
   "outputs": [
    {
     "data": {
      "text/plain": [
       "(1746,)"
      ]
     },
     "execution_count": 6,
     "metadata": {},
     "output_type": "execute_result"
    }
   ],
   "source": [
    "instance = load_instance(instances[3])\n",
    "\n",
    "model = get_model(list(range(9)), instance, coupling=True)\n",
    "\n",
    "with open('../97_9_opts.pkl', 'rb') as f:\n",
    "    opts = pickle.load(f)\n",
    "\n",
    "opts[instances[3].name]['sol'].shape"
   ]
  },
  {
   "cell_type": "code",
   "execution_count": 7,
   "metadata": {},
   "outputs": [
    {
     "data": {
      "text/plain": [
       "torch.Size([2, 1746])"
      ]
     },
     "execution_count": 7,
     "metadata": {},
     "output_type": "execute_result"
    }
   ],
   "source": [
    "from src.dataset import InstanceEarlyFixingDataset\n",
    "from src.net import InstanceGCN\n",
    "\n",
    "net = InstanceGCN(2, readout_op=None)\n",
    "\n",
    "ds = InstanceEarlyFixingDataset(\n",
    "    [load_instance(i) for i in instances],\n",
    "    [opts[i.name]['sol'] for i in instances],\n",
    "    samples_per_problem=10,\n",
    ")\n",
    "\n",
    "g1, y1 = ds[0]\n",
    "g2, y2 = ds[13]\n",
    "\n",
    "g = dgl.batch((g1, g2))\n",
    "\n",
    "net(g).shape"
   ]
  }
 ],
 "metadata": {
  "kernelspec": {
   "display_name": "gnns",
   "language": "python",
   "name": "python3"
  },
  "language_info": {
   "codemirror_mode": {
    "name": "ipython",
    "version": 3
   },
   "file_extension": ".py",
   "mimetype": "text/x-python",
   "name": "python",
   "nbconvert_exporter": "python",
   "pygments_lexer": "ipython3",
   "version": "3.10.9"
  },
  "orig_nbformat": 4,
  "vscode": {
   "interpreter": {
    "hash": "2b5834c5769e5fff224335f9b3e429823ee0ced96648f4497a08815e8d6b510a"
   }
  }
 },
 "nbformat": 4,
 "nbformat_minor": 2
}
