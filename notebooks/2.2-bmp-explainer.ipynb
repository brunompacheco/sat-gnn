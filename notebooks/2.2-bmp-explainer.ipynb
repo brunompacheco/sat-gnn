{
 "cells": [
  {
   "cell_type": "code",
   "execution_count": 1,
   "metadata": {},
   "outputs": [],
   "source": [
    "%load_ext autoreload\n",
    "%autoreload 2\n",
    "\n",
    "import sys\n",
    "sys.path.append('..')  # enable import from src/"
   ]
  },
  {
   "cell_type": "code",
   "execution_count": 2,
   "metadata": {},
   "outputs": [],
   "source": [
    "from pathlib import Path\n",
    "import torch\n",
    "import pickle\n",
    "import matplotlib.pyplot as plt\n",
    "\n",
    "from torcheval.metrics import BinaryF1Score, BinaryAccuracy\n",
    "from torch.utils.data.sampler import SubsetRandomSampler\n",
    "from dgl.dataloading import GraphDataLoader\n",
    "\n",
    "from src.net import InstanceGCN\n",
    "from src.utils import load_from_wandb\n",
    "from src.dataset import JobFeasibilityDataset, SatelliteFeasibilityDataset"
   ]
  },
  {
   "attachments": {},
   "cell_type": "markdown",
   "metadata": {},
   "source": [
    "# Feasibility"
   ]
  },
  {
   "attachments": {},
   "cell_type": "markdown",
   "metadata": {},
   "source": [
    "# Job"
   ]
  },
  {
   "cell_type": "code",
   "execution_count": 3,
   "metadata": {},
   "outputs": [
    {
     "name": "stdout",
     "output_type": "stream",
     "text": [
      "Set parameter Username\n",
      "Academic license - for non-commercial use only - expires 2024-02-10\n"
     ]
    },
    {
     "name": "stderr",
     "output_type": "stream",
     "text": [
      "Explain graph: 100%|██████████| 100/100 [00:00<00:00, 127.14it/s]\n",
      "Explain graph: 100%|██████████| 100/100 [00:00<00:00, 109.51it/s]\n"
     ]
    }
   ],
   "source": [
    "import dgl\n",
    "import torch\n",
    "import torch.nn as nn\n",
    "import torch.nn.functional as F\n",
    "from dgl.nn import HeteroGraphConv, GraphConv, EGATConv, SAGEConv\n",
    "\n",
    "\n",
    "class ExplainableInstanceGCN(InstanceGCN):\n",
    "    \"\"\"Suitable for HeteroGNNExplainer.\n",
    "    \"\"\"\n",
    "    def forward(self, graph, feat, eweight=None):\n",
    "        with graph.local_scope():\n",
    "            graph.ndata['x'] = feat\n",
    "            if eweight is not None:\n",
    "                graph.edata['A'] = eweight\n",
    "\n",
    "            return super().forward(graph)\n",
    "\n",
    "\n",
    "net = ExplainableInstanceGCN(2,)\n",
    "net = load_from_wandb(net, 'gebp7q0y', 'sat-gnn', 'model_best')\n",
    "\n",
    "from dgl.nn.pytorch.explain import HeteroGNNExplainer\n",
    "\n",
    "data = JobFeasibilityDataset('../data/raw/97_9.jl')\n",
    "\n",
    "feat_importances = list()\n",
    "edge_importances = list()\n",
    "ys = list()\n",
    "for i in range(8000, 8002):\n",
    "    g, y = data[i]\n",
    "\n",
    "    explainer = HeteroGNNExplainer(net, 2, )\n",
    "    feat = g.ndata['x']\n",
    "    feat['soc'] = torch.zeros((0,0)).to(feat['soc'].unsqueeze(0))\n",
    "\n",
    "    feat_importance, edge_importance = explainer.explain_graph(g, feat)\n",
    "    feat_importances.append(feat_importance)\n",
    "    edge_importances.append(edge_importance)\n",
    "    ys.append(y)"
   ]
  },
  {
   "cell_type": "code",
   "execution_count": 70,
   "metadata": {},
   "outputs": [
    {
     "data": {
      "text/plain": [
       "[<gurobi.Var x(8,0)>,\n",
       " <gurobi.Var x(8,1)>,\n",
       " <gurobi.Var x(8,2)>,\n",
       " <gurobi.Var x(8,3)>,\n",
       " <gurobi.Var x(8,4)>,\n",
       " <gurobi.Var x(8,5)>,\n",
       " <gurobi.Var x(8,6)>,\n",
       " <gurobi.Var x(8,7)>,\n",
       " <gurobi.Var x(8,8)>,\n",
       " <gurobi.Var x(8,9)>,\n",
       " <gurobi.Var x(8,10)>,\n",
       " <gurobi.Var x(8,11)>,\n",
       " <gurobi.Var x(8,12)>,\n",
       " <gurobi.Var x(8,13)>,\n",
       " <gurobi.Var x(8,14)>,\n",
       " <gurobi.Var x(8,15)>,\n",
       " <gurobi.Var x(8,16)>,\n",
       " <gurobi.Var x(8,17)>,\n",
       " <gurobi.Var x(8,18)>,\n",
       " <gurobi.Var x(8,19)>,\n",
       " <gurobi.Var x(8,20)>,\n",
       " <gurobi.Var x(8,21)>,\n",
       " <gurobi.Var x(8,22)>,\n",
       " <gurobi.Var x(8,23)>,\n",
       " <gurobi.Var x(8,24)>,\n",
       " <gurobi.Var x(8,25)>,\n",
       " <gurobi.Var x(8,26)>,\n",
       " <gurobi.Var x(8,27)>,\n",
       " <gurobi.Var x(8,28)>,\n",
       " <gurobi.Var x(8,29)>,\n",
       " <gurobi.Var x(8,30)>,\n",
       " <gurobi.Var x(8,31)>,\n",
       " <gurobi.Var x(8,32)>,\n",
       " <gurobi.Var x(8,33)>,\n",
       " <gurobi.Var x(8,34)>,\n",
       " <gurobi.Var x(8,35)>,\n",
       " <gurobi.Var x(8,36)>,\n",
       " <gurobi.Var x(8,37)>,\n",
       " <gurobi.Var x(8,38)>,\n",
       " <gurobi.Var x(8,39)>,\n",
       " <gurobi.Var x(8,40)>,\n",
       " <gurobi.Var x(8,41)>,\n",
       " <gurobi.Var x(8,42)>,\n",
       " <gurobi.Var x(8,43)>,\n",
       " <gurobi.Var x(8,44)>,\n",
       " <gurobi.Var x(8,45)>,\n",
       " <gurobi.Var x(8,46)>,\n",
       " <gurobi.Var x(8,47)>,\n",
       " <gurobi.Var x(8,48)>,\n",
       " <gurobi.Var x(8,49)>,\n",
       " <gurobi.Var x(8,50)>,\n",
       " <gurobi.Var x(8,51)>,\n",
       " <gurobi.Var x(8,52)>,\n",
       " <gurobi.Var x(8,53)>,\n",
       " <gurobi.Var x(8,54)>,\n",
       " <gurobi.Var x(8,55)>,\n",
       " <gurobi.Var x(8,56)>,\n",
       " <gurobi.Var x(8,57)>,\n",
       " <gurobi.Var x(8,58)>,\n",
       " <gurobi.Var x(8,59)>,\n",
       " <gurobi.Var x(8,60)>,\n",
       " <gurobi.Var x(8,61)>,\n",
       " <gurobi.Var x(8,62)>,\n",
       " <gurobi.Var x(8,63)>,\n",
       " <gurobi.Var x(8,64)>,\n",
       " <gurobi.Var x(8,65)>,\n",
       " <gurobi.Var x(8,66)>,\n",
       " <gurobi.Var x(8,67)>,\n",
       " <gurobi.Var x(8,68)>,\n",
       " <gurobi.Var x(8,69)>,\n",
       " <gurobi.Var x(8,70)>,\n",
       " <gurobi.Var x(8,71)>,\n",
       " <gurobi.Var x(8,72)>,\n",
       " <gurobi.Var x(8,73)>,\n",
       " <gurobi.Var x(8,74)>,\n",
       " <gurobi.Var x(8,75)>,\n",
       " <gurobi.Var x(8,76)>,\n",
       " <gurobi.Var x(8,77)>,\n",
       " <gurobi.Var x(8,78)>,\n",
       " <gurobi.Var x(8,79)>,\n",
       " <gurobi.Var x(8,80)>,\n",
       " <gurobi.Var x(8,81)>,\n",
       " <gurobi.Var x(8,82)>,\n",
       " <gurobi.Var x(8,83)>,\n",
       " <gurobi.Var x(8,84)>,\n",
       " <gurobi.Var x(8,85)>,\n",
       " <gurobi.Var x(8,86)>,\n",
       " <gurobi.Var x(8,87)>,\n",
       " <gurobi.Var x(8,88)>,\n",
       " <gurobi.Var x(8,89)>,\n",
       " <gurobi.Var x(8,90)>,\n",
       " <gurobi.Var x(8,91)>,\n",
       " <gurobi.Var x(8,92)>,\n",
       " <gurobi.Var x(8,93)>,\n",
       " <gurobi.Var x(8,94)>,\n",
       " <gurobi.Var x(8,95)>,\n",
       " <gurobi.Var x(8,96)>,\n",
       " <gurobi.Var phi(8,0)>,\n",
       " <gurobi.Var phi(8,1)>,\n",
       " <gurobi.Var phi(8,2)>,\n",
       " <gurobi.Var phi(8,3)>,\n",
       " <gurobi.Var phi(8,4)>,\n",
       " <gurobi.Var phi(8,5)>,\n",
       " <gurobi.Var phi(8,6)>,\n",
       " <gurobi.Var phi(8,7)>,\n",
       " <gurobi.Var phi(8,8)>,\n",
       " <gurobi.Var phi(8,9)>,\n",
       " <gurobi.Var phi(8,10)>,\n",
       " <gurobi.Var phi(8,11)>,\n",
       " <gurobi.Var phi(8,12)>,\n",
       " <gurobi.Var phi(8,13)>,\n",
       " <gurobi.Var phi(8,14)>,\n",
       " <gurobi.Var phi(8,15)>,\n",
       " <gurobi.Var phi(8,16)>,\n",
       " <gurobi.Var phi(8,17)>,\n",
       " <gurobi.Var phi(8,18)>,\n",
       " <gurobi.Var phi(8,19)>,\n",
       " <gurobi.Var phi(8,20)>,\n",
       " <gurobi.Var phi(8,21)>,\n",
       " <gurobi.Var phi(8,22)>,\n",
       " <gurobi.Var phi(8,23)>,\n",
       " <gurobi.Var phi(8,24)>,\n",
       " <gurobi.Var phi(8,25)>,\n",
       " <gurobi.Var phi(8,26)>,\n",
       " <gurobi.Var phi(8,27)>,\n",
       " <gurobi.Var phi(8,28)>,\n",
       " <gurobi.Var phi(8,29)>,\n",
       " <gurobi.Var phi(8,30)>,\n",
       " <gurobi.Var phi(8,31)>,\n",
       " <gurobi.Var phi(8,32)>,\n",
       " <gurobi.Var phi(8,33)>,\n",
       " <gurobi.Var phi(8,34)>,\n",
       " <gurobi.Var phi(8,35)>,\n",
       " <gurobi.Var phi(8,36)>,\n",
       " <gurobi.Var phi(8,37)>,\n",
       " <gurobi.Var phi(8,38)>,\n",
       " <gurobi.Var phi(8,39)>,\n",
       " <gurobi.Var phi(8,40)>,\n",
       " <gurobi.Var phi(8,41)>,\n",
       " <gurobi.Var phi(8,42)>,\n",
       " <gurobi.Var phi(8,43)>,\n",
       " <gurobi.Var phi(8,44)>,\n",
       " <gurobi.Var phi(8,45)>,\n",
       " <gurobi.Var phi(8,46)>,\n",
       " <gurobi.Var phi(8,47)>,\n",
       " <gurobi.Var phi(8,48)>,\n",
       " <gurobi.Var phi(8,49)>,\n",
       " <gurobi.Var phi(8,50)>,\n",
       " <gurobi.Var phi(8,51)>,\n",
       " <gurobi.Var phi(8,52)>,\n",
       " <gurobi.Var phi(8,53)>,\n",
       " <gurobi.Var phi(8,54)>,\n",
       " <gurobi.Var phi(8,55)>,\n",
       " <gurobi.Var phi(8,56)>,\n",
       " <gurobi.Var phi(8,57)>,\n",
       " <gurobi.Var phi(8,58)>,\n",
       " <gurobi.Var phi(8,59)>,\n",
       " <gurobi.Var phi(8,60)>,\n",
       " <gurobi.Var phi(8,61)>,\n",
       " <gurobi.Var phi(8,62)>,\n",
       " <gurobi.Var phi(8,63)>,\n",
       " <gurobi.Var phi(8,64)>,\n",
       " <gurobi.Var phi(8,65)>,\n",
       " <gurobi.Var phi(8,66)>,\n",
       " <gurobi.Var phi(8,67)>,\n",
       " <gurobi.Var phi(8,68)>,\n",
       " <gurobi.Var phi(8,69)>,\n",
       " <gurobi.Var phi(8,70)>,\n",
       " <gurobi.Var phi(8,71)>,\n",
       " <gurobi.Var phi(8,72)>,\n",
       " <gurobi.Var phi(8,73)>,\n",
       " <gurobi.Var phi(8,74)>,\n",
       " <gurobi.Var phi(8,75)>,\n",
       " <gurobi.Var phi(8,76)>,\n",
       " <gurobi.Var phi(8,77)>,\n",
       " <gurobi.Var phi(8,78)>,\n",
       " <gurobi.Var phi(8,79)>,\n",
       " <gurobi.Var phi(8,80)>,\n",
       " <gurobi.Var phi(8,81)>,\n",
       " <gurobi.Var phi(8,82)>,\n",
       " <gurobi.Var phi(8,83)>,\n",
       " <gurobi.Var phi(8,84)>,\n",
       " <gurobi.Var phi(8,85)>,\n",
       " <gurobi.Var phi(8,86)>,\n",
       " <gurobi.Var phi(8,87)>,\n",
       " <gurobi.Var phi(8,88)>,\n",
       " <gurobi.Var phi(8,89)>,\n",
       " <gurobi.Var phi(8,90)>,\n",
       " <gurobi.Var phi(8,91)>,\n",
       " <gurobi.Var phi(8,92)>,\n",
       " <gurobi.Var phi(8,93)>,\n",
       " <gurobi.Var phi(8,94)>,\n",
       " <gurobi.Var phi(8,95)>,\n",
       " <gurobi.Var phi(8,96)>]"
      ]
     },
     "execution_count": 70,
     "metadata": {},
     "output_type": "execute_result"
    }
   ],
   "source": [
    "from src.problem import get_model\n",
    "\n",
    "m = get_model([8,], '../data/raw/97_9.jl', coupling=False)\n",
    "m.update()\n",
    "m.getVars()"
   ]
  },
  {
   "cell_type": "code",
   "execution_count": 7,
   "metadata": {},
   "outputs": [
    {
     "data": {
      "text/plain": [
       "2"
      ]
     },
     "execution_count": 7,
     "metadata": {},
     "output_type": "execute_result"
    }
   ],
   "source": [
    "net.readout_op = None\n",
    "logits = list()\n",
    "for i in range(8000, 8002):\n",
    "    g, y = data[i]\n",
    "\n",
    "    with torch.no_grad():\n",
    "        logits.append(InstanceGCN.forward(net, g)[0])\n",
    "len(logits)"
   ]
  },
  {
   "cell_type": "code",
   "execution_count": 8,
   "metadata": {},
   "outputs": [
    {
     "data": {
      "text/plain": [
       "torch.Size([2, 194])"
      ]
     },
     "execution_count": 8,
     "metadata": {},
     "output_type": "execute_result"
    }
   ],
   "source": [
    "torch.stack(logits).shape"
   ]
  },
  {
   "cell_type": "code",
   "execution_count": 26,
   "metadata": {},
   "outputs": [
    {
     "data": {
      "text/plain": [
       "torch.Size([7160])"
      ]
     },
     "execution_count": 26,
     "metadata": {},
     "output_type": "execute_result"
    }
   ],
   "source": [
    "edge_importances[1][('var', 'v2c', 'con')].shape"
   ]
  },
  {
   "cell_type": "code",
   "execution_count": 23,
   "metadata": {},
   "outputs": [
    {
     "data": {
      "image/png": "[encoded data removed]",
      "text/plain": [
       "<Figure size 640x480 with 1 Axes>"
      ]
     },
     "metadata": {},
     "output_type": "display_data"
    }
   ],
   "source": [
    "plt.hist(edge_importance[('var', 'v2c', 'con')], alpha=0.5)\n",
    "plt.hist(edge_importance[('con', 'c2v', 'var')], alpha=0.5)\n",
    "plt.show()"
   ]
  },
  {
   "cell_type": "code",
   "execution_count": 13,
   "metadata": {},
   "outputs": [
    {
     "data": {
      "text/plain": [
       "torch.Size([1000, 7160])"
      ]
     },
     "execution_count": 13,
     "metadata": {},
     "output_type": "execute_result"
    }
   ],
   "source": [
    "with open('../exp1_feat_importances.pkl', 'rb') as f:\n",
    "    feat_importances = pickle.load(f)\n",
    "\n",
    "con_importances = feat_importances['con']\n",
    "var_importances = feat_importances['var']\n",
    "c2v_importances = feat_importances['c2v']\n",
    "v2c_importances = feat_importances['v2c']\n",
    "ys = feat_importances['y']\n",
    "logits = feat_importances['logits'].detach()\n",
    "\n",
    "c2v_importances.shape"
   ]
  },
  {
   "cell_type": "code",
   "execution_count": 52,
   "metadata": {},
   "outputs": [
    {
     "data": {
      "image/png": "[encoded data removed]",
      "text/plain": [
       "<Figure size 640x480 with 1 Axes>"
      ]
     },
     "metadata": {},
     "output_type": "display_data"
    }
   ],
   "source": [
    "plt.plot(logits[ys==0].mean(0), label='y=0')\n",
    "# plt.fill_between(list(range(194)), logits[ys==0].quantile(0.05, 0), logits[ys==0].quantile(0.95, 0), alpha=0.5)\n",
    "plt.fill_between(list(range(194)), logits[ys==0].min(0).values, logits[ys==0].max(0).values, alpha=0.2)\n",
    "plt.plot(logits[ys==1].mean(0), label='y=1')\n",
    "# plt.fill_between(list(range(194)), logits[ys==1].quantile(0.05, 0), logits[ys==1].quantile(0.95, 0), alpha=0.5)\n",
    "plt.fill_between(list(range(194)), logits[ys==1].min(0).values, logits[ys==1].max(0).values, alpha=0.2)\n",
    "plt.legend()\n",
    "plt.ylabel('logit')\n",
    "plt.xlim(0,194)\n",
    "plt.annotate('$x_1$ to $x_{97}$', xy=(0.25, -0.1), xytext=(0.25, -0.2),\n",
    "             xycoords='axes fraction', ha='center', va='bottom',\n",
    "             arrowprops=dict(arrowstyle='-[, widthB=9.0, lengthB=1.0', lw=1.0))\n",
    "plt.annotate('$\\phi_1$ to $\\phi_{97}$', xy=(0.75, -0.1), xytext=(0.75, -0.2),\n",
    "             xycoords='axes fraction', ha='center', va='bottom',\n",
    "             arrowprops=dict(arrowstyle='-[, widthB=9.0, lengthB=1.0', lw=1.0))\n",
    "plt.show()"
   ]
  },
  {
   "cell_type": "code",
   "execution_count": 17,
   "metadata": {},
   "outputs": [
    {
     "data": {
      "text/plain": [
       "[]"
      ]
     },
     "execution_count": 17,
     "metadata": {},
     "output_type": "execute_result"
    },
    {
     "data": {
      "image/png": "[encoded data removed]",
      "text/plain": [
       "<Figure size 640x480 with 1 Axes>"
      ]
     },
     "metadata": {},
     "output_type": "display_data"
    }
   ],
   "source": [
    "plt.barh(list(range(194)), logits.mean(0))\n",
    "plt.plot()"
   ]
  },
  {
   "cell_type": "code",
   "execution_count": 30,
   "metadata": {},
   "outputs": [
    {
     "data": {
      "text/plain": [
       "(array([1.600e+01, 1.240e+02, 6.420e+02, 1.685e+03, 2.289e+03, 1.600e+03,\n",
       "        6.510e+02, 1.360e+02, 1.600e+01, 1.000e+00]),\n",
       " array([0.27333406, 0.27366778, 0.27400151, 0.27433524, 0.27466896,\n",
       "        0.27500266, 0.27533638, 0.27567011, 0.27600384, 0.27633756,\n",
       "        0.27667129]),\n",
       " <BarContainer object of 10 artists>)"
      ]
     },
     "execution_count": 30,
     "metadata": {},
     "output_type": "execute_result"
    },
    {
     "data": {
      "image/png": "[encoded data removed]",
      "text/plain": [
       "<Figure size 640x480 with 1 Axes>"
      ]
     },
     "metadata": {},
     "output_type": "display_data"
    }
   ],
   "source": [
    "plt.hist(v2c_importances.mean(0))"
   ]
  },
  {
   "cell_type": "code",
   "execution_count": 27,
   "metadata": {},
   "outputs": [
    {
     "data": {
      "text/plain": [
       "(tensor([0.2730, 0.2734]), tensor([0.2733, 0.2728]))"
      ]
     },
     "execution_count": 27,
     "metadata": {},
     "output_type": "execute_result"
    }
   ],
   "source": [
    "con_importances[ys > .5].mean(0), con_importances[ys < .5].mean(0)"
   ]
  },
  {
   "cell_type": "code",
   "execution_count": 28,
   "metadata": {},
   "outputs": [
    {
     "data": {
      "text/plain": [
       "(tensor([0.2717, 0.2733]), tensor([0.2722, 0.2737]))"
      ]
     },
     "execution_count": 28,
     "metadata": {},
     "output_type": "execute_result"
    }
   ],
   "source": [
    "var_importances[ys > .5].mean(0), var_importances[ys < .5].mean(0)"
   ]
  },
  {
   "cell_type": "code",
   "execution_count": 37,
   "metadata": {},
   "outputs": [
    {
     "data": {
      "image/png": "[encoded data removed]",
      "text/plain": [
       "<Figure size 640x480 with 1 Axes>"
      ]
     },
     "metadata": {},
     "output_type": "display_data"
    }
   ],
   "source": [
    "import matplotlib.pyplot as plt\n",
    "\n",
    "plt.hist(con_importances[ys>0.5][:,1], alpha=0.5, label='1', bins=20)\n",
    "plt.hist(con_importances[ys<0.5][:,1], alpha=0.5, label='0', bins=20)\n",
    "plt.title('constraint nodes')\n",
    "plt.legend()\n",
    "plt.show()"
   ]
  },
  {
   "cell_type": "code",
   "execution_count": 38,
   "metadata": {},
   "outputs": [
    {
     "data": {
      "image/png": "[encoded data removed]",
      "text/plain": [
       "<Figure size 640x480 with 1 Axes>"
      ]
     },
     "metadata": {},
     "output_type": "display_data"
    }
   ],
   "source": [
    "plt.hist(var_importances[ys>0.5][:,1], alpha=0.5, label='1', bins=20)\n",
    "plt.hist(var_importances[ys<0.5][:,1], alpha=0.5, label='0', bins=20)\n",
    "plt.title('variable nodes')\n",
    "plt.legend()\n",
    "plt.show()"
   ]
  },
  {
   "attachments": {},
   "cell_type": "markdown",
   "metadata": {},
   "source": [
    "## ONTS"
   ]
  },
  {
   "cell_type": "code",
   "execution_count": 60,
   "metadata": {},
   "outputs": [
    {
     "name": "stderr",
     "output_type": "stream",
     "text": [
      "Explain graph: 100%|██████████| 100/100 [00:01<00:00, 58.21it/s]\n",
      "Explain graph: 100%|██████████| 100/100 [00:01<00:00, 57.86it/s]\n"
     ]
    }
   ],
   "source": [
    "import dgl\n",
    "import torch\n",
    "import torch.nn as nn\n",
    "import torch.nn.functional as F\n",
    "from dgl.nn import HeteroGraphConv, GraphConv, EGATConv, SAGEConv\n",
    "\n",
    "\n",
    "class ExplainableInstanceGCN(InstanceGCN):\n",
    "    \"\"\"Suitable for HeteroGNNExplainer.\n",
    "    \"\"\"\n",
    "    def forward(self, graph, feat, eweight=None):\n",
    "        with graph.local_scope():\n",
    "            graph.ndata['x'] = feat\n",
    "            if eweight is not None:\n",
    "                graph.edata['A'] = eweight\n",
    "\n",
    "            return super().forward(graph)\n",
    "\n",
    "\n",
    "net = ExplainableInstanceGCN(2,)\n",
    "net = load_from_wandb(net, '12arvgxb', 'sat-gnn', 'model_best')\n",
    "\n",
    "from dgl.nn.pytorch.explain import HeteroGNNExplainer\n",
    "\n",
    "instances = ['../data/raw/97_9_18.jl', '../data/raw/97_9_19.jl']\n",
    "instances = [Path(f) for f in instances]\n",
    "data = SatelliteFeasibilityDataset(instances)\n",
    "\n",
    "feat_importances = list()\n",
    "edge_importances = list()\n",
    "ys = list()\n",
    "for i in range(2):\n",
    "    g, y = data[i]\n",
    "\n",
    "    explainer = HeteroGNNExplainer(net, 2, )\n",
    "    feat = g.ndata['x']\n",
    "    feat['soc'] = feat['soc'].unsqueeze(-1)\n",
    "    # feat['soc'] = torch.zeros((0,0)).to(feat['soc'].unsqueeze(0))\n",
    "\n",
    "    feat_importance, edge_importance = explainer.explain_graph(g, feat)\n",
    "    feat_importances.append(feat_importance)\n",
    "    edge_importances.append(edge_importance)\n",
    "    ys.append(y)"
   ]
  },
  {
   "cell_type": "code",
   "execution_count": 65,
   "metadata": {},
   "outputs": [
    {
     "data": {
      "text/plain": [
       "dict_keys([('con', 'c2s', 'soc'), ('con', 'c2v', 'var'), ('soc', 's2c', 'con'), ('var', 'v2c', 'con')])"
      ]
     },
     "execution_count": 65,
     "metadata": {},
     "output_type": "execute_result"
    }
   ],
   "source": [
    "edge_importance.keys()"
   ]
  },
  {
   "cell_type": "markdown",
   "metadata": {},
   "source": [
    "# Optimality"
   ]
  },
  {
   "cell_type": "code",
   "execution_count": 11,
   "metadata": {},
   "outputs": [
    {
     "name": "stderr",
     "output_type": "stream",
     "text": [
      "Explain node 1 with type var: 100%|██████████| 100/100 [00:02<00:00, 46.72it/s]\n",
      "Explain node 1 with type var: 100%|██████████| 100/100 [00:02<00:00, 47.27it/s]\n",
      "Explain node 1 with type var: 100%|██████████| 100/100 [00:00<00:00, 112.72it/s]\n",
      "Explain node 1 with type var: 100%|██████████| 100/100 [00:01<00:00, 62.49it/s]\n",
      "Explain node 1 with type var: 100%|██████████| 100/100 [00:01<00:00, 51.91it/s]\n"
     ]
    }
   ],
   "source": [
    "from src.dataset import InstanceEarlyFixingDataset\n",
    "from src.problem import load_instance\n",
    "\n",
    "class NodeExplainableInstanceGCN(ExplainableInstanceGCN):\n",
    "    \"\"\"Suitable for HeteroGNNExplainer.\n",
    "    \"\"\"\n",
    "    def forward(self, graph, feat, eweight=None):\n",
    "        logits = super().forward(graph, feat, eweight)\n",
    "        return {'var': logits.T}\n",
    "\n",
    "net = NodeExplainableInstanceGCN(\n",
    "    2,\n",
    "    n_passes=1,\n",
    "    single_conv_for_both_passes=False,\n",
    "    n_h_feats=19,\n",
    "    conv1='GraphConv',\n",
    "    conv2='SAGEConv',\n",
    "    conv2_kwargs={\n",
    "        'aggregator_type': 'pool',\n",
    "        'feat_drop': .09088,\n",
    "    },\n",
    "    conv3='GraphConv',\n",
    "    readout_op=None,\n",
    ")\n",
    "net = load_from_wandb(net, 'arrf20uc', 'sat-gnn', 'model_last')\n",
    "net.eval()\n",
    "\n",
    "instances_dir = Path('../data/raw')\n",
    "instances = [instances_dir/'97_9_9.jl', instances_dir/'97_9_6.jl']\n",
    "\n",
    "with open('../97_9_opts.pkl', 'rb') as f:\n",
    "    opts = pickle.load(f)\n",
    "\n",
    "objs = [opts[i.name]['obj'] for i in instances]\n",
    "opts = [opts[i.name]['sol'] for i in instances]\n",
    "data = InstanceEarlyFixingDataset(\n",
    "    [load_instance(i) for i in instances],\n",
    "    opts,\n",
    "    samples_per_problem=2**9,\n",
    ")\n",
    "\n",
    "explainer = HeteroGNNExplainer(net, 2)\n",
    "\n",
    "feat_importances = list()\n",
    "ys = list()\n",
    "for i in range(5):\n",
    "    g, y = data[i]\n",
    "\n",
    "    feat = g.ndata['x']\n",
    "    feat['soc'] = feat['soc'].unsqueeze(-1)\n",
    "\n",
    "    feat_importance = explainer.explain_node('var', 1, g, feat)\n",
    "    feat_importances.append(feat_importance)\n",
    "    ys.append(y)"
   ]
  },
  {
   "cell_type": "code",
   "execution_count": null,
   "metadata": {},
   "outputs": [
    {
     "data": {
      "text/plain": [
       "(tensor([1]),\n",
       " Graph(num_nodes={'con': 1529, 'soc': 10, 'var': 307},\n",
       "       num_edges={('con', 'c2s', 'soc'): 20, ('con', 'c2v', 'var'): 8980, ('soc', 's2c', 'con'): 20, ('var', 'v2c', 'con'): 8980},\n",
       "       metagraph=[('con', 'soc', 'c2s'), ('con', 'var', 'c2v'), ('soc', 'con', 's2c'), ('var', 'con', 'v2c')]),\n",
       " {'con': tensor([0.2739, 0.2702]),\n",
       "  'soc': tensor(0.2921),\n",
       "  'var': tensor([0.2676, 0.2818])},\n",
       " {('con',\n",
       "   'c2s',\n",
       "   'soc'): tensor([0.2163, 0.2154, 0.2181, 0.2153, 0.2126, 0.2171, 0.2203, 0.2050, 0.2037,\n",
       "          0.2214, 0.2151, 0.2184, 0.2219, 0.2225, 0.2204, 0.2158, 0.2168, 0.2186,\n",
       "          0.2190, 0.2204]),\n",
       "  ('con',\n",
       "   'c2v',\n",
       "   'var'): tensor([0.2755, 0.2667, 0.2708,  ..., 0.2764, 0.2746, 0.2818]),\n",
       "  ('soc',\n",
       "   's2c',\n",
       "   'con'): tensor([0.2157, 0.2184, 0.2190, 0.8064, 0.2155, 0.2196, 0.2133, 0.2161, 0.2107,\n",
       "          0.2152, 0.2196, 0.2161, 0.2163, 0.2202, 0.2138, 0.2182, 0.2195, 0.2212,\n",
       "          0.2221, 0.2203]),\n",
       "  ('var',\n",
       "   'v2c',\n",
       "   'con'): tensor([0.2699, 0.2762, 0.2736,  ..., 0.2835, 0.2697, 0.2778])})"
      ]
     },
     "metadata": {},
     "output_type": "display_data"
    }
   ],
   "source": [
    "feat_importance"
   ]
  },
  {
   "cell_type": "code",
   "execution_count": 10,
   "metadata": {},
   "outputs": [
    {
     "data": {
      "text/plain": [
       "{'con': tensor([0.2739, 0.2702]),\n",
       " 'soc': tensor(0.2921),\n",
       " 'var': tensor([0.2676, 0.2818])}"
      ]
     },
     "execution_count": 10,
     "metadata": {},
     "output_type": "execute_result"
    }
   ],
   "source": [
    "feat_mask"
   ]
  }
 ],
 "metadata": {
  "kernelspec": {
   "display_name": "gnns",
   "language": "python",
   "name": "python3"
  },
  "language_info": {
   "codemirror_mode": {
    "name": "ipython",
    "version": 3
   },
   "file_extension": ".py",
   "mimetype": "text/x-python",
   "name": "python",
   "nbconvert_exporter": "python",
   "pygments_lexer": "ipython3",
   "version": "3.10.9"
  },
  "orig_nbformat": 4
 },
 "nbformat": 4,
 "nbformat_minor": 2
}
