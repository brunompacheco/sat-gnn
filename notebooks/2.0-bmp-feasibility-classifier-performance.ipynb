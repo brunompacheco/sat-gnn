{
 "cells": [
  {
   "cell_type": "code",
   "execution_count": 1,
   "metadata": {},
   "outputs": [],
   "source": [
    "%load_ext autoreload\n",
    "%autoreload 2\n",
    "\n",
    "import sys\n",
    "sys.path.append('..')  # enable import from src/"
   ]
  },
  {
   "cell_type": "code",
   "execution_count": 32,
   "metadata": {},
   "outputs": [],
   "source": [
    "from pathlib import Path\n",
    "import torch\n",
    "\n",
    "from torcheval.metrics import BinaryF1Score, BinaryAccuracy\n",
    "from torch.utils.data.sampler import SubsetRandomSampler\n",
    "from dgl.dataloading import GraphDataLoader\n",
    "\n",
    "from src.net import InstanceGCN\n",
    "from src.utils import load_from_wandb\n",
    "from src.dataset import JobFeasibilityDataset, SatelliteFeasibilityDataset"
   ]
  },
  {
   "cell_type": "code",
   "execution_count": 30,
   "metadata": {},
   "outputs": [
    {
     "data": {
      "text/plain": [
       "(tensor(0.8300), tensor(0.8172))"
      ]
     },
     "execution_count": 30,
     "metadata": {},
     "output_type": "execute_result"
    }
   ],
   "source": [
    "net = InstanceGCN(2,)\n",
    "net = load_from_wandb(net, 'gebp7q0y', 'sat-gnn', 'model_best')\n",
    "\n",
    "# only last instance\n",
    "data = JobFeasibilityDataset('../data/raw/97_9.jl')\n",
    "sampler = SubsetRandomSampler(torch.arange(8000, len(data)))\n",
    "\n",
    "dl = GraphDataLoader(data, sampler=sampler, batch_size=2**5)\n",
    "\n",
    "acc = BinaryAccuracy()\n",
    "f1 = BinaryF1Score()\n",
    "\n",
    "net.eval()\n",
    "with torch.no_grad():\n",
    "    for X, y in dl:\n",
    "        y_hat = torch.sigmoid(net(X)).squeeze(1)\n",
    "\n",
    "        acc.update(y_hat, y)\n",
    "        f1.update(y_hat, y)\n",
    "acc.compute(), f1.compute()"
   ]
  },
  {
   "cell_type": "code",
   "execution_count": 34,
   "metadata": {},
   "outputs": [
    {
     "data": {
      "text/plain": [
       "(tensor(0.7515), tensor(0.7956))"
      ]
     },
     "execution_count": 34,
     "metadata": {},
     "output_type": "execute_result"
    }
   ],
   "source": [
    "net = InstanceGCN(2,)\n",
    "net = load_from_wandb(net, '12arvgxb', 'sat-gnn', 'model_best')\n",
    "\n",
    "# only last instance\n",
    "data = SatelliteFeasibilityDataset(Path('../data/raw/').glob('97_9*.jl'))\n",
    "sampler = SubsetRandomSampler(torch.arange(19*1000, len(data)))\n",
    "\n",
    "dl = GraphDataLoader(data, sampler=sampler, batch_size=2**5)\n",
    "\n",
    "acc = BinaryAccuracy()\n",
    "f1 = BinaryF1Score()\n",
    "\n",
    "net.eval()\n",
    "with torch.no_grad():\n",
    "    for X, y in dl:\n",
    "        y_hat = torch.sigmoid(net(X)).squeeze(1)\n",
    "\n",
    "        acc.update(y_hat, y)\n",
    "        f1.update(y_hat, y)\n",
    "acc.compute(), f1.compute()"
   ]
  }
 ],
 "metadata": {
  "kernelspec": {
   "display_name": "gnns",
   "language": "python",
   "name": "python3"
  },
  "language_info": {
   "codemirror_mode": {
    "name": "ipython",
    "version": 3
   },
   "file_extension": ".py",
   "mimetype": "text/x-python",
   "name": "python",
   "nbconvert_exporter": "python",
   "pygments_lexer": "ipython3",
   "version": "3.10.9"
  },
  "orig_nbformat": 4
 },
 "nbformat": 4,
 "nbformat_minor": 2
}
