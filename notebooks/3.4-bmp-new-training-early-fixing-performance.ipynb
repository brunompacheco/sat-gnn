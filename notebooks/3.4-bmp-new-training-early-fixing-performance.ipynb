{
 "cells": [
  {
   "cell_type": "code",
   "execution_count": 1,
   "metadata": {},
   "outputs": [],
   "source": [
    "%load_ext autoreload\n",
    "%autoreload 2\n",
    "\n",
    "import sys\n",
    "sys.path.append('..')  # enable import from src/"
   ]
  },
  {
   "cell_type": "code",
   "execution_count": 4,
   "metadata": {},
   "outputs": [],
   "source": [
    "import json\n",
    "import pickle\n",
    "from copy import deepcopy\n",
    "from pathlib import Path\n",
    "\n",
    "import gurobipy\n",
    "from gurobipy import GRB\n",
    "import dgl\n",
    "import numpy as np\n",
    "import torch\n",
    "import matplotlib.pyplot as plt\n",
    "\n",
    "from src.problem import get_model\n",
    "from src.dataset import InstanceDataset\n",
    "from src.net import InstanceGCN\n",
    "from src.utils import load_from_wandb"
   ]
  },
  {
   "cell_type": "code",
   "execution_count": 8,
   "metadata": {},
   "outputs": [
    {
     "data": {
      "text/plain": [
       "<gurobi.Model MIP instance Unnamed: 5913 constrs, 2037 vars, Parameter changes: TimeLimit=60.0, Username=(user-defined), LogToConsole=0>"
      ]
     },
     "execution_count": 8,
     "metadata": {},
     "output_type": "execute_result"
    }
   ],
   "source": [
    "instances_dir = Path('../data/raw')\n",
    "instances_fpaths = list(instances_dir.glob('97_*.json'))\n",
    "\n",
    "net = InstanceGCN(1, readout_op=None)\n",
    "net = load_from_wandb(net, 'vty6z1q3', 'sat-gnn', 'model_last')\n",
    "net.eval()\n",
    "\n",
    "ds = InstanceDataset(instances_fpaths, split='val', return_model=True)\n",
    "\n",
    "g, _, m = ds[0]\n",
    "m"
   ]
  },
  {
   "cell_type": "code",
   "execution_count": 33,
   "metadata": {},
   "outputs": [],
   "source": [
    "def get_ef_times_n_vars(graph, model, net, name=None, plot=True, timeout=60):\n",
    "    vars_names = np.core.defchararray.array([v.getAttr(GRB.Attr.VarName) for v in model.getVars()])\n",
    "    vars_names = vars_names[(vars_names.find('x(') >= 0) | (vars_names.find('phi(') >= 0)]\n",
    "\n",
    "    # baseline results\n",
    "    model_ = model.copy()\n",
    "    model_.setParam('TimeLimit', timeout)\n",
    "    model_.update()\n",
    "    model_.optimize()\n",
    "    baseline_runtime = model_.Runtime\n",
    "    baseline_obj = model_.ObjVal\n",
    "    baseline_gap = model_.MIPGap\n",
    "\n",
    "    with torch.no_grad():\n",
    "        x_hat = torch.sigmoid(net(graph)).squeeze(0)\n",
    "\n",
    "    most_certain_idx  = (x_hat - 0.5).abs().sort(descending=True).indices\n",
    "\n",
    "\n",
    "    runtimes = list()\n",
    "    objs = list()\n",
    "    gaps = list()\n",
    "    ns = list()\n",
    "    for n in [0, 50, 100, 150, 200, 300, 500, 1000, len(x_hat)]:\n",
    "    # for n in [0, 50, 100, 150]:\n",
    "        if n == 0:\n",
    "            runtimes.append(baseline_runtime)\n",
    "            objs.append(baseline_obj)\n",
    "            gaps.append(baseline_gap)\n",
    "            ns.append(n)\n",
    "            continue\n",
    "\n",
    "        fixed_x_hat = (x_hat[most_certain_idx[:n]] > .5).to(x_hat)\n",
    "        fixed_vars_names = vars_names[most_certain_idx[:n]]\n",
    "\n",
    "        # fix variables\n",
    "        model_ = model.copy()\n",
    "        for fixed_var_name, fixed_var_X in zip(fixed_vars_names, fixed_x_hat):\n",
    "            model_.getVarByName(fixed_var_name).lb = fixed_var_X\n",
    "            model_.getVarByName(fixed_var_name).ub = fixed_var_X\n",
    "\n",
    "        model_.setParam('TimeLimit', timeout)\n",
    "        model_.update()\n",
    "        model_.optimize()\n",
    "\n",
    "        if model_.status not in [2, 9]:\n",
    "            print('early fixing with n=',n,' made the optimizatio terminate with status ',model_.status)\n",
    "            break\n",
    "\n",
    "        runtimes.append(model_.Runtime)\n",
    "        objs.append(model_.ObjVal)\n",
    "        gaps.append(model_.MIPGap)\n",
    "        ns.append(n)\n",
    "\n",
    "    objs = [100 * o / max(objs) for o in objs]\n",
    "\n",
    "    if plot:\n",
    "        fig, ax = plt.subplots()\n",
    "        ax.plot(ns, runtimes, '.-', label='Runtime')\n",
    "        # ax.set_xlim((0, x_opt.shape[0]))\n",
    "        ax.grid()\n",
    "        ax.legend(loc=1)\n",
    "\n",
    "        ax.set_title('Early fixing performance '+str(name))\n",
    "        ax.set_xlabel('# fixed variables')\n",
    "        ax.set_ylabel('Runtime')\n",
    "\n",
    "        ax.set_xlim(0,max(ns))\n",
    "\n",
    "        obj_ax = ax.twinx()\n",
    "        obj_ax.plot(ns, objs, '.-', c='r', label='Objective')\n",
    "        obj_ax.legend(loc=4)\n",
    "        obj_ax.set_ylim(min(objs), 100)\n",
    "        obj_ax.set_ylabel('Objective')\n",
    "\n",
    "        fig.show()\n",
    "\n",
    "    return ns, runtimes, objs, gaps"
   ]
  },
  {
   "cell_type": "code",
   "execution_count": 43,
   "metadata": {},
   "outputs": [
    {
     "data": {
      "text/plain": [
       "(9, 97)"
      ]
     },
     "execution_count": 43,
     "metadata": {},
     "output_type": "execute_result"
    }
   ],
   "source": [
    "len(js), len(ts)"
   ]
  },
  {
   "cell_type": "code",
   "execution_count": 41,
   "metadata": {},
   "outputs": [],
   "source": [
    "x_vars = [v.varname for v in m.getVars() if 'x(' in v.varname]\n",
    "js = {int(var[len('x('):].split(',')[0]) for var in x_vars}\n",
    "ts = {int(var.split(',')[1][:-1]) for var in x_vars}"
   ]
  },
  {
   "cell_type": "code",
   "execution_count": 35,
   "metadata": {},
   "outputs": [
    {
     "name": "stdout",
     "output_type": "stream",
     "text": [
      "early fixing with n= 500  made the optimizatio terminate with status  3\n"
     ]
    },
    {
     "data": {
      "text/plain": [
       "([0, 50, 100, 150, 200, 300],\n",
       " [10.012699842453003,\n",
       "  10.0067880153656,\n",
       "  10.004565954208374,\n",
       "  10.008992910385132,\n",
       "  10.008025884628296,\n",
       "  10.010357141494751],\n",
       " [100.0, 100.0, 100.0, 100.0, 100.0, 100.0],\n",
       " [0.007909948281107393,\n",
       "  0.004867660480681472,\n",
       "  0.0027380590203833284,\n",
       "  0.000608457560085184,\n",
       "  0.000304228780042592,\n",
       "  0.000304228780042592])"
      ]
     },
     "execution_count": 35,
     "metadata": {},
     "output_type": "execute_result"
    }
   ],
   "source": [
    "g, _, m = ds[2]\n",
    "\n",
    "ns, runtimes, objs, gaps = get_ef_times_n_vars(g, m, net, timeout=10, plot=False)\n",
    "ns, runtimes, objs, gaps"
   ]
  }
 ],
 "metadata": {
  "kernelspec": {
   "display_name": "gnns",
   "language": "python",
   "name": "python3"
  },
  "language_info": {
   "codemirror_mode": {
    "name": "ipython",
    "version": 3
   },
   "file_extension": ".py",
   "mimetype": "text/x-python",
   "name": "python",
   "nbconvert_exporter": "python",
   "pygments_lexer": "ipython3",
   "version": "3.10.8"
  },
  "orig_nbformat": 4,
  "vscode": {
   "interpreter": {
    "hash": "2b5834c5769e5fff224335f9b3e429823ee0ced96648f4497a08815e8d6b510a"
   }
  }
 },
 "nbformat": 4,
 "nbformat_minor": 2
}
