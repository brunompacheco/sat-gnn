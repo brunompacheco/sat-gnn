{
 "cells": [
  {
   "cell_type": "code",
   "execution_count": 1,
   "metadata": {},
   "outputs": [],
   "source": [
    "%load_ext autoreload\n",
    "%autoreload 2\n",
    "\n",
    "import sys\n",
    "sys.path.append('..')  # enable import from src/"
   ]
  },
  {
   "cell_type": "code",
   "execution_count": 2,
   "metadata": {},
   "outputs": [],
   "source": [
    "from pathlib import Path\n",
    "\n",
    "import numpy as np\n",
    "import torch\n",
    "\n",
    "from tqdm import tqdm\n",
    "\n",
    "from src.net import OptSatGNN\n",
    "from src.utils import load_from_wandb"
   ]
  },
  {
   "cell_type": "code",
   "execution_count": 9,
   "metadata": {},
   "outputs": [],
   "source": [
    "run_id = '64o2jqgs'\n",
    "\n",
    "net = OptSatGNN(\n",
    "    n_h_feats=256,\n",
    "    single_conv_for_both_passes=True,\n",
    "    n_passes=3,\n",
    "    conv1='SAGEConv',\n",
    "    # conv1_kwargs=dict(),\n",
    "    conv2=None,\n",
    "    conv2_kwargs=dict(),\n",
    ")\n",
    "\n",
    "net = load_from_wandb(net, run_id, 'sat-gnn')"
   ]
  },
  {
   "cell_type": "code",
   "execution_count": 13,
   "metadata": {},
   "outputs": [],
   "source": [
    "run_id = 'ae645j8u'\n",
    "\n",
    "net = OptSatGNN(\n",
    "    n_h_feats=64,\n",
    "    single_conv_for_both_passes=False,\n",
    "    n_passes=3,\n",
    "    conv1='SAGEConv',\n",
    "    # conv1_kwargs=dict(),\n",
    "    conv2=None,\n",
    "    conv2_kwargs=dict(),\n",
    ")\n",
    "\n",
    "net = load_from_wandb(net, run_id, 'sat-gnn')"
   ]
  },
  {
   "cell_type": "code",
   "execution_count": 14,
   "metadata": {},
   "outputs": [],
   "source": [
    "run_id = 'uiwvukto'\n",
    "\n",
    "net = OptSatGNN(\n",
    "    n_h_feats=64,\n",
    "    single_conv_for_both_passes=True,\n",
    "    n_passes=3,\n",
    "    conv1='SAGEConv',\n",
    "    # conv1_kwargs=dict(),\n",
    "    conv2=None,\n",
    "    conv2_kwargs=dict(),\n",
    ")\n",
    "\n",
    "net = load_from_wandb(net, run_id, 'sat-gnn')"
   ]
  },
  {
   "cell_type": "code",
   "execution_count": 20,
   "metadata": {},
   "outputs": [
    {
     "name": "stderr",
     "output_type": "stream",
     "text": [
      "  0%|          | 0/6000 [00:00<?, ?it/s]"
     ]
    },
    {
     "name": "stderr",
     "output_type": "stream",
     "text": [
      "100%|██████████| 6000/6000 [00:52<00:00, 113.32it/s]\n"
     ]
    }
   ],
   "source": [
    "Y = list()\n",
    "P_hat = list()\n",
    "for i in tqdm(list(range(len(test_data)))):\n",
    "    g, y = test_data[i]\n",
    "\n",
    "    with torch.no_grad():\n",
    "        p_hat = torch.sigmoid(net(g)).item()\n",
    "    \n",
    "    Y.append(y)\n",
    "    P_hat.append(p_hat)"
   ]
  },
  {
   "cell_type": "code",
   "execution_count": 23,
   "metadata": {},
   "outputs": [],
   "source": [
    "P_hat = np.array(P_hat).reshape(6,1000)\n",
    "Y = np.array(Y).reshape(6,1000)"
   ]
  },
  {
   "cell_type": "code",
   "execution_count": 30,
   "metadata": {},
   "outputs": [
    {
     "data": {
      "text/plain": [
       "array([[1, 1, 1, ..., 0, 0, 0],\n",
       "       [1, 1, 1, ..., 0, 0, 0],\n",
       "       [1, 1, 1, ..., 0, 0, 0],\n",
       "       [1, 1, 1, ..., 0, 0, 0],\n",
       "       [1, 1, 1, ..., 0, 0, 0],\n",
       "       [1, 1, 1, ..., 0, 0, 0]])"
      ]
     },
     "execution_count": 30,
     "metadata": {},
     "output_type": "execute_result"
    }
   ],
   "source": [
    "Y_hat = (P_hat > 0.5).astype(Y.dtype)\n",
    "Y_hat"
   ]
  },
  {
   "cell_type": "code",
   "execution_count": 38,
   "metadata": {},
   "outputs": [
    {
     "name": "stdout",
     "output_type": "stream",
     "text": [
      "20\n",
      "1.0\n",
      "1.0\n",
      "1.0\n",
      "1.0\n",
      "22\n",
      "0.875\n",
      "1.0\n",
      "0.5\n",
      "1.0\n",
      "24\n",
      "1.0\n",
      "1.0\n",
      "1.0\n",
      "1.0\n"
     ]
    }
   ],
   "source": [
    "H = (Y_hat == Y).astype(int)\n",
    "\n",
    "H = {\n",
    "    20: H[:2],\n",
    "    22: H[2:4],\n",
    "    24: H[4:],\n",
    "}\n",
    "\n",
    "H_opt = {s: H[s][:,:500] for s in H.keys()}\n",
    "H_dirty = {s: H[s][:,500:-250] for s in H.keys()}\n",
    "H_random = {s: H[s][:,-250:] for s in H.keys()}\n",
    "\n",
    "for size in H.keys():\n",
    "    print(size)\n",
    "    print(H[size].sum() / H[size].size)\n",
    "    print(H_opt[size].sum() / H_opt[size].size)\n",
    "    print(H_dirty[size].sum() / H_dirty[size].size)\n",
    "    print(H_random[size].sum() / H_random[size].size)"
   ]
  }
 ],
 "metadata": {
  "kernelspec": {
   "display_name": "sat-gnn",
   "language": "python",
   "name": "python3"
  },
  "language_info": {
   "codemirror_mode": {
    "name": "ipython",
    "version": 3
   },
   "file_extension": ".py",
   "mimetype": "text/x-python",
   "name": "python",
   "nbconvert_exporter": "python",
   "pygments_lexer": "ipython3",
   "version": "3.10.9"
  },
  "orig_nbformat": 4
 },
 "nbformat": 4,
 "nbformat_minor": 2
}
