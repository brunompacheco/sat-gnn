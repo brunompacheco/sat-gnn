{
 "cells": [
  {
   "cell_type": "code",
   "execution_count": 3,
   "metadata": {},
   "outputs": [
    {
     "name": "stdout",
     "output_type": "stream",
     "text": [
      "The autoreload extension is already loaded. To reload it, use:\n",
      "  %reload_ext autoreload\n"
     ]
    }
   ],
   "source": [
    "%load_ext autoreload\n",
    "%autoreload 2\n",
    "\n",
    "import sys\n",
    "sys.path.append('..')  # enable import from src/"
   ]
  },
  {
   "cell_type": "code",
   "execution_count": 4,
   "metadata": {},
   "outputs": [],
   "source": [
    "from pathlib import Path\n",
    "\n",
    "import numpy as np\n",
    "import torch\n",
    "\n",
    "from tqdm import tqdm\n",
    "\n",
    "from src.net import OptSatGNN\n",
    "from src.utils import load_from_wandb"
   ]
  },
  {
   "cell_type": "markdown",
   "metadata": {},
   "source": [
    "# Multi-target"
   ]
  },
  {
   "cell_type": "code",
   "execution_count": 9,
   "metadata": {},
   "outputs": [],
   "source": [
    "run_id = '64o2jqgs'\n",
    "\n",
    "net = OptSatGNN(\n",
    "    n_h_feats=256,\n",
    "    single_conv_for_both_passes=True,\n",
    "    n_passes=3,\n",
    "    conv1='SAGEConv',\n",
    "    # conv1_kwargs=dict(),\n",
    "    conv2=None,\n",
    "    conv2_kwargs=dict(),\n",
    ")\n",
    "\n",
    "net = load_from_wandb(net, run_id, 'sat-gnn')"
   ]
  },
  {
   "cell_type": "code",
   "execution_count": 13,
   "metadata": {},
   "outputs": [],
   "source": [
    "run_id = 'ae645j8u'\n",
    "\n",
    "net = OptSatGNN(\n",
    "    n_h_feats=64,\n",
    "    single_conv_for_both_passes=False,\n",
    "    n_passes=3,\n",
    "    conv1='SAGEConv',\n",
    "    # conv1_kwargs=dict(),\n",
    "    conv2=None,\n",
    "    conv2_kwargs=dict(),\n",
    ")\n",
    "\n",
    "net = load_from_wandb(net, run_id, 'sat-gnn')"
   ]
  },
  {
   "cell_type": "code",
   "execution_count": 14,
   "metadata": {},
   "outputs": [],
   "source": [
    "run_id = 'uiwvukto'\n",
    "\n",
    "net = OptSatGNN(\n",
    "    n_h_feats=64,\n",
    "    single_conv_for_both_passes=True,\n",
    "    n_passes=3,\n",
    "    conv1='SAGEConv',\n",
    "    # conv1_kwargs=dict(),\n",
    "    conv2=None,\n",
    "    conv2_kwargs=dict(),\n",
    ")\n",
    "\n",
    "net = load_from_wandb(net, run_id, 'sat-gnn')"
   ]
  },
  {
   "cell_type": "markdown",
   "metadata": {},
   "source": [
    "# Optimals"
   ]
  },
  {
   "cell_type": "code",
   "execution_count": null,
   "metadata": {},
   "outputs": [],
   "source": [
    "run_id = 'ewogbral'\n",
    "\n",
    "net = OptSatGNN(\n",
    "    n_h_feats=128,\n",
    "    single_conv_for_both_passes=False,\n",
    "    n_passes=1,\n",
    "    conv1='SAGEConv',\n",
    "    # conv1_kwargs=dict(),\n",
    "    conv2=None,\n",
    "    conv2_kwargs=dict(),\n",
    ")\n",
    "\n",
    "net = load_from_wandb(net, run_id, 'sat-gnn')"
   ]
  },
  {
   "cell_type": "code",
   "execution_count": 10,
   "metadata": {},
   "outputs": [],
   "source": [
    "run_id = '4d1qdjmz'\n",
    "\n",
    "net = OptSatGNN(\n",
    "    n_h_feats=64,\n",
    "    single_conv_for_both_passes=True,\n",
    "    n_passes=2,\n",
    "    conv1='SAGEConv',\n",
    "    # conv1_kwargs=dict(),\n",
    "    conv2=None,\n",
    "    conv2_kwargs=dict(),\n",
    ")\n",
    "\n",
    "net = load_from_wandb(net, run_id, 'sat-gnn')"
   ]
  },
  {
   "cell_type": "code",
   "execution_count": null,
   "metadata": {},
   "outputs": [],
   "source": [
    "run_id = '3ymrl9ve'\n",
    "\n",
    "net = OptSatGNN(\n",
    "    n_h_feats=64,\n",
    "    single_conv_for_both_passes=False,\n",
    "    n_passes=2,\n",
    "    conv1='GraphConv',\n",
    "    conv1_kwargs=dict(),\n",
    "    conv2=None,\n",
    "    conv2_kwargs=dict(),\n",
    ")\n",
    "\n",
    "net = load_from_wandb(net, run_id, 'sat-gnn')"
   ]
  }
 ],
 "metadata": {
  "kernelspec": {
   "display_name": "sat-gnn",
   "language": "python",
   "name": "python3"
  },
  "language_info": {
   "codemirror_mode": {
    "name": "ipython",
    "version": 3
   },
   "file_extension": ".py",
   "mimetype": "text/x-python",
   "name": "python",
   "nbconvert_exporter": "python",
   "pygments_lexer": "ipython3",
   "version": "3.10.8"
  },
  "orig_nbformat": 4
 },
 "nbformat": 4,
 "nbformat_minor": 2
}
